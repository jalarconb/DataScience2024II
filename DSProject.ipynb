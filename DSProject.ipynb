{
  "cells": [
    {
      "cell_type": "markdown",
      "metadata": {
        "id": "BnFhx67N3MYm"
      },
      "source": [
        "<p style=\"font-size:50px;color:gold\">\n",
        "<b>Intro to Data Science Project</b>\n",
        "</p>\n",
        "\n",
        "**_Juan Esteban Alarcón Bravo_**\n",
        "\n",
        "<br/>\n",
        "\n",
        "Analyzing organ donation data from Bogotá, Colombia, from 2015 to 2024.\n",
        "\n",
        "<br/>\n",
        "\n",
        "**Table of Contents**\n",
        "\n",
        "1. [Imports and Cleanup](#1-imports-and-cleanup)\n",
        "    - [Libraries](#11-libraries)\n",
        "    - [Data](#12-data)\n",
        "99. [Exhibits](#x-exhibits)"
      ]
    },
    {
      "cell_type": "markdown",
      "metadata": {
        "id": "B12njQ_43MYp"
      },
      "source": [
        "<br/>\n",
        "\n",
        "# **1 - Imports and Cleanup**\n",
        "\n",
        "To begin, we need to import and setup the necessary libraries, load the dataset, and perform some data cleaning."
      ]
    },
    {
      "cell_type": "markdown",
      "metadata": {
        "id": "3rRnQKA53MYp"
      },
      "source": [
        "## 1.1 - Libraries"
      ]
    },
    {
      "cell_type": "code",
      "execution_count": 43,
      "metadata": {
        "id": "XLYPhYDl3MYq"
      },
      "outputs": [],
      "source": [
        "# Import necessary libraries\n",
        "import numpy as np\n",
        "import pandas as pd\n",
        "import matplotlib.pyplot as plt\n",
        "from sklearn.model_selection import train_test_split\n",
        "\n",
        "# ------------------------------------------------------------------------------\n",
        "\n",
        "# Set pandas display options\n",
        "pd.set_option('display.width', 1000)\n",
        "\n",
        "# Define custom colormap based on Set2\n",
        "colors = plt.colormaps['Set2'].colors\n",
        "colors_ext = plt.colormaps['tab20'].colors\n",
        "\n",
        "# Set default colormap for Matplotlib\n",
        "plt.rcParams['axes.prop_cycle'] = plt.cycler(color=colors)"
      ]
    },
    {
      "cell_type": "markdown",
      "metadata": {
        "id": "C1UQU2IB3MYr"
      },
      "source": [
        "## 1.2 - Data\n",
        "\n",
        "Here, we address the problem of data cleanup, setup, and general preprocessing."
      ]
    },
    {
      "cell_type": "markdown",
      "source": [
        "### *1.2.1 - Import*\n",
        "\n",
        "First, we **import** the data from the CSV file into a pandas `DataFrame` and check the first rows, null values and the column names & data types."
      ],
      "metadata": {
        "id": "zOewhyBhgKiE"
      }
    },
    {
      "cell_type": "code",
      "execution_count": 44,
      "metadata": {
        "colab": {
          "base_uri": "https://localhost:8080/",
          "height": 206
        },
        "id": "IemUSUhtxrrK",
        "outputId": "d3fbb82f-12b4-4ca2-f741-0845449c0309"
      },
      "outputs": [
        {
          "output_type": "execute_result",
          "data": {
            "text/plain": [
              "    Año   Proceso   Órgano    Sexo Grupo de edad Cantidad     Tipo de donante\n",
              "0  2015  Donación    Riñón  Hombre     No aplica       39       Donante vivo \n",
              "1  2015  Donación    Riñón   Mujer     No aplica       32       Donante vivo \n",
              "2  2015  Donación    Riñón  Hombre     No aplica       70  Donante cadaverico\n",
              "3  2015  Donación    Riñón   Mujer     No aplica       48  Donante cadaverico\n",
              "4  2015  Donación  Corazón  Hombre     No aplica        0       Donante vivo "
            ],
            "text/html": [
              "\n",
              "  <div id=\"df-e808cce0-5734-4700-bd48-1a6f6951cbb2\" class=\"colab-df-container\">\n",
              "    <div>\n",
              "<style scoped>\n",
              "    .dataframe tbody tr th:only-of-type {\n",
              "        vertical-align: middle;\n",
              "    }\n",
              "\n",
              "    .dataframe tbody tr th {\n",
              "        vertical-align: top;\n",
              "    }\n",
              "\n",
              "    .dataframe thead th {\n",
              "        text-align: right;\n",
              "    }\n",
              "</style>\n",
              "<table border=\"1\" class=\"dataframe\">\n",
              "  <thead>\n",
              "    <tr style=\"text-align: right;\">\n",
              "      <th></th>\n",
              "      <th>Año</th>\n",
              "      <th>Proceso</th>\n",
              "      <th>Órgano</th>\n",
              "      <th>Sexo</th>\n",
              "      <th>Grupo de edad</th>\n",
              "      <th>Cantidad</th>\n",
              "      <th>Tipo de donante</th>\n",
              "    </tr>\n",
              "  </thead>\n",
              "  <tbody>\n",
              "    <tr>\n",
              "      <th>0</th>\n",
              "      <td>2015</td>\n",
              "      <td>Donación</td>\n",
              "      <td>Riñón</td>\n",
              "      <td>Hombre</td>\n",
              "      <td>No aplica</td>\n",
              "      <td>39</td>\n",
              "      <td>Donante vivo</td>\n",
              "    </tr>\n",
              "    <tr>\n",
              "      <th>1</th>\n",
              "      <td>2015</td>\n",
              "      <td>Donación</td>\n",
              "      <td>Riñón</td>\n",
              "      <td>Mujer</td>\n",
              "      <td>No aplica</td>\n",
              "      <td>32</td>\n",
              "      <td>Donante vivo</td>\n",
              "    </tr>\n",
              "    <tr>\n",
              "      <th>2</th>\n",
              "      <td>2015</td>\n",
              "      <td>Donación</td>\n",
              "      <td>Riñón</td>\n",
              "      <td>Hombre</td>\n",
              "      <td>No aplica</td>\n",
              "      <td>70</td>\n",
              "      <td>Donante cadaverico</td>\n",
              "    </tr>\n",
              "    <tr>\n",
              "      <th>3</th>\n",
              "      <td>2015</td>\n",
              "      <td>Donación</td>\n",
              "      <td>Riñón</td>\n",
              "      <td>Mujer</td>\n",
              "      <td>No aplica</td>\n",
              "      <td>48</td>\n",
              "      <td>Donante cadaverico</td>\n",
              "    </tr>\n",
              "    <tr>\n",
              "      <th>4</th>\n",
              "      <td>2015</td>\n",
              "      <td>Donación</td>\n",
              "      <td>Corazón</td>\n",
              "      <td>Hombre</td>\n",
              "      <td>No aplica</td>\n",
              "      <td>0</td>\n",
              "      <td>Donante vivo</td>\n",
              "    </tr>\n",
              "  </tbody>\n",
              "</table>\n",
              "</div>\n",
              "    <div class=\"colab-df-buttons\">\n",
              "\n",
              "  <div class=\"colab-df-container\">\n",
              "    <button class=\"colab-df-convert\" onclick=\"convertToInteractive('df-e808cce0-5734-4700-bd48-1a6f6951cbb2')\"\n",
              "            title=\"Convert this dataframe to an interactive table.\"\n",
              "            style=\"display:none;\">\n",
              "\n",
              "  <svg xmlns=\"http://www.w3.org/2000/svg\" height=\"24px\" viewBox=\"0 -960 960 960\">\n",
              "    <path d=\"M120-120v-720h720v720H120Zm60-500h600v-160H180v160Zm220 220h160v-160H400v160Zm0 220h160v-160H400v160ZM180-400h160v-160H180v160Zm440 0h160v-160H620v160ZM180-180h160v-160H180v160Zm440 0h160v-160H620v160Z\"/>\n",
              "  </svg>\n",
              "    </button>\n",
              "\n",
              "  <style>\n",
              "    .colab-df-container {\n",
              "      display:flex;\n",
              "      gap: 12px;\n",
              "    }\n",
              "\n",
              "    .colab-df-convert {\n",
              "      background-color: #E8F0FE;\n",
              "      border: none;\n",
              "      border-radius: 50%;\n",
              "      cursor: pointer;\n",
              "      display: none;\n",
              "      fill: #1967D2;\n",
              "      height: 32px;\n",
              "      padding: 0 0 0 0;\n",
              "      width: 32px;\n",
              "    }\n",
              "\n",
              "    .colab-df-convert:hover {\n",
              "      background-color: #E2EBFA;\n",
              "      box-shadow: 0px 1px 2px rgba(60, 64, 67, 0.3), 0px 1px 3px 1px rgba(60, 64, 67, 0.15);\n",
              "      fill: #174EA6;\n",
              "    }\n",
              "\n",
              "    .colab-df-buttons div {\n",
              "      margin-bottom: 4px;\n",
              "    }\n",
              "\n",
              "    [theme=dark] .colab-df-convert {\n",
              "      background-color: #3B4455;\n",
              "      fill: #D2E3FC;\n",
              "    }\n",
              "\n",
              "    [theme=dark] .colab-df-convert:hover {\n",
              "      background-color: #434B5C;\n",
              "      box-shadow: 0px 1px 3px 1px rgba(0, 0, 0, 0.15);\n",
              "      filter: drop-shadow(0px 1px 2px rgba(0, 0, 0, 0.3));\n",
              "      fill: #FFFFFF;\n",
              "    }\n",
              "  </style>\n",
              "\n",
              "    <script>\n",
              "      const buttonEl =\n",
              "        document.querySelector('#df-e808cce0-5734-4700-bd48-1a6f6951cbb2 button.colab-df-convert');\n",
              "      buttonEl.style.display =\n",
              "        google.colab.kernel.accessAllowed ? 'block' : 'none';\n",
              "\n",
              "      async function convertToInteractive(key) {\n",
              "        const element = document.querySelector('#df-e808cce0-5734-4700-bd48-1a6f6951cbb2');\n",
              "        const dataTable =\n",
              "          await google.colab.kernel.invokeFunction('convertToInteractive',\n",
              "                                                    [key], {});\n",
              "        if (!dataTable) return;\n",
              "\n",
              "        const docLinkHtml = 'Like what you see? Visit the ' +\n",
              "          '<a target=\"_blank\" href=https://colab.research.google.com/notebooks/data_table.ipynb>data table notebook</a>'\n",
              "          + ' to learn more about interactive tables.';\n",
              "        element.innerHTML = '';\n",
              "        dataTable['output_type'] = 'display_data';\n",
              "        await google.colab.output.renderOutput(dataTable, element);\n",
              "        const docLink = document.createElement('div');\n",
              "        docLink.innerHTML = docLinkHtml;\n",
              "        element.appendChild(docLink);\n",
              "      }\n",
              "    </script>\n",
              "  </div>\n",
              "\n",
              "\n",
              "<div id=\"df-d8ae376a-0f42-4e33-b958-8b992968e9d9\">\n",
              "  <button class=\"colab-df-quickchart\" onclick=\"quickchart('df-d8ae376a-0f42-4e33-b958-8b992968e9d9')\"\n",
              "            title=\"Suggest charts\"\n",
              "            style=\"display:none;\">\n",
              "\n",
              "<svg xmlns=\"http://www.w3.org/2000/svg\" height=\"24px\"viewBox=\"0 0 24 24\"\n",
              "     width=\"24px\">\n",
              "    <g>\n",
              "        <path d=\"M19 3H5c-1.1 0-2 .9-2 2v14c0 1.1.9 2 2 2h14c1.1 0 2-.9 2-2V5c0-1.1-.9-2-2-2zM9 17H7v-7h2v7zm4 0h-2V7h2v10zm4 0h-2v-4h2v4z\"/>\n",
              "    </g>\n",
              "</svg>\n",
              "  </button>\n",
              "\n",
              "<style>\n",
              "  .colab-df-quickchart {\n",
              "      --bg-color: #E8F0FE;\n",
              "      --fill-color: #1967D2;\n",
              "      --hover-bg-color: #E2EBFA;\n",
              "      --hover-fill-color: #174EA6;\n",
              "      --disabled-fill-color: #AAA;\n",
              "      --disabled-bg-color: #DDD;\n",
              "  }\n",
              "\n",
              "  [theme=dark] .colab-df-quickchart {\n",
              "      --bg-color: #3B4455;\n",
              "      --fill-color: #D2E3FC;\n",
              "      --hover-bg-color: #434B5C;\n",
              "      --hover-fill-color: #FFFFFF;\n",
              "      --disabled-bg-color: #3B4455;\n",
              "      --disabled-fill-color: #666;\n",
              "  }\n",
              "\n",
              "  .colab-df-quickchart {\n",
              "    background-color: var(--bg-color);\n",
              "    border: none;\n",
              "    border-radius: 50%;\n",
              "    cursor: pointer;\n",
              "    display: none;\n",
              "    fill: var(--fill-color);\n",
              "    height: 32px;\n",
              "    padding: 0;\n",
              "    width: 32px;\n",
              "  }\n",
              "\n",
              "  .colab-df-quickchart:hover {\n",
              "    background-color: var(--hover-bg-color);\n",
              "    box-shadow: 0 1px 2px rgba(60, 64, 67, 0.3), 0 1px 3px 1px rgba(60, 64, 67, 0.15);\n",
              "    fill: var(--button-hover-fill-color);\n",
              "  }\n",
              "\n",
              "  .colab-df-quickchart-complete:disabled,\n",
              "  .colab-df-quickchart-complete:disabled:hover {\n",
              "    background-color: var(--disabled-bg-color);\n",
              "    fill: var(--disabled-fill-color);\n",
              "    box-shadow: none;\n",
              "  }\n",
              "\n",
              "  .colab-df-spinner {\n",
              "    border: 2px solid var(--fill-color);\n",
              "    border-color: transparent;\n",
              "    border-bottom-color: var(--fill-color);\n",
              "    animation:\n",
              "      spin 1s steps(1) infinite;\n",
              "  }\n",
              "\n",
              "  @keyframes spin {\n",
              "    0% {\n",
              "      border-color: transparent;\n",
              "      border-bottom-color: var(--fill-color);\n",
              "      border-left-color: var(--fill-color);\n",
              "    }\n",
              "    20% {\n",
              "      border-color: transparent;\n",
              "      border-left-color: var(--fill-color);\n",
              "      border-top-color: var(--fill-color);\n",
              "    }\n",
              "    30% {\n",
              "      border-color: transparent;\n",
              "      border-left-color: var(--fill-color);\n",
              "      border-top-color: var(--fill-color);\n",
              "      border-right-color: var(--fill-color);\n",
              "    }\n",
              "    40% {\n",
              "      border-color: transparent;\n",
              "      border-right-color: var(--fill-color);\n",
              "      border-top-color: var(--fill-color);\n",
              "    }\n",
              "    60% {\n",
              "      border-color: transparent;\n",
              "      border-right-color: var(--fill-color);\n",
              "    }\n",
              "    80% {\n",
              "      border-color: transparent;\n",
              "      border-right-color: var(--fill-color);\n",
              "      border-bottom-color: var(--fill-color);\n",
              "    }\n",
              "    90% {\n",
              "      border-color: transparent;\n",
              "      border-bottom-color: var(--fill-color);\n",
              "    }\n",
              "  }\n",
              "</style>\n",
              "\n",
              "  <script>\n",
              "    async function quickchart(key) {\n",
              "      const quickchartButtonEl =\n",
              "        document.querySelector('#' + key + ' button');\n",
              "      quickchartButtonEl.disabled = true;  // To prevent multiple clicks.\n",
              "      quickchartButtonEl.classList.add('colab-df-spinner');\n",
              "      try {\n",
              "        const charts = await google.colab.kernel.invokeFunction(\n",
              "            'suggestCharts', [key], {});\n",
              "      } catch (error) {\n",
              "        console.error('Error during call to suggestCharts:', error);\n",
              "      }\n",
              "      quickchartButtonEl.classList.remove('colab-df-spinner');\n",
              "      quickchartButtonEl.classList.add('colab-df-quickchart-complete');\n",
              "    }\n",
              "    (() => {\n",
              "      let quickchartButtonEl =\n",
              "        document.querySelector('#df-d8ae376a-0f42-4e33-b958-8b992968e9d9 button');\n",
              "      quickchartButtonEl.style.display =\n",
              "        google.colab.kernel.accessAllowed ? 'block' : 'none';\n",
              "    })();\n",
              "  </script>\n",
              "</div>\n",
              "\n",
              "    </div>\n",
              "  </div>\n"
            ],
            "application/vnd.google.colaboratory.intrinsic+json": {
              "type": "dataframe",
              "variable_name": "df",
              "summary": "{\n  \"name\": \"df\",\n  \"rows\": 2120,\n  \"fields\": [\n    {\n      \"column\": \"A\\u00f1o\",\n      \"properties\": {\n        \"dtype\": \"category\",\n        \"num_unique_values\": 11,\n        \"samples\": [\n          \"2020\",\n          \"2015\",\n          \"2024 II TRIM\"\n        ],\n        \"semantic_type\": \"\",\n        \"description\": \"\"\n      }\n    },\n    {\n      \"column\": \"Proceso\",\n      \"properties\": {\n        \"dtype\": \"category\",\n        \"num_unique_values\": 4,\n        \"samples\": [\n          \"Lista de espera de donaci\\u00f3n de \\u00f3rganos\",\n          \"Donaci\\u00f3n personas\",\n          \"Donaci\\u00f3n\"\n        ],\n        \"semantic_type\": \"\",\n        \"description\": \"\"\n      }\n    },\n    {\n      \"column\": \"\\u00d3rgano\",\n      \"properties\": {\n        \"dtype\": \"category\",\n        \"num_unique_values\": 11,\n        \"samples\": [\n          \"Tejidos (C\\u00f3rneas)\",\n          \"Ri\\u00f1\\u00f3n\",\n          \"Combinado \\nRi\\u00f1\\u00f3n-P\\u00e1ncreas\"\n        ],\n        \"semantic_type\": \"\",\n        \"description\": \"\"\n      }\n    },\n    {\n      \"column\": \"Sexo\",\n      \"properties\": {\n        \"dtype\": \"category\",\n        \"num_unique_values\": 3,\n        \"samples\": [\n          \"Hombre\",\n          \"Mujer\",\n          \"No aplica\"\n        ],\n        \"semantic_type\": \"\",\n        \"description\": \"\"\n      }\n    },\n    {\n      \"column\": \"Grupo de edad\",\n      \"properties\": {\n        \"dtype\": \"category\",\n        \"num_unique_values\": 9,\n        \"samples\": [\n          \"60-69 a\\u00f1os\",\n          \"0-9 a\\u00f1os\",\n          \"40-49 a\\u00f1os\"\n        ],\n        \"semantic_type\": \"\",\n        \"description\": \"\"\n      }\n    },\n    {\n      \"column\": \"Cantidad\",\n      \"properties\": {\n        \"dtype\": \"category\",\n        \"num_unique_values\": 181,\n        \"samples\": [\n          \"45\",\n          \"28\",\n          \"72\"\n        ],\n        \"semantic_type\": \"\",\n        \"description\": \"\"\n      }\n    },\n    {\n      \"column\": \"Tipo de donante\",\n      \"properties\": {\n        \"dtype\": \"category\",\n        \"num_unique_values\": 4,\n        \"samples\": [\n          \"Donante cadaverico\",\n          \"Donante cadav\\u00e9rico\",\n          \"Donante vivo \"\n        ],\n        \"semantic_type\": \"\",\n        \"description\": \"\"\n      }\n    }\n  ]\n}"
            }
          },
          "metadata": {},
          "execution_count": 44
        }
      ],
      "source": [
        "# URL RAW del dataset\n",
        "data_url = \"https://raw.githubusercontent.com/jalarconb/DataScience2024II/main/data/raw_trasplantes.csv\"\n",
        "\n",
        "# Cargar el dataset desde GitHub\n",
        "df = pd.read_csv(data_url, encoding='latin1', delimiter=';', dtype=object)\n",
        "\n",
        "# Mostrar las primeras filas para verificar\n",
        "df.head()"
      ]
    },
    {
      "cell_type": "code",
      "execution_count": 45,
      "metadata": {
        "colab": {
          "base_uri": "https://localhost:8080/",
          "height": 546
        },
        "id": "4KQhnUKy3MYs",
        "outputId": "e162f499-92ca-42aa-b9b6-3ff937705aa6"
      },
      "outputs": [
        {
          "output_type": "stream",
          "name": "stdout",
          "text": [
            "<class 'pandas.core.frame.DataFrame'>\n",
            "RangeIndex: 2120 entries, 0 to 2119\n",
            "Data columns (total 7 columns):\n",
            " #   Column           Non-Null Count  Dtype \n",
            "---  ------           --------------  ----- \n",
            " 0   Año              2120 non-null   object\n",
            " 1   Proceso          2120 non-null   object\n",
            " 2   Órgano           2120 non-null   object\n",
            " 3   Sexo             2120 non-null   object\n",
            " 4   Grupo de edad    2120 non-null   object\n",
            " 5   Cantidad         2120 non-null   object\n",
            " 6   Tipo de donante  2120 non-null   object\n",
            "dtypes: object(7)\n",
            "memory usage: 116.1+ KB\n"
          ]
        },
        {
          "output_type": "execute_result",
          "data": {
            "text/plain": [
              "Año                0\n",
              "Proceso            0\n",
              "Órgano             0\n",
              "Sexo               0\n",
              "Grupo de edad      0\n",
              "Cantidad           0\n",
              "Tipo de donante    0\n",
              "dtype: int64"
            ],
            "text/html": [
              "<div>\n",
              "<style scoped>\n",
              "    .dataframe tbody tr th:only-of-type {\n",
              "        vertical-align: middle;\n",
              "    }\n",
              "\n",
              "    .dataframe tbody tr th {\n",
              "        vertical-align: top;\n",
              "    }\n",
              "\n",
              "    .dataframe thead th {\n",
              "        text-align: right;\n",
              "    }\n",
              "</style>\n",
              "<table border=\"1\" class=\"dataframe\">\n",
              "  <thead>\n",
              "    <tr style=\"text-align: right;\">\n",
              "      <th></th>\n",
              "      <th>0</th>\n",
              "    </tr>\n",
              "  </thead>\n",
              "  <tbody>\n",
              "    <tr>\n",
              "      <th>Año</th>\n",
              "      <td>0</td>\n",
              "    </tr>\n",
              "    <tr>\n",
              "      <th>Proceso</th>\n",
              "      <td>0</td>\n",
              "    </tr>\n",
              "    <tr>\n",
              "      <th>Órgano</th>\n",
              "      <td>0</td>\n",
              "    </tr>\n",
              "    <tr>\n",
              "      <th>Sexo</th>\n",
              "      <td>0</td>\n",
              "    </tr>\n",
              "    <tr>\n",
              "      <th>Grupo de edad</th>\n",
              "      <td>0</td>\n",
              "    </tr>\n",
              "    <tr>\n",
              "      <th>Cantidad</th>\n",
              "      <td>0</td>\n",
              "    </tr>\n",
              "    <tr>\n",
              "      <th>Tipo de donante</th>\n",
              "      <td>0</td>\n",
              "    </tr>\n",
              "  </tbody>\n",
              "</table>\n",
              "</div><br><label><b>dtype:</b> int64</label>"
            ]
          },
          "metadata": {},
          "execution_count": 45
        }
      ],
      "source": [
        "# Display the data types and check for missing values\n",
        "df.info()\n",
        "df.isnull().sum()"
      ]
    },
    {
      "cell_type": "markdown",
      "metadata": {
        "id": "W805hbC63MYt"
      },
      "source": [
        "As there are no null values in the dataset, we do not need to worry about dealing with them. Also, all the columns but `Cantidad` _(Quantity)_ are categorical; our next step is going to be **text standardization** for those categorical columns.\n",
        "\n",
        "- **Strip** spaces and put the text in **title case**.\n",
        "- Check the **unique values** in each column to make sure that there are no duplicates or incorrect values (due to typos, etc.)."
      ]
    },
    {
      "cell_type": "code",
      "execution_count": 46,
      "metadata": {
        "colab": {
          "base_uri": "https://localhost:8080/"
        },
        "id": "8hvlh6Y73MYt",
        "outputId": "52d01480-fa2a-484a-eee8-80f2ca6c2582"
      },
      "outputs": [
        {
          "output_type": "stream",
          "name": "stdout",
          "text": [
            "Unique values in 'Año': ['2015' '2016' '2017' '2018' '2019' '2020' '2021' '2022' '2023'\n",
            " '2024 Ii Trim'] \n",
            "\n",
            "Unique values in 'Proceso': ['Donación' 'Lista De Espera De Donación De Órganos' 'Trasplantes'\n",
            " 'Donación Personas'] \n",
            "\n",
            "Unique values in 'Órgano': ['Riñón' 'Corazón' 'Hígado' 'Pulmón' 'Combinado Riñón-Hígado'\n",
            " 'Tejidos (Córneas)' 'No Aplica' 'Combinado Corazón -Riñón' 'Páncreas'\n",
            " 'Combinado \\nRiñón-Páncreas' 'Combinado Riñón-Pancreas'] \n",
            "\n",
            "Unique values in 'Sexo': ['Hombre' 'Mujer' 'No Aplica'] \n",
            "\n",
            "Unique values in 'Grupo de edad': ['No Aplica' '0-9 Años' '10-19 Años' '20-29 Años' '30-39 Años'\n",
            " '40-49 Años' '50-59 Años' '60-69 Años' '> 70  Años'] \n",
            "\n",
            "Unique values in 'Tipo de donante': ['Donante Vivo' 'Donante Cadaverico' 'No Aplica' 'Donante Cadavérico'] \n",
            "\n"
          ]
        }
      ],
      "source": [
        "# Standardize text in categorical columns (Strip + TitleCase)\n",
        "df['Año'] = df['Año'].str.strip().str.title()\n",
        "df['Proceso'] = df['Proceso'].str.strip().str.title()\n",
        "df['Órgano'] = df['Órgano'].str.strip().str.title()\n",
        "df['Sexo'] = df['Sexo'].str.strip().str.title()\n",
        "df['Grupo de edad'] = df['Grupo de edad'].str.strip().str.title()\n",
        "df['Tipo de donante'] = df['Tipo de donante'].str.strip().str.title()\n",
        "\n",
        "# Check for unique values in each column\n",
        "print(\"Unique values in 'Año':\", df['Año'].unique(), \"\\n\")\n",
        "print(\"Unique values in 'Proceso':\", df['Proceso'].unique(), \"\\n\")\n",
        "print(\"Unique values in 'Órgano':\", df['Órgano'].unique(), \"\\n\")\n",
        "print(\"Unique values in 'Sexo':\", df['Sexo'].unique(), \"\\n\")\n",
        "print(\"Unique values in 'Grupo de edad':\", df['Grupo de edad'].unique(), \"\\n\")\n",
        "print(\"Unique values in 'Tipo de donante':\", df['Tipo de donante'].unique(), \"\\n\")"
      ]
    },
    {
      "cell_type": "markdown",
      "metadata": {
        "id": "Mtd0qNJX3MYu"
      },
      "source": [
        "### *1.2.2 - Cleanup & Preprocessing*\n",
        "\n",
        "Some values require attention. In `Año` (_\"Year\"_), for instance, the year _2024_ includes not only the year itself but also an indication of the trimester (_\"2024 Ii Trim\"_). This shows a clear bias in the data, as the year 2024 contains fewer observations compared to other years, which represent complete annual data.\n",
        "\n",
        "<div class=\"alert alert-block alert-info\">\n",
        "<b>Note:</b> This particular year-bias is going to be important for some of the next steps of the project but, for the time being, we are going to change all the occurrences to \"2024\".\n",
        "</div>\n",
        "\n",
        "As for the other columns, there are some missing and extra characters and accents; we can work on that.\n",
        "\n",
        "Also, the `Tipo de Donante` (Donor Type) column can be changed; we can rename it as `Donante_Vivo` to check whether the donor is alive or not (`1` or `0`, respectively). As for the \"No Aplica\" (Does not apply) values, we will assign `-1`:"
      ]
    },
    {
      "cell_type": "code",
      "execution_count": 47,
      "metadata": {
        "id": "oKSS9Ked3MYv",
        "outputId": "29eacbb1-97c3-44cc-edaa-ed339a83fdcb",
        "colab": {
          "base_uri": "https://localhost:8080/"
        }
      },
      "outputs": [
        {
          "output_type": "stream",
          "name": "stdout",
          "text": [
            "    Año   Proceso   Órgano    Sexo Grupo_Edad Cantidad Donante_Vivo\n",
            "0  2015  Donación    Riñón  Hombre         NA       39            1\n",
            "1  2015  Donación    Riñón   Mujer         NA       32            1\n",
            "2  2015  Donación    Riñón  Hombre         NA       70            0\n",
            "3  2015  Donación    Riñón   Mujer         NA       48            0\n",
            "4  2015  Donación  Corazón  Hombre         NA        0            1\n"
          ]
        }
      ],
      "source": [
        "# Rename columns\n",
        "\n",
        "df.rename(columns={'Tipo de donante': 'Donante_Vivo', 'Grupo de edad':'Grupo_Edad'}, inplace=True)\n",
        "\n",
        "# Cleanup: 'Año' (Year)\n",
        "df['Año'] = df['Año'].replace({\n",
        "    '2024 Ii Trim': '2024'\n",
        "})\n",
        "\n",
        "# Cleanup: 'Proceso' (Process)\n",
        "df['Proceso'] = df['Proceso'].replace({\n",
        "    'Lista De Espera De Donación De Órganos': 'Lista de Espera',\n",
        "    'Trasplantes': 'Trasplante',\n",
        "})\n",
        "\n",
        "# Cleanup: 'Órgano' (Organ)\n",
        "df['Órgano'] = df['Órgano'].replace({\n",
        "    'No Aplica': 'NA',\n",
        "    'Combinado Corazón -Riñón': 'Combinado Corazón-Riñón',\n",
        "    'Combinado \\nRiñón-Páncreas': 'Combinado Riñón-Páncreas',\n",
        "    'Combinado Riñón-Pancreas': 'Combinado Riñón-Páncreas',\n",
        "    'Tejidos (Córneas)': 'Córneas'\n",
        "})\n",
        "\n",
        "# Cleanup: 'Grupo_Edad' (Age Group)\n",
        "df['Grupo_Edad'] = df['Grupo_Edad'].replace({\n",
        "    'No Aplica': 'NA',\n",
        "    '> 70  Años': '> 70 Años'\n",
        "})\n",
        "\n",
        "# Cleanup: 'Donante_Vivo' (Is Donor Alive?)\n",
        "df['Donante_Vivo'] = df['Donante_Vivo'].replace({\n",
        "    'No Aplica': '-1',\n",
        "    'Donante Vivo': '1',\n",
        "    'Donante Cadaverico': '0',\n",
        "    'Donante Cadavérico': '0',\n",
        "})\n",
        "\n",
        "print(df.head())"
      ]
    },
    {
      "cell_type": "code",
      "execution_count": 48,
      "metadata": {
        "colab": {
          "base_uri": "https://localhost:8080/"
        },
        "id": "3sLRsQZo3MYv",
        "outputId": "2aae605f-2ae2-4dc1-88f6-6ecd33d62ee2"
      },
      "outputs": [
        {
          "output_type": "stream",
          "name": "stdout",
          "text": [
            "Unique values in 'Año': ['2015' '2016' '2017' '2018' '2019' '2020' '2021' '2022' '2023' '2024'] \n",
            "\n",
            "Unique values in 'Proceso': ['Donación' 'Lista de Espera' 'Trasplante' 'Donación Personas'] \n",
            "\n",
            "Unique values in 'Órgano': ['Riñón' 'Corazón' 'Hígado' 'Pulmón' 'Combinado Riñón-Hígado' 'Córneas'\n",
            " 'NA' 'Combinado Corazón-Riñón' 'Páncreas' 'Combinado Riñón-Páncreas'] \n",
            "\n",
            "Unique values in 'Grupo_Edad': ['NA' '0-9 Años' '10-19 Años' '20-29 Años' '30-39 Años' '40-49 Años'\n",
            " '50-59 Años' '60-69 Años' '> 70 Años'] \n",
            "\n",
            "Unique values in 'Donante_Vivo': ['1' '0' '-1'] \n",
            "\n"
          ]
        }
      ],
      "source": [
        "# Check unique values in each modified column\n",
        "print(\"Unique values in 'Año':\", df['Año'].unique(), \"\\n\")\n",
        "print(\"Unique values in 'Proceso':\", df['Proceso'].unique(), \"\\n\")\n",
        "print(\"Unique values in 'Órgano':\", df['Órgano'].unique(), \"\\n\")\n",
        "print(\"Unique values in 'Grupo_Edad':\", df['Grupo_Edad'].unique(), \"\\n\")\n",
        "print(\"Unique values in 'Donante_Vivo':\", df['Donante_Vivo'].unique(), \"\\n\")"
      ]
    },
    {
      "cell_type": "markdown",
      "metadata": {
        "id": "YEfeuN443MYw"
      },
      "source": [
        "We should also change the data type of `Año`, `Cantidad` and `Donante_Vivo` to numeric."
      ]
    },
    {
      "cell_type": "code",
      "execution_count": 49,
      "metadata": {
        "colab": {
          "base_uri": "https://localhost:8080/",
          "height": 303
        },
        "id": "zHG6fqV23MYw",
        "outputId": "b9cd7b13-7b4d-439a-96a6-bec2bc5f4da2"
      },
      "outputs": [
        {
          "output_type": "execute_result",
          "data": {
            "text/plain": [
              "Año             0\n",
              "Proceso         0\n",
              "Órgano          0\n",
              "Sexo            0\n",
              "Grupo_Edad      0\n",
              "Cantidad        0\n",
              "Donante_Vivo    0\n",
              "dtype: int64"
            ],
            "text/html": [
              "<div>\n",
              "<style scoped>\n",
              "    .dataframe tbody tr th:only-of-type {\n",
              "        vertical-align: middle;\n",
              "    }\n",
              "\n",
              "    .dataframe tbody tr th {\n",
              "        vertical-align: top;\n",
              "    }\n",
              "\n",
              "    .dataframe thead th {\n",
              "        text-align: right;\n",
              "    }\n",
              "</style>\n",
              "<table border=\"1\" class=\"dataframe\">\n",
              "  <thead>\n",
              "    <tr style=\"text-align: right;\">\n",
              "      <th></th>\n",
              "      <th>0</th>\n",
              "    </tr>\n",
              "  </thead>\n",
              "  <tbody>\n",
              "    <tr>\n",
              "      <th>Año</th>\n",
              "      <td>0</td>\n",
              "    </tr>\n",
              "    <tr>\n",
              "      <th>Proceso</th>\n",
              "      <td>0</td>\n",
              "    </tr>\n",
              "    <tr>\n",
              "      <th>Órgano</th>\n",
              "      <td>0</td>\n",
              "    </tr>\n",
              "    <tr>\n",
              "      <th>Sexo</th>\n",
              "      <td>0</td>\n",
              "    </tr>\n",
              "    <tr>\n",
              "      <th>Grupo_Edad</th>\n",
              "      <td>0</td>\n",
              "    </tr>\n",
              "    <tr>\n",
              "      <th>Cantidad</th>\n",
              "      <td>0</td>\n",
              "    </tr>\n",
              "    <tr>\n",
              "      <th>Donante_Vivo</th>\n",
              "      <td>0</td>\n",
              "    </tr>\n",
              "  </tbody>\n",
              "</table>\n",
              "</div><br><label><b>dtype:</b> int64</label>"
            ]
          },
          "metadata": {},
          "execution_count": 49
        }
      ],
      "source": [
        "#  Change 'Año' to numeric\n",
        "df['Año'] = pd.to_numeric(df['Año'], errors='coerce')\n",
        "\n",
        "#  Change 'Cantidad' to numeric\n",
        "df['Cantidad'] = pd.to_numeric(df['Cantidad'], errors='coerce')\n",
        "\n",
        "#  Change 'Donante_Vivo' to numeric\n",
        "df['Donante_Vivo'] = pd.to_numeric(df['Donante_Vivo'], errors='coerce')\n",
        "\n",
        "# Check for null values\n",
        "df.isnull().sum()"
      ]
    },
    {
      "cell_type": "markdown",
      "metadata": {
        "id": "eW16MtFJ3MYx"
      },
      "source": [
        "### _1.2.3 - DataFrame Separation_\n",
        "\n",
        "We will work with two subsets of the main dataframe (`df`):\n",
        "\n",
        "- One with only the transplant rows (`df_trasplantes`)\n",
        "- The other with only the donation rows (`df_donaciones`)."
      ]
    },
    {
      "cell_type": "code",
      "execution_count": 50,
      "metadata": {
        "colab": {
          "base_uri": "https://localhost:8080/",
          "height": 206
        },
        "id": "T6UMJifE3MYx",
        "outputId": "512cdac7-1047-47f6-e272-06142b03cdec"
      },
      "outputs": [
        {
          "output_type": "execute_result",
          "data": {
            "text/plain": [
              "      Año     Proceso Órgano    Sexo  Grupo_Edad  Cantidad  Donante_Vivo\n",
              "864  2015  Trasplante  Riñón  Hombre    0-9 Años         4            -1\n",
              "865  2015  Trasplante  Riñón  Hombre  10-19 Años        12            -1\n",
              "866  2015  Trasplante  Riñón  Hombre  20-29 Años        16            -1\n",
              "867  2015  Trasplante  Riñón  Hombre  30-39 Años        30            -1\n",
              "868  2015  Trasplante  Riñón  Hombre  40-49 Años        26            -1"
            ],
            "text/html": [
              "\n",
              "  <div id=\"df-959c818d-3457-45c2-be50-7fcbfb570277\" class=\"colab-df-container\">\n",
              "    <div>\n",
              "<style scoped>\n",
              "    .dataframe tbody tr th:only-of-type {\n",
              "        vertical-align: middle;\n",
              "    }\n",
              "\n",
              "    .dataframe tbody tr th {\n",
              "        vertical-align: top;\n",
              "    }\n",
              "\n",
              "    .dataframe thead th {\n",
              "        text-align: right;\n",
              "    }\n",
              "</style>\n",
              "<table border=\"1\" class=\"dataframe\">\n",
              "  <thead>\n",
              "    <tr style=\"text-align: right;\">\n",
              "      <th></th>\n",
              "      <th>Año</th>\n",
              "      <th>Proceso</th>\n",
              "      <th>Órgano</th>\n",
              "      <th>Sexo</th>\n",
              "      <th>Grupo_Edad</th>\n",
              "      <th>Cantidad</th>\n",
              "      <th>Donante_Vivo</th>\n",
              "    </tr>\n",
              "  </thead>\n",
              "  <tbody>\n",
              "    <tr>\n",
              "      <th>864</th>\n",
              "      <td>2015</td>\n",
              "      <td>Trasplante</td>\n",
              "      <td>Riñón</td>\n",
              "      <td>Hombre</td>\n",
              "      <td>0-9 Años</td>\n",
              "      <td>4</td>\n",
              "      <td>-1</td>\n",
              "    </tr>\n",
              "    <tr>\n",
              "      <th>865</th>\n",
              "      <td>2015</td>\n",
              "      <td>Trasplante</td>\n",
              "      <td>Riñón</td>\n",
              "      <td>Hombre</td>\n",
              "      <td>10-19 Años</td>\n",
              "      <td>12</td>\n",
              "      <td>-1</td>\n",
              "    </tr>\n",
              "    <tr>\n",
              "      <th>866</th>\n",
              "      <td>2015</td>\n",
              "      <td>Trasplante</td>\n",
              "      <td>Riñón</td>\n",
              "      <td>Hombre</td>\n",
              "      <td>20-29 Años</td>\n",
              "      <td>16</td>\n",
              "      <td>-1</td>\n",
              "    </tr>\n",
              "    <tr>\n",
              "      <th>867</th>\n",
              "      <td>2015</td>\n",
              "      <td>Trasplante</td>\n",
              "      <td>Riñón</td>\n",
              "      <td>Hombre</td>\n",
              "      <td>30-39 Años</td>\n",
              "      <td>30</td>\n",
              "      <td>-1</td>\n",
              "    </tr>\n",
              "    <tr>\n",
              "      <th>868</th>\n",
              "      <td>2015</td>\n",
              "      <td>Trasplante</td>\n",
              "      <td>Riñón</td>\n",
              "      <td>Hombre</td>\n",
              "      <td>40-49 Años</td>\n",
              "      <td>26</td>\n",
              "      <td>-1</td>\n",
              "    </tr>\n",
              "  </tbody>\n",
              "</table>\n",
              "</div>\n",
              "    <div class=\"colab-df-buttons\">\n",
              "\n",
              "  <div class=\"colab-df-container\">\n",
              "    <button class=\"colab-df-convert\" onclick=\"convertToInteractive('df-959c818d-3457-45c2-be50-7fcbfb570277')\"\n",
              "            title=\"Convert this dataframe to an interactive table.\"\n",
              "            style=\"display:none;\">\n",
              "\n",
              "  <svg xmlns=\"http://www.w3.org/2000/svg\" height=\"24px\" viewBox=\"0 -960 960 960\">\n",
              "    <path d=\"M120-120v-720h720v720H120Zm60-500h600v-160H180v160Zm220 220h160v-160H400v160Zm0 220h160v-160H400v160ZM180-400h160v-160H180v160Zm440 0h160v-160H620v160ZM180-180h160v-160H180v160Zm440 0h160v-160H620v160Z\"/>\n",
              "  </svg>\n",
              "    </button>\n",
              "\n",
              "  <style>\n",
              "    .colab-df-container {\n",
              "      display:flex;\n",
              "      gap: 12px;\n",
              "    }\n",
              "\n",
              "    .colab-df-convert {\n",
              "      background-color: #E8F0FE;\n",
              "      border: none;\n",
              "      border-radius: 50%;\n",
              "      cursor: pointer;\n",
              "      display: none;\n",
              "      fill: #1967D2;\n",
              "      height: 32px;\n",
              "      padding: 0 0 0 0;\n",
              "      width: 32px;\n",
              "    }\n",
              "\n",
              "    .colab-df-convert:hover {\n",
              "      background-color: #E2EBFA;\n",
              "      box-shadow: 0px 1px 2px rgba(60, 64, 67, 0.3), 0px 1px 3px 1px rgba(60, 64, 67, 0.15);\n",
              "      fill: #174EA6;\n",
              "    }\n",
              "\n",
              "    .colab-df-buttons div {\n",
              "      margin-bottom: 4px;\n",
              "    }\n",
              "\n",
              "    [theme=dark] .colab-df-convert {\n",
              "      background-color: #3B4455;\n",
              "      fill: #D2E3FC;\n",
              "    }\n",
              "\n",
              "    [theme=dark] .colab-df-convert:hover {\n",
              "      background-color: #434B5C;\n",
              "      box-shadow: 0px 1px 3px 1px rgba(0, 0, 0, 0.15);\n",
              "      filter: drop-shadow(0px 1px 2px rgba(0, 0, 0, 0.3));\n",
              "      fill: #FFFFFF;\n",
              "    }\n",
              "  </style>\n",
              "\n",
              "    <script>\n",
              "      const buttonEl =\n",
              "        document.querySelector('#df-959c818d-3457-45c2-be50-7fcbfb570277 button.colab-df-convert');\n",
              "      buttonEl.style.display =\n",
              "        google.colab.kernel.accessAllowed ? 'block' : 'none';\n",
              "\n",
              "      async function convertToInteractive(key) {\n",
              "        const element = document.querySelector('#df-959c818d-3457-45c2-be50-7fcbfb570277');\n",
              "        const dataTable =\n",
              "          await google.colab.kernel.invokeFunction('convertToInteractive',\n",
              "                                                    [key], {});\n",
              "        if (!dataTable) return;\n",
              "\n",
              "        const docLinkHtml = 'Like what you see? Visit the ' +\n",
              "          '<a target=\"_blank\" href=https://colab.research.google.com/notebooks/data_table.ipynb>data table notebook</a>'\n",
              "          + ' to learn more about interactive tables.';\n",
              "        element.innerHTML = '';\n",
              "        dataTable['output_type'] = 'display_data';\n",
              "        await google.colab.output.renderOutput(dataTable, element);\n",
              "        const docLink = document.createElement('div');\n",
              "        docLink.innerHTML = docLinkHtml;\n",
              "        element.appendChild(docLink);\n",
              "      }\n",
              "    </script>\n",
              "  </div>\n",
              "\n",
              "\n",
              "<div id=\"df-48df1f92-f8d6-488e-aefa-da167dee704a\">\n",
              "  <button class=\"colab-df-quickchart\" onclick=\"quickchart('df-48df1f92-f8d6-488e-aefa-da167dee704a')\"\n",
              "            title=\"Suggest charts\"\n",
              "            style=\"display:none;\">\n",
              "\n",
              "<svg xmlns=\"http://www.w3.org/2000/svg\" height=\"24px\"viewBox=\"0 0 24 24\"\n",
              "     width=\"24px\">\n",
              "    <g>\n",
              "        <path d=\"M19 3H5c-1.1 0-2 .9-2 2v14c0 1.1.9 2 2 2h14c1.1 0 2-.9 2-2V5c0-1.1-.9-2-2-2zM9 17H7v-7h2v7zm4 0h-2V7h2v10zm4 0h-2v-4h2v4z\"/>\n",
              "    </g>\n",
              "</svg>\n",
              "  </button>\n",
              "\n",
              "<style>\n",
              "  .colab-df-quickchart {\n",
              "      --bg-color: #E8F0FE;\n",
              "      --fill-color: #1967D2;\n",
              "      --hover-bg-color: #E2EBFA;\n",
              "      --hover-fill-color: #174EA6;\n",
              "      --disabled-fill-color: #AAA;\n",
              "      --disabled-bg-color: #DDD;\n",
              "  }\n",
              "\n",
              "  [theme=dark] .colab-df-quickchart {\n",
              "      --bg-color: #3B4455;\n",
              "      --fill-color: #D2E3FC;\n",
              "      --hover-bg-color: #434B5C;\n",
              "      --hover-fill-color: #FFFFFF;\n",
              "      --disabled-bg-color: #3B4455;\n",
              "      --disabled-fill-color: #666;\n",
              "  }\n",
              "\n",
              "  .colab-df-quickchart {\n",
              "    background-color: var(--bg-color);\n",
              "    border: none;\n",
              "    border-radius: 50%;\n",
              "    cursor: pointer;\n",
              "    display: none;\n",
              "    fill: var(--fill-color);\n",
              "    height: 32px;\n",
              "    padding: 0;\n",
              "    width: 32px;\n",
              "  }\n",
              "\n",
              "  .colab-df-quickchart:hover {\n",
              "    background-color: var(--hover-bg-color);\n",
              "    box-shadow: 0 1px 2px rgba(60, 64, 67, 0.3), 0 1px 3px 1px rgba(60, 64, 67, 0.15);\n",
              "    fill: var(--button-hover-fill-color);\n",
              "  }\n",
              "\n",
              "  .colab-df-quickchart-complete:disabled,\n",
              "  .colab-df-quickchart-complete:disabled:hover {\n",
              "    background-color: var(--disabled-bg-color);\n",
              "    fill: var(--disabled-fill-color);\n",
              "    box-shadow: none;\n",
              "  }\n",
              "\n",
              "  .colab-df-spinner {\n",
              "    border: 2px solid var(--fill-color);\n",
              "    border-color: transparent;\n",
              "    border-bottom-color: var(--fill-color);\n",
              "    animation:\n",
              "      spin 1s steps(1) infinite;\n",
              "  }\n",
              "\n",
              "  @keyframes spin {\n",
              "    0% {\n",
              "      border-color: transparent;\n",
              "      border-bottom-color: var(--fill-color);\n",
              "      border-left-color: var(--fill-color);\n",
              "    }\n",
              "    20% {\n",
              "      border-color: transparent;\n",
              "      border-left-color: var(--fill-color);\n",
              "      border-top-color: var(--fill-color);\n",
              "    }\n",
              "    30% {\n",
              "      border-color: transparent;\n",
              "      border-left-color: var(--fill-color);\n",
              "      border-top-color: var(--fill-color);\n",
              "      border-right-color: var(--fill-color);\n",
              "    }\n",
              "    40% {\n",
              "      border-color: transparent;\n",
              "      border-right-color: var(--fill-color);\n",
              "      border-top-color: var(--fill-color);\n",
              "    }\n",
              "    60% {\n",
              "      border-color: transparent;\n",
              "      border-right-color: var(--fill-color);\n",
              "    }\n",
              "    80% {\n",
              "      border-color: transparent;\n",
              "      border-right-color: var(--fill-color);\n",
              "      border-bottom-color: var(--fill-color);\n",
              "    }\n",
              "    90% {\n",
              "      border-color: transparent;\n",
              "      border-bottom-color: var(--fill-color);\n",
              "    }\n",
              "  }\n",
              "</style>\n",
              "\n",
              "  <script>\n",
              "    async function quickchart(key) {\n",
              "      const quickchartButtonEl =\n",
              "        document.querySelector('#' + key + ' button');\n",
              "      quickchartButtonEl.disabled = true;  // To prevent multiple clicks.\n",
              "      quickchartButtonEl.classList.add('colab-df-spinner');\n",
              "      try {\n",
              "        const charts = await google.colab.kernel.invokeFunction(\n",
              "            'suggestCharts', [key], {});\n",
              "      } catch (error) {\n",
              "        console.error('Error during call to suggestCharts:', error);\n",
              "      }\n",
              "      quickchartButtonEl.classList.remove('colab-df-spinner');\n",
              "      quickchartButtonEl.classList.add('colab-df-quickchart-complete');\n",
              "    }\n",
              "    (() => {\n",
              "      let quickchartButtonEl =\n",
              "        document.querySelector('#df-48df1f92-f8d6-488e-aefa-da167dee704a button');\n",
              "      quickchartButtonEl.style.display =\n",
              "        google.colab.kernel.accessAllowed ? 'block' : 'none';\n",
              "    })();\n",
              "  </script>\n",
              "</div>\n",
              "\n",
              "    </div>\n",
              "  </div>\n"
            ],
            "application/vnd.google.colaboratory.intrinsic+json": {
              "type": "dataframe",
              "variable_name": "df_trasplantes",
              "summary": "{\n  \"name\": \"df_trasplantes\",\n  \"rows\": 944,\n  \"fields\": [\n    {\n      \"column\": \"A\\u00f1o\",\n      \"properties\": {\n        \"dtype\": \"number\",\n        \"std\": 2,\n        \"min\": 2015,\n        \"max\": 2024,\n        \"num_unique_values\": 10,\n        \"samples\": [\n          2023,\n          2016,\n          2020\n        ],\n        \"semantic_type\": \"\",\n        \"description\": \"\"\n      }\n    },\n    {\n      \"column\": \"Proceso\",\n      \"properties\": {\n        \"dtype\": \"category\",\n        \"num_unique_values\": 1,\n        \"samples\": [\n          \"Trasplante\"\n        ],\n        \"semantic_type\": \"\",\n        \"description\": \"\"\n      }\n    },\n    {\n      \"column\": \"\\u00d3rgano\",\n      \"properties\": {\n        \"dtype\": \"category\",\n        \"num_unique_values\": 8,\n        \"samples\": [\n          \"Coraz\\u00f3n\"\n        ],\n        \"semantic_type\": \"\",\n        \"description\": \"\"\n      }\n    },\n    {\n      \"column\": \"Sexo\",\n      \"properties\": {\n        \"dtype\": \"category\",\n        \"num_unique_values\": 2,\n        \"samples\": [\n          \"Mujer\"\n        ],\n        \"semantic_type\": \"\",\n        \"description\": \"\"\n      }\n    },\n    {\n      \"column\": \"Grupo_Edad\",\n      \"properties\": {\n        \"dtype\": \"category\",\n        \"num_unique_values\": 8,\n        \"samples\": [\n          \"10-19 A\\u00f1os\"\n        ],\n        \"semantic_type\": \"\",\n        \"description\": \"\"\n      }\n    },\n    {\n      \"column\": \"Cantidad\",\n      \"properties\": {\n        \"dtype\": \"number\",\n        \"std\": 24,\n        \"min\": 0,\n        \"max\": 203,\n        \"num_unique_values\": 97,\n        \"samples\": [\n          78\n        ],\n        \"semantic_type\": \"\",\n        \"description\": \"\"\n      }\n    },\n    {\n      \"column\": \"Donante_Vivo\",\n      \"properties\": {\n        \"dtype\": \"number\",\n        \"std\": 0,\n        \"min\": -1,\n        \"max\": -1,\n        \"num_unique_values\": 1,\n        \"samples\": [\n          -1\n        ],\n        \"semantic_type\": \"\",\n        \"description\": \"\"\n      }\n    }\n  ]\n}"
            }
          },
          "metadata": {},
          "execution_count": 50
        }
      ],
      "source": [
        "# Filtered DF: Process is a Transplant\n",
        "df_trasplantes = df[df['Proceso'] == 'Trasplante']\n",
        "df_trasplantes.head()"
      ]
    },
    {
      "cell_type": "code",
      "source": [
        "# Filtered DF: Process is a Donation\n",
        "df_donaciones = df[df['Proceso'] == 'Donación']\n",
        "df_donaciones.head()"
      ],
      "metadata": {
        "id": "Q6eVKBuZZYKC",
        "outputId": "1d92af97-c9df-46d1-c67e-7acc9539a56f",
        "colab": {
          "base_uri": "https://localhost:8080/",
          "height": 206
        }
      },
      "execution_count": 51,
      "outputs": [
        {
          "output_type": "execute_result",
          "data": {
            "text/plain": [
              "    Año   Proceso   Órgano    Sexo Grupo_Edad  Cantidad  Donante_Vivo\n",
              "0  2015  Donación    Riñón  Hombre         NA        39             1\n",
              "1  2015  Donación    Riñón   Mujer         NA        32             1\n",
              "2  2015  Donación    Riñón  Hombre         NA        70             0\n",
              "3  2015  Donación    Riñón   Mujer         NA        48             0\n",
              "4  2015  Donación  Corazón  Hombre         NA         0             1"
            ],
            "text/html": [
              "\n",
              "  <div id=\"df-e8de5942-5a6a-401e-937b-925238294c16\" class=\"colab-df-container\">\n",
              "    <div>\n",
              "<style scoped>\n",
              "    .dataframe tbody tr th:only-of-type {\n",
              "        vertical-align: middle;\n",
              "    }\n",
              "\n",
              "    .dataframe tbody tr th {\n",
              "        vertical-align: top;\n",
              "    }\n",
              "\n",
              "    .dataframe thead th {\n",
              "        text-align: right;\n",
              "    }\n",
              "</style>\n",
              "<table border=\"1\" class=\"dataframe\">\n",
              "  <thead>\n",
              "    <tr style=\"text-align: right;\">\n",
              "      <th></th>\n",
              "      <th>Año</th>\n",
              "      <th>Proceso</th>\n",
              "      <th>Órgano</th>\n",
              "      <th>Sexo</th>\n",
              "      <th>Grupo_Edad</th>\n",
              "      <th>Cantidad</th>\n",
              "      <th>Donante_Vivo</th>\n",
              "    </tr>\n",
              "  </thead>\n",
              "  <tbody>\n",
              "    <tr>\n",
              "      <th>0</th>\n",
              "      <td>2015</td>\n",
              "      <td>Donación</td>\n",
              "      <td>Riñón</td>\n",
              "      <td>Hombre</td>\n",
              "      <td>NA</td>\n",
              "      <td>39</td>\n",
              "      <td>1</td>\n",
              "    </tr>\n",
              "    <tr>\n",
              "      <th>1</th>\n",
              "      <td>2015</td>\n",
              "      <td>Donación</td>\n",
              "      <td>Riñón</td>\n",
              "      <td>Mujer</td>\n",
              "      <td>NA</td>\n",
              "      <td>32</td>\n",
              "      <td>1</td>\n",
              "    </tr>\n",
              "    <tr>\n",
              "      <th>2</th>\n",
              "      <td>2015</td>\n",
              "      <td>Donación</td>\n",
              "      <td>Riñón</td>\n",
              "      <td>Hombre</td>\n",
              "      <td>NA</td>\n",
              "      <td>70</td>\n",
              "      <td>0</td>\n",
              "    </tr>\n",
              "    <tr>\n",
              "      <th>3</th>\n",
              "      <td>2015</td>\n",
              "      <td>Donación</td>\n",
              "      <td>Riñón</td>\n",
              "      <td>Mujer</td>\n",
              "      <td>NA</td>\n",
              "      <td>48</td>\n",
              "      <td>0</td>\n",
              "    </tr>\n",
              "    <tr>\n",
              "      <th>4</th>\n",
              "      <td>2015</td>\n",
              "      <td>Donación</td>\n",
              "      <td>Corazón</td>\n",
              "      <td>Hombre</td>\n",
              "      <td>NA</td>\n",
              "      <td>0</td>\n",
              "      <td>1</td>\n",
              "    </tr>\n",
              "  </tbody>\n",
              "</table>\n",
              "</div>\n",
              "    <div class=\"colab-df-buttons\">\n",
              "\n",
              "  <div class=\"colab-df-container\">\n",
              "    <button class=\"colab-df-convert\" onclick=\"convertToInteractive('df-e8de5942-5a6a-401e-937b-925238294c16')\"\n",
              "            title=\"Convert this dataframe to an interactive table.\"\n",
              "            style=\"display:none;\">\n",
              "\n",
              "  <svg xmlns=\"http://www.w3.org/2000/svg\" height=\"24px\" viewBox=\"0 -960 960 960\">\n",
              "    <path d=\"M120-120v-720h720v720H120Zm60-500h600v-160H180v160Zm220 220h160v-160H400v160Zm0 220h160v-160H400v160ZM180-400h160v-160H180v160Zm440 0h160v-160H620v160ZM180-180h160v-160H180v160Zm440 0h160v-160H620v160Z\"/>\n",
              "  </svg>\n",
              "    </button>\n",
              "\n",
              "  <style>\n",
              "    .colab-df-container {\n",
              "      display:flex;\n",
              "      gap: 12px;\n",
              "    }\n",
              "\n",
              "    .colab-df-convert {\n",
              "      background-color: #E8F0FE;\n",
              "      border: none;\n",
              "      border-radius: 50%;\n",
              "      cursor: pointer;\n",
              "      display: none;\n",
              "      fill: #1967D2;\n",
              "      height: 32px;\n",
              "      padding: 0 0 0 0;\n",
              "      width: 32px;\n",
              "    }\n",
              "\n",
              "    .colab-df-convert:hover {\n",
              "      background-color: #E2EBFA;\n",
              "      box-shadow: 0px 1px 2px rgba(60, 64, 67, 0.3), 0px 1px 3px 1px rgba(60, 64, 67, 0.15);\n",
              "      fill: #174EA6;\n",
              "    }\n",
              "\n",
              "    .colab-df-buttons div {\n",
              "      margin-bottom: 4px;\n",
              "    }\n",
              "\n",
              "    [theme=dark] .colab-df-convert {\n",
              "      background-color: #3B4455;\n",
              "      fill: #D2E3FC;\n",
              "    }\n",
              "\n",
              "    [theme=dark] .colab-df-convert:hover {\n",
              "      background-color: #434B5C;\n",
              "      box-shadow: 0px 1px 3px 1px rgba(0, 0, 0, 0.15);\n",
              "      filter: drop-shadow(0px 1px 2px rgba(0, 0, 0, 0.3));\n",
              "      fill: #FFFFFF;\n",
              "    }\n",
              "  </style>\n",
              "\n",
              "    <script>\n",
              "      const buttonEl =\n",
              "        document.querySelector('#df-e8de5942-5a6a-401e-937b-925238294c16 button.colab-df-convert');\n",
              "      buttonEl.style.display =\n",
              "        google.colab.kernel.accessAllowed ? 'block' : 'none';\n",
              "\n",
              "      async function convertToInteractive(key) {\n",
              "        const element = document.querySelector('#df-e8de5942-5a6a-401e-937b-925238294c16');\n",
              "        const dataTable =\n",
              "          await google.colab.kernel.invokeFunction('convertToInteractive',\n",
              "                                                    [key], {});\n",
              "        if (!dataTable) return;\n",
              "\n",
              "        const docLinkHtml = 'Like what you see? Visit the ' +\n",
              "          '<a target=\"_blank\" href=https://colab.research.google.com/notebooks/data_table.ipynb>data table notebook</a>'\n",
              "          + ' to learn more about interactive tables.';\n",
              "        element.innerHTML = '';\n",
              "        dataTable['output_type'] = 'display_data';\n",
              "        await google.colab.output.renderOutput(dataTable, element);\n",
              "        const docLink = document.createElement('div');\n",
              "        docLink.innerHTML = docLinkHtml;\n",
              "        element.appendChild(docLink);\n",
              "      }\n",
              "    </script>\n",
              "  </div>\n",
              "\n",
              "\n",
              "<div id=\"df-5de26433-2eb4-4339-8016-7d175ba462b4\">\n",
              "  <button class=\"colab-df-quickchart\" onclick=\"quickchart('df-5de26433-2eb4-4339-8016-7d175ba462b4')\"\n",
              "            title=\"Suggest charts\"\n",
              "            style=\"display:none;\">\n",
              "\n",
              "<svg xmlns=\"http://www.w3.org/2000/svg\" height=\"24px\"viewBox=\"0 0 24 24\"\n",
              "     width=\"24px\">\n",
              "    <g>\n",
              "        <path d=\"M19 3H5c-1.1 0-2 .9-2 2v14c0 1.1.9 2 2 2h14c1.1 0 2-.9 2-2V5c0-1.1-.9-2-2-2zM9 17H7v-7h2v7zm4 0h-2V7h2v10zm4 0h-2v-4h2v4z\"/>\n",
              "    </g>\n",
              "</svg>\n",
              "  </button>\n",
              "\n",
              "<style>\n",
              "  .colab-df-quickchart {\n",
              "      --bg-color: #E8F0FE;\n",
              "      --fill-color: #1967D2;\n",
              "      --hover-bg-color: #E2EBFA;\n",
              "      --hover-fill-color: #174EA6;\n",
              "      --disabled-fill-color: #AAA;\n",
              "      --disabled-bg-color: #DDD;\n",
              "  }\n",
              "\n",
              "  [theme=dark] .colab-df-quickchart {\n",
              "      --bg-color: #3B4455;\n",
              "      --fill-color: #D2E3FC;\n",
              "      --hover-bg-color: #434B5C;\n",
              "      --hover-fill-color: #FFFFFF;\n",
              "      --disabled-bg-color: #3B4455;\n",
              "      --disabled-fill-color: #666;\n",
              "  }\n",
              "\n",
              "  .colab-df-quickchart {\n",
              "    background-color: var(--bg-color);\n",
              "    border: none;\n",
              "    border-radius: 50%;\n",
              "    cursor: pointer;\n",
              "    display: none;\n",
              "    fill: var(--fill-color);\n",
              "    height: 32px;\n",
              "    padding: 0;\n",
              "    width: 32px;\n",
              "  }\n",
              "\n",
              "  .colab-df-quickchart:hover {\n",
              "    background-color: var(--hover-bg-color);\n",
              "    box-shadow: 0 1px 2px rgba(60, 64, 67, 0.3), 0 1px 3px 1px rgba(60, 64, 67, 0.15);\n",
              "    fill: var(--button-hover-fill-color);\n",
              "  }\n",
              "\n",
              "  .colab-df-quickchart-complete:disabled,\n",
              "  .colab-df-quickchart-complete:disabled:hover {\n",
              "    background-color: var(--disabled-bg-color);\n",
              "    fill: var(--disabled-fill-color);\n",
              "    box-shadow: none;\n",
              "  }\n",
              "\n",
              "  .colab-df-spinner {\n",
              "    border: 2px solid var(--fill-color);\n",
              "    border-color: transparent;\n",
              "    border-bottom-color: var(--fill-color);\n",
              "    animation:\n",
              "      spin 1s steps(1) infinite;\n",
              "  }\n",
              "\n",
              "  @keyframes spin {\n",
              "    0% {\n",
              "      border-color: transparent;\n",
              "      border-bottom-color: var(--fill-color);\n",
              "      border-left-color: var(--fill-color);\n",
              "    }\n",
              "    20% {\n",
              "      border-color: transparent;\n",
              "      border-left-color: var(--fill-color);\n",
              "      border-top-color: var(--fill-color);\n",
              "    }\n",
              "    30% {\n",
              "      border-color: transparent;\n",
              "      border-left-color: var(--fill-color);\n",
              "      border-top-color: var(--fill-color);\n",
              "      border-right-color: var(--fill-color);\n",
              "    }\n",
              "    40% {\n",
              "      border-color: transparent;\n",
              "      border-right-color: var(--fill-color);\n",
              "      border-top-color: var(--fill-color);\n",
              "    }\n",
              "    60% {\n",
              "      border-color: transparent;\n",
              "      border-right-color: var(--fill-color);\n",
              "    }\n",
              "    80% {\n",
              "      border-color: transparent;\n",
              "      border-right-color: var(--fill-color);\n",
              "      border-bottom-color: var(--fill-color);\n",
              "    }\n",
              "    90% {\n",
              "      border-color: transparent;\n",
              "      border-bottom-color: var(--fill-color);\n",
              "    }\n",
              "  }\n",
              "</style>\n",
              "\n",
              "  <script>\n",
              "    async function quickchart(key) {\n",
              "      const quickchartButtonEl =\n",
              "        document.querySelector('#' + key + ' button');\n",
              "      quickchartButtonEl.disabled = true;  // To prevent multiple clicks.\n",
              "      quickchartButtonEl.classList.add('colab-df-spinner');\n",
              "      try {\n",
              "        const charts = await google.colab.kernel.invokeFunction(\n",
              "            'suggestCharts', [key], {});\n",
              "      } catch (error) {\n",
              "        console.error('Error during call to suggestCharts:', error);\n",
              "      }\n",
              "      quickchartButtonEl.classList.remove('colab-df-spinner');\n",
              "      quickchartButtonEl.classList.add('colab-df-quickchart-complete');\n",
              "    }\n",
              "    (() => {\n",
              "      let quickchartButtonEl =\n",
              "        document.querySelector('#df-5de26433-2eb4-4339-8016-7d175ba462b4 button');\n",
              "      quickchartButtonEl.style.display =\n",
              "        google.colab.kernel.accessAllowed ? 'block' : 'none';\n",
              "    })();\n",
              "  </script>\n",
              "</div>\n",
              "\n",
              "    </div>\n",
              "  </div>\n"
            ],
            "application/vnd.google.colaboratory.intrinsic+json": {
              "type": "dataframe",
              "variable_name": "df_donaciones",
              "summary": "{\n  \"name\": \"df_donaciones\",\n  \"rows\": 212,\n  \"fields\": [\n    {\n      \"column\": \"A\\u00f1o\",\n      \"properties\": {\n        \"dtype\": \"number\",\n        \"std\": 2,\n        \"min\": 2015,\n        \"max\": 2024,\n        \"num_unique_values\": 10,\n        \"samples\": [\n          2023,\n          2016,\n          2020\n        ],\n        \"semantic_type\": \"\",\n        \"description\": \"\"\n      }\n    },\n    {\n      \"column\": \"Proceso\",\n      \"properties\": {\n        \"dtype\": \"category\",\n        \"num_unique_values\": 1,\n        \"samples\": [\n          \"Donaci\\u00f3n\"\n        ],\n        \"semantic_type\": \"\",\n        \"description\": \"\"\n      }\n    },\n    {\n      \"column\": \"\\u00d3rgano\",\n      \"properties\": {\n        \"dtype\": \"category\",\n        \"num_unique_values\": 7,\n        \"samples\": [\n          \"Ri\\u00f1\\u00f3n\"\n        ],\n        \"semantic_type\": \"\",\n        \"description\": \"\"\n      }\n    },\n    {\n      \"column\": \"Sexo\",\n      \"properties\": {\n        \"dtype\": \"category\",\n        \"num_unique_values\": 2,\n        \"samples\": [\n          \"Mujer\"\n        ],\n        \"semantic_type\": \"\",\n        \"description\": \"\"\n      }\n    },\n    {\n      \"column\": \"Grupo_Edad\",\n      \"properties\": {\n        \"dtype\": \"category\",\n        \"num_unique_values\": 1,\n        \"samples\": [\n          \"NA\"\n        ],\n        \"semantic_type\": \"\",\n        \"description\": \"\"\n      }\n    },\n    {\n      \"column\": \"Cantidad\",\n      \"properties\": {\n        \"dtype\": \"number\",\n        \"std\": 24,\n        \"min\": 0,\n        \"max\": 148,\n        \"num_unique_values\": 60,\n        \"samples\": [\n          39\n        ],\n        \"semantic_type\": \"\",\n        \"description\": \"\"\n      }\n    },\n    {\n      \"column\": \"Donante_Vivo\",\n      \"properties\": {\n        \"dtype\": \"number\",\n        \"std\": 0,\n        \"min\": 0,\n        \"max\": 1,\n        \"num_unique_values\": 2,\n        \"samples\": [\n          0\n        ],\n        \"semantic_type\": \"\",\n        \"description\": \"\"\n      }\n    }\n  ]\n}"
            }
          },
          "metadata": {},
          "execution_count": 51
        }
      ]
    },
    {
      "cell_type": "markdown",
      "metadata": {
        "id": "6tquC9nC3MYw"
      },
      "source": [
        "<br/>\n",
        "\n",
        "# **2 - Data Analysis**"
      ]
    },
    {
      "cell_type": "markdown",
      "source": [
        "## 2.1 - Exploration: Transplants\n",
        "\n",
        "We will start with a statistical exploration of the transplants dataset (`df_trasplantes`). This includes performing correlation tests to uncover potential hidden relationships and identify opportunities for data mining."
      ],
      "metadata": {
        "id": "XHuCFkfbhi6n"
      }
    },
    {
      "cell_type": "markdown",
      "source": [
        "The `Órgano` column presents a unique case: some rows refer to multi-organ transplants (two organs). This requires an additional consideration for two key reasons. First, these rows contain valuable data about the transplants of both organs involved. Second, we can conduct a separate analysis focusing on these combined rows later.\n",
        "\n",
        "The approach that we will follow in order to address this problem is:\n",
        "\n",
        "- **Add a new column** (`Combinado`) to mark the multi-organ rows.\n",
        "- **Split** each multi-organ row into two separate rows, assigning one organ to each row while retaining all other relevant information."
      ],
      "metadata": {
        "id": "CLNcjOTRPobb"
      }
    },
    {
      "cell_type": "code",
      "source": [
        "# Unique Values: Organs\n",
        "df['Órgano'].unique()"
      ],
      "metadata": {
        "id": "RK45888oL6Bm",
        "outputId": "6e2bba6c-a3f4-45bb-c813-14cf61109bd4",
        "colab": {
          "base_uri": "https://localhost:8080/"
        }
      },
      "execution_count": 52,
      "outputs": [
        {
          "output_type": "execute_result",
          "data": {
            "text/plain": [
              "array(['Riñón', 'Corazón', 'Hígado', 'Pulmón', 'Combinado Riñón-Hígado',\n",
              "       'Córneas', 'NA', 'Combinado Corazón-Riñón', 'Páncreas',\n",
              "       'Combinado Riñón-Páncreas'], dtype=object)"
            ]
          },
          "metadata": {},
          "execution_count": 52
        }
      ]
    },
    {
      "cell_type": "code",
      "source": [
        "# Step 1 - Add \"Combinado\" Column: 1 if combined, 0 else\n",
        "df_trasplantes.loc[:, 'Combinado'] = df_trasplantes['Órgano'].apply(lambda x: 1 if 'Combinado' in x else 0)\n",
        "df_trasplantes.head()"
      ],
      "metadata": {
        "id": "FC_OoyiYNuCi",
        "outputId": "3b9854a0-d917-463e-e0fa-bd4a86199610",
        "colab": {
          "base_uri": "https://localhost:8080/",
          "height": 310
        }
      },
      "execution_count": 53,
      "outputs": [
        {
          "output_type": "stream",
          "name": "stderr",
          "text": [
            "<ipython-input-53-8c56d31d0f04>:2: SettingWithCopyWarning: \n",
            "A value is trying to be set on a copy of a slice from a DataFrame.\n",
            "Try using .loc[row_indexer,col_indexer] = value instead\n",
            "\n",
            "See the caveats in the documentation: https://pandas.pydata.org/pandas-docs/stable/user_guide/indexing.html#returning-a-view-versus-a-copy\n",
            "  df_trasplantes.loc[:, 'Combinado'] = df_trasplantes['Órgano'].apply(lambda x: 1 if 'Combinado' in x else 0)\n"
          ]
        },
        {
          "output_type": "execute_result",
          "data": {
            "text/plain": [
              "      Año     Proceso Órgano    Sexo  Grupo_Edad  Cantidad  Donante_Vivo  Combinado\n",
              "864  2015  Trasplante  Riñón  Hombre    0-9 Años         4            -1          0\n",
              "865  2015  Trasplante  Riñón  Hombre  10-19 Años        12            -1          0\n",
              "866  2015  Trasplante  Riñón  Hombre  20-29 Años        16            -1          0\n",
              "867  2015  Trasplante  Riñón  Hombre  30-39 Años        30            -1          0\n",
              "868  2015  Trasplante  Riñón  Hombre  40-49 Años        26            -1          0"
            ],
            "text/html": [
              "\n",
              "  <div id=\"df-7330282c-12db-4565-b5b6-a85641d8cf54\" class=\"colab-df-container\">\n",
              "    <div>\n",
              "<style scoped>\n",
              "    .dataframe tbody tr th:only-of-type {\n",
              "        vertical-align: middle;\n",
              "    }\n",
              "\n",
              "    .dataframe tbody tr th {\n",
              "        vertical-align: top;\n",
              "    }\n",
              "\n",
              "    .dataframe thead th {\n",
              "        text-align: right;\n",
              "    }\n",
              "</style>\n",
              "<table border=\"1\" class=\"dataframe\">\n",
              "  <thead>\n",
              "    <tr style=\"text-align: right;\">\n",
              "      <th></th>\n",
              "      <th>Año</th>\n",
              "      <th>Proceso</th>\n",
              "      <th>Órgano</th>\n",
              "      <th>Sexo</th>\n",
              "      <th>Grupo_Edad</th>\n",
              "      <th>Cantidad</th>\n",
              "      <th>Donante_Vivo</th>\n",
              "      <th>Combinado</th>\n",
              "    </tr>\n",
              "  </thead>\n",
              "  <tbody>\n",
              "    <tr>\n",
              "      <th>864</th>\n",
              "      <td>2015</td>\n",
              "      <td>Trasplante</td>\n",
              "      <td>Riñón</td>\n",
              "      <td>Hombre</td>\n",
              "      <td>0-9 Años</td>\n",
              "      <td>4</td>\n",
              "      <td>-1</td>\n",
              "      <td>0</td>\n",
              "    </tr>\n",
              "    <tr>\n",
              "      <th>865</th>\n",
              "      <td>2015</td>\n",
              "      <td>Trasplante</td>\n",
              "      <td>Riñón</td>\n",
              "      <td>Hombre</td>\n",
              "      <td>10-19 Años</td>\n",
              "      <td>12</td>\n",
              "      <td>-1</td>\n",
              "      <td>0</td>\n",
              "    </tr>\n",
              "    <tr>\n",
              "      <th>866</th>\n",
              "      <td>2015</td>\n",
              "      <td>Trasplante</td>\n",
              "      <td>Riñón</td>\n",
              "      <td>Hombre</td>\n",
              "      <td>20-29 Años</td>\n",
              "      <td>16</td>\n",
              "      <td>-1</td>\n",
              "      <td>0</td>\n",
              "    </tr>\n",
              "    <tr>\n",
              "      <th>867</th>\n",
              "      <td>2015</td>\n",
              "      <td>Trasplante</td>\n",
              "      <td>Riñón</td>\n",
              "      <td>Hombre</td>\n",
              "      <td>30-39 Años</td>\n",
              "      <td>30</td>\n",
              "      <td>-1</td>\n",
              "      <td>0</td>\n",
              "    </tr>\n",
              "    <tr>\n",
              "      <th>868</th>\n",
              "      <td>2015</td>\n",
              "      <td>Trasplante</td>\n",
              "      <td>Riñón</td>\n",
              "      <td>Hombre</td>\n",
              "      <td>40-49 Años</td>\n",
              "      <td>26</td>\n",
              "      <td>-1</td>\n",
              "      <td>0</td>\n",
              "    </tr>\n",
              "  </tbody>\n",
              "</table>\n",
              "</div>\n",
              "    <div class=\"colab-df-buttons\">\n",
              "\n",
              "  <div class=\"colab-df-container\">\n",
              "    <button class=\"colab-df-convert\" onclick=\"convertToInteractive('df-7330282c-12db-4565-b5b6-a85641d8cf54')\"\n",
              "            title=\"Convert this dataframe to an interactive table.\"\n",
              "            style=\"display:none;\">\n",
              "\n",
              "  <svg xmlns=\"http://www.w3.org/2000/svg\" height=\"24px\" viewBox=\"0 -960 960 960\">\n",
              "    <path d=\"M120-120v-720h720v720H120Zm60-500h600v-160H180v160Zm220 220h160v-160H400v160Zm0 220h160v-160H400v160ZM180-400h160v-160H180v160Zm440 0h160v-160H620v160ZM180-180h160v-160H180v160Zm440 0h160v-160H620v160Z\"/>\n",
              "  </svg>\n",
              "    </button>\n",
              "\n",
              "  <style>\n",
              "    .colab-df-container {\n",
              "      display:flex;\n",
              "      gap: 12px;\n",
              "    }\n",
              "\n",
              "    .colab-df-convert {\n",
              "      background-color: #E8F0FE;\n",
              "      border: none;\n",
              "      border-radius: 50%;\n",
              "      cursor: pointer;\n",
              "      display: none;\n",
              "      fill: #1967D2;\n",
              "      height: 32px;\n",
              "      padding: 0 0 0 0;\n",
              "      width: 32px;\n",
              "    }\n",
              "\n",
              "    .colab-df-convert:hover {\n",
              "      background-color: #E2EBFA;\n",
              "      box-shadow: 0px 1px 2px rgba(60, 64, 67, 0.3), 0px 1px 3px 1px rgba(60, 64, 67, 0.15);\n",
              "      fill: #174EA6;\n",
              "    }\n",
              "\n",
              "    .colab-df-buttons div {\n",
              "      margin-bottom: 4px;\n",
              "    }\n",
              "\n",
              "    [theme=dark] .colab-df-convert {\n",
              "      background-color: #3B4455;\n",
              "      fill: #D2E3FC;\n",
              "    }\n",
              "\n",
              "    [theme=dark] .colab-df-convert:hover {\n",
              "      background-color: #434B5C;\n",
              "      box-shadow: 0px 1px 3px 1px rgba(0, 0, 0, 0.15);\n",
              "      filter: drop-shadow(0px 1px 2px rgba(0, 0, 0, 0.3));\n",
              "      fill: #FFFFFF;\n",
              "    }\n",
              "  </style>\n",
              "\n",
              "    <script>\n",
              "      const buttonEl =\n",
              "        document.querySelector('#df-7330282c-12db-4565-b5b6-a85641d8cf54 button.colab-df-convert');\n",
              "      buttonEl.style.display =\n",
              "        google.colab.kernel.accessAllowed ? 'block' : 'none';\n",
              "\n",
              "      async function convertToInteractive(key) {\n",
              "        const element = document.querySelector('#df-7330282c-12db-4565-b5b6-a85641d8cf54');\n",
              "        const dataTable =\n",
              "          await google.colab.kernel.invokeFunction('convertToInteractive',\n",
              "                                                    [key], {});\n",
              "        if (!dataTable) return;\n",
              "\n",
              "        const docLinkHtml = 'Like what you see? Visit the ' +\n",
              "          '<a target=\"_blank\" href=https://colab.research.google.com/notebooks/data_table.ipynb>data table notebook</a>'\n",
              "          + ' to learn more about interactive tables.';\n",
              "        element.innerHTML = '';\n",
              "        dataTable['output_type'] = 'display_data';\n",
              "        await google.colab.output.renderOutput(dataTable, element);\n",
              "        const docLink = document.createElement('div');\n",
              "        docLink.innerHTML = docLinkHtml;\n",
              "        element.appendChild(docLink);\n",
              "      }\n",
              "    </script>\n",
              "  </div>\n",
              "\n",
              "\n",
              "<div id=\"df-eac9af02-5a8d-45c9-88ea-620f64731236\">\n",
              "  <button class=\"colab-df-quickchart\" onclick=\"quickchart('df-eac9af02-5a8d-45c9-88ea-620f64731236')\"\n",
              "            title=\"Suggest charts\"\n",
              "            style=\"display:none;\">\n",
              "\n",
              "<svg xmlns=\"http://www.w3.org/2000/svg\" height=\"24px\"viewBox=\"0 0 24 24\"\n",
              "     width=\"24px\">\n",
              "    <g>\n",
              "        <path d=\"M19 3H5c-1.1 0-2 .9-2 2v14c0 1.1.9 2 2 2h14c1.1 0 2-.9 2-2V5c0-1.1-.9-2-2-2zM9 17H7v-7h2v7zm4 0h-2V7h2v10zm4 0h-2v-4h2v4z\"/>\n",
              "    </g>\n",
              "</svg>\n",
              "  </button>\n",
              "\n",
              "<style>\n",
              "  .colab-df-quickchart {\n",
              "      --bg-color: #E8F0FE;\n",
              "      --fill-color: #1967D2;\n",
              "      --hover-bg-color: #E2EBFA;\n",
              "      --hover-fill-color: #174EA6;\n",
              "      --disabled-fill-color: #AAA;\n",
              "      --disabled-bg-color: #DDD;\n",
              "  }\n",
              "\n",
              "  [theme=dark] .colab-df-quickchart {\n",
              "      --bg-color: #3B4455;\n",
              "      --fill-color: #D2E3FC;\n",
              "      --hover-bg-color: #434B5C;\n",
              "      --hover-fill-color: #FFFFFF;\n",
              "      --disabled-bg-color: #3B4455;\n",
              "      --disabled-fill-color: #666;\n",
              "  }\n",
              "\n",
              "  .colab-df-quickchart {\n",
              "    background-color: var(--bg-color);\n",
              "    border: none;\n",
              "    border-radius: 50%;\n",
              "    cursor: pointer;\n",
              "    display: none;\n",
              "    fill: var(--fill-color);\n",
              "    height: 32px;\n",
              "    padding: 0;\n",
              "    width: 32px;\n",
              "  }\n",
              "\n",
              "  .colab-df-quickchart:hover {\n",
              "    background-color: var(--hover-bg-color);\n",
              "    box-shadow: 0 1px 2px rgba(60, 64, 67, 0.3), 0 1px 3px 1px rgba(60, 64, 67, 0.15);\n",
              "    fill: var(--button-hover-fill-color);\n",
              "  }\n",
              "\n",
              "  .colab-df-quickchart-complete:disabled,\n",
              "  .colab-df-quickchart-complete:disabled:hover {\n",
              "    background-color: var(--disabled-bg-color);\n",
              "    fill: var(--disabled-fill-color);\n",
              "    box-shadow: none;\n",
              "  }\n",
              "\n",
              "  .colab-df-spinner {\n",
              "    border: 2px solid var(--fill-color);\n",
              "    border-color: transparent;\n",
              "    border-bottom-color: var(--fill-color);\n",
              "    animation:\n",
              "      spin 1s steps(1) infinite;\n",
              "  }\n",
              "\n",
              "  @keyframes spin {\n",
              "    0% {\n",
              "      border-color: transparent;\n",
              "      border-bottom-color: var(--fill-color);\n",
              "      border-left-color: var(--fill-color);\n",
              "    }\n",
              "    20% {\n",
              "      border-color: transparent;\n",
              "      border-left-color: var(--fill-color);\n",
              "      border-top-color: var(--fill-color);\n",
              "    }\n",
              "    30% {\n",
              "      border-color: transparent;\n",
              "      border-left-color: var(--fill-color);\n",
              "      border-top-color: var(--fill-color);\n",
              "      border-right-color: var(--fill-color);\n",
              "    }\n",
              "    40% {\n",
              "      border-color: transparent;\n",
              "      border-right-color: var(--fill-color);\n",
              "      border-top-color: var(--fill-color);\n",
              "    }\n",
              "    60% {\n",
              "      border-color: transparent;\n",
              "      border-right-color: var(--fill-color);\n",
              "    }\n",
              "    80% {\n",
              "      border-color: transparent;\n",
              "      border-right-color: var(--fill-color);\n",
              "      border-bottom-color: var(--fill-color);\n",
              "    }\n",
              "    90% {\n",
              "      border-color: transparent;\n",
              "      border-bottom-color: var(--fill-color);\n",
              "    }\n",
              "  }\n",
              "</style>\n",
              "\n",
              "  <script>\n",
              "    async function quickchart(key) {\n",
              "      const quickchartButtonEl =\n",
              "        document.querySelector('#' + key + ' button');\n",
              "      quickchartButtonEl.disabled = true;  // To prevent multiple clicks.\n",
              "      quickchartButtonEl.classList.add('colab-df-spinner');\n",
              "      try {\n",
              "        const charts = await google.colab.kernel.invokeFunction(\n",
              "            'suggestCharts', [key], {});\n",
              "      } catch (error) {\n",
              "        console.error('Error during call to suggestCharts:', error);\n",
              "      }\n",
              "      quickchartButtonEl.classList.remove('colab-df-spinner');\n",
              "      quickchartButtonEl.classList.add('colab-df-quickchart-complete');\n",
              "    }\n",
              "    (() => {\n",
              "      let quickchartButtonEl =\n",
              "        document.querySelector('#df-eac9af02-5a8d-45c9-88ea-620f64731236 button');\n",
              "      quickchartButtonEl.style.display =\n",
              "        google.colab.kernel.accessAllowed ? 'block' : 'none';\n",
              "    })();\n",
              "  </script>\n",
              "</div>\n",
              "\n",
              "    </div>\n",
              "  </div>\n"
            ],
            "application/vnd.google.colaboratory.intrinsic+json": {
              "type": "dataframe",
              "variable_name": "df_trasplantes",
              "summary": "{\n  \"name\": \"df_trasplantes\",\n  \"rows\": 944,\n  \"fields\": [\n    {\n      \"column\": \"A\\u00f1o\",\n      \"properties\": {\n        \"dtype\": \"number\",\n        \"std\": 2,\n        \"min\": 2015,\n        \"max\": 2024,\n        \"num_unique_values\": 10,\n        \"samples\": [\n          2023,\n          2016,\n          2020\n        ],\n        \"semantic_type\": \"\",\n        \"description\": \"\"\n      }\n    },\n    {\n      \"column\": \"Proceso\",\n      \"properties\": {\n        \"dtype\": \"category\",\n        \"num_unique_values\": 1,\n        \"samples\": [\n          \"Trasplante\"\n        ],\n        \"semantic_type\": \"\",\n        \"description\": \"\"\n      }\n    },\n    {\n      \"column\": \"\\u00d3rgano\",\n      \"properties\": {\n        \"dtype\": \"category\",\n        \"num_unique_values\": 8,\n        \"samples\": [\n          \"Coraz\\u00f3n\"\n        ],\n        \"semantic_type\": \"\",\n        \"description\": \"\"\n      }\n    },\n    {\n      \"column\": \"Sexo\",\n      \"properties\": {\n        \"dtype\": \"category\",\n        \"num_unique_values\": 2,\n        \"samples\": [\n          \"Mujer\"\n        ],\n        \"semantic_type\": \"\",\n        \"description\": \"\"\n      }\n    },\n    {\n      \"column\": \"Grupo_Edad\",\n      \"properties\": {\n        \"dtype\": \"category\",\n        \"num_unique_values\": 8,\n        \"samples\": [\n          \"10-19 A\\u00f1os\"\n        ],\n        \"semantic_type\": \"\",\n        \"description\": \"\"\n      }\n    },\n    {\n      \"column\": \"Cantidad\",\n      \"properties\": {\n        \"dtype\": \"number\",\n        \"std\": 24,\n        \"min\": 0,\n        \"max\": 203,\n        \"num_unique_values\": 97,\n        \"samples\": [\n          78\n        ],\n        \"semantic_type\": \"\",\n        \"description\": \"\"\n      }\n    },\n    {\n      \"column\": \"Donante_Vivo\",\n      \"properties\": {\n        \"dtype\": \"number\",\n        \"std\": 0,\n        \"min\": -1,\n        \"max\": -1,\n        \"num_unique_values\": 1,\n        \"samples\": [\n          -1\n        ],\n        \"semantic_type\": \"\",\n        \"description\": \"\"\n      }\n    },\n    {\n      \"column\": \"Combinado\",\n      \"properties\": {\n        \"dtype\": \"number\",\n        \"std\": 0,\n        \"min\": 0,\n        \"max\": 1,\n        \"num_unique_values\": 2,\n        \"samples\": [\n          1\n        ],\n        \"semantic_type\": \"\",\n        \"description\": \"\"\n      }\n    }\n  ]\n}"
            }
          },
          "metadata": {},
          "execution_count": 53
        }
      ]
    },
    {
      "cell_type": "code",
      "source": [
        "# Step 2 - Split the combined rows\n",
        "def split_combined(row):\n",
        "    if row['Combinado'] == 1:\n",
        "        # Split organs using \"-\", remove \"Combinado\" keyword\n",
        "        organs = [org.replace('Combinado ', '') for org in row['Órgano'].split('-')]\n",
        "        return pd.DataFrame({\n",
        "            'Órgano': organs,\n",
        "            'Combinado': [1] * len(organs),\n",
        "            'Sexo': [row['Sexo']] * len(organs),\n",
        "            'Grupo_Edad': [row['Grupo_Edad']] * len(organs),\n",
        "            'Cantidad': [row['Cantidad']] * len(organs),\n",
        "            'Donante_Vivo': [row['Donante_Vivo']] * len(organs),\n",
        "            'Año': [row['Año']] * len(organs),\n",
        "            'Proceso': [row['Proceso']] * len(organs)\n",
        "        })\n",
        "    else:\n",
        "        # Keep the rest without changes\n",
        "        return pd.DataFrame([row])\n",
        "\n",
        "# Apply to each row and concat result\n",
        "df_trasplantes = pd.concat(df_trasplantes.apply(split_combined, axis=1).tolist(), ignore_index=True)\n",
        "\n",
        "# Print results\n",
        "print(df_trasplantes.head())\n",
        "\n",
        "print(\"\\nUnique values for [Órgano]:\\n\",df_trasplantes['Órgano'].unique())"
      ],
      "metadata": {
        "id": "h9B9ZHpfOEY0",
        "outputId": "41639d07-55c1-46e3-841f-dfdb8cb3c48f",
        "colab": {
          "base_uri": "https://localhost:8080/"
        }
      },
      "execution_count": 54,
      "outputs": [
        {
          "output_type": "stream",
          "name": "stdout",
          "text": [
            "    Año     Proceso Órgano    Sexo  Grupo_Edad  Cantidad  Donante_Vivo  Combinado\n",
            "0  2015  Trasplante  Riñón  Hombre    0-9 Años         4            -1          0\n",
            "1  2015  Trasplante  Riñón  Hombre  10-19 Años        12            -1          0\n",
            "2  2015  Trasplante  Riñón  Hombre  20-29 Años        16            -1          0\n",
            "3  2015  Trasplante  Riñón  Hombre  30-39 Años        30            -1          0\n",
            "4  2015  Trasplante  Riñón  Hombre  40-49 Años        26            -1          0\n",
            "\n",
            "Unique values for [Órgano]:\n",
            " ['Riñón' 'Corazón' 'Hígado' 'Pulmón' 'Córneas' 'Páncreas']\n"
          ]
        }
      ]
    },
    {
      "cell_type": "markdown",
      "source": [
        "### _2.1.1 Correlation: Sex vs. Organ_\n",
        "\n",
        "Since we are working with **categorical variables** (sex and organ), directly applying a standard correlation measure (Spearman, etc.) would not be appropriate in this case. After some research, I found a more advanced methods that we could consider, *Cramér's V.*\n",
        "\n",
        "**Cramér's V** is a measure of association between two categorical variables based on the Chi-squared statistic. It handles categorical variables without requiring numerical transformations."
      ],
      "metadata": {
        "id": "Q0PWpGg9Kr73"
      }
    },
    {
      "cell_type": "markdown",
      "source": [
        "**Step 1: Build a contingency table**\n",
        "\n",
        "We'll start by creating a contingency table where each cell represents the sum of `Cantidad` for a combination of `Órgano` and `Sexo`."
      ],
      "metadata": {
        "id": "7XPjKklVxmfi"
      }
    },
    {
      "cell_type": "code",
      "source": [
        "# Contingency table\n",
        "contingency_table = df_trasplantes.pivot_table(\n",
        "    values='Cantidad',\n",
        "    index='Órgano',\n",
        "    columns='Sexo',\n",
        "    aggfunc='sum',\n",
        "    fill_value=0\n",
        ")\n",
        "\n",
        "print(\"Contingency Table (Sum of 'Cantidad'):\")\n",
        "print(contingency_table)"
      ],
      "metadata": {
        "id": "Jn8oHuNpBqgv",
        "outputId": "53c3ec28-0d4e-420c-f326-cae4b3086e5d",
        "colab": {
          "base_uri": "https://localhost:8080/"
        }
      },
      "execution_count": 55,
      "outputs": [
        {
          "output_type": "stream",
          "name": "stdout",
          "text": [
            "Contingency Table (Sum of 'Cantidad'):\n",
            "Sexo      Hombre  Mujer\n",
            "Órgano                 \n",
            "Corazón      139     55\n",
            "Córneas     3582   2930\n",
            "Hígado       552    586\n",
            "Pulmón        64     53\n",
            "Páncreas       1      0\n",
            "Riñón       1673   1127\n"
          ]
        }
      ]
    },
    {
      "cell_type": "markdown",
      "source": [
        "**Step 2: Compute Chi-squared statistic and Cramér's V**\n",
        "\n",
        "We use the contingency table to calculate the Chi-squared statistic and then Cramér's V:"
      ],
      "metadata": {
        "id": "p8YIyQJwyj0Z"
      }
    },
    {
      "cell_type": "code",
      "source": [
        "from scipy.stats import chi2_contingency\n",
        "\n",
        "# Chi-squared Test\n",
        "chi2, p, dof, expected = chi2_contingency(contingency_table)\n",
        "\n",
        "# Total number of observations\n",
        "n = contingency_table.sum().sum()\n",
        "\n",
        "# Calculate Cramér's V\n",
        "cramers_v = np.sqrt(chi2 / (n * (min(contingency_table.shape) - 1)))\n",
        "\n",
        "print(\"Chi-squared statistic:\", chi2)\n",
        "print(\"p-value:\", p)\n",
        "print(\"Degrees of Freedom:\", dof)\n",
        "print(\"\\nExpected frequencies:\\n\", expected)\n",
        "print(\"\\nCramér's V:\", cramers_v)"
      ],
      "metadata": {
        "id": "muQf6iPuylag",
        "outputId": "b9e5b1bf-cebc-4216-b947-b97cb33a6ba9",
        "colab": {
          "base_uri": "https://localhost:8080/"
        }
      },
      "execution_count": 56,
      "outputs": [
        {
          "output_type": "stream",
          "name": "stdout",
          "text": [
            "Chi-squared statistic: 64.53682113431675\n",
            "p-value: 1.3981859957982608e-12\n",
            "Degrees of Freedom: 5\n",
            "\n",
            "Expected frequencies:\n",
            " [[1.08356625e+02 8.56433748e+01]\n",
            " [3.63720795e+03 2.87479205e+03]\n",
            " [6.35617729e+02 5.02382271e+02]\n",
            " [6.53490987e+01 5.16509013e+01]\n",
            " [5.58539305e-01 4.41460695e-01]\n",
            " [1.56391005e+03 1.23608995e+03]]\n",
            "\n",
            "Cramér's V: 0.0774385640122251\n"
          ]
        }
      ]
    },
    {
      "cell_type": "markdown",
      "source": [
        "**Explanation of the results:**\n",
        "\n",
        "- **Chi-squared statistic:** Indicates how far the observed data is from what would be expected if there were no relationship between Órgano and Sexo.\n",
        "\n",
        "- **p-value:** Tests the null hypothesis that Órgano and Sexo are independent: Since we have a small p-value (< 0.05), we are rejecting the null hypothesis, meaning there’s likely an association.\n",
        "\n",
        "- **Cramér's V:** A value of  less than 0.1 means that there is little to no association, like in this case. `0.077` indicates a very weak association, even though it’s statistically significant.\n",
        "\n",
        "And, since this relationship is not really meaningfull, we **will not keep on exploring** this path."
      ],
      "metadata": {
        "id": "rVHrvFhhzHkW"
      }
    },
    {
      "cell_type": "markdown",
      "source": [
        "### _2.1.1 Other Correlations_\n",
        "\n",
        "I also explored other pairs of variables with the hope of finding higher Cramér's V values. Such results are as follow:"
      ],
      "metadata": {
        "id": "yaxcfG_ir-7a"
      }
    },
    {
      "cell_type": "markdown",
      "source": [
        "**Try 2: Organ vs. Age Group**"
      ],
      "metadata": {
        "id": "rVA8OptJr-7g"
      }
    },
    {
      "cell_type": "code",
      "source": [
        "# Contingency table\n",
        "contingency_table = df_trasplantes.pivot_table(\n",
        "    values='Cantidad',\n",
        "    index='Sexo',\n",
        "    columns='Grupo_Edad',\n",
        "    aggfunc='sum',\n",
        "    fill_value=0\n",
        ")\n",
        "\n",
        "# Chi-squared Test\n",
        "chi2, p, dof, expected = chi2_contingency(contingency_table)\n",
        "\n",
        "# Total number of observations\n",
        "n = contingency_table.sum().sum()\n",
        "\n",
        "# Calculate Cramér's V\n",
        "cramers_v = np.sqrt(chi2 / (n * (min(contingency_table.shape) - 1)))\n",
        "\n",
        "print(\"TRANSPLANT CORRELATION\\nOrgan vs. Age Group\\n\")\n",
        "print(\"Chi-squared statistic:\", chi2)\n",
        "print(\"p-value:\", p)\n",
        "print(\"Cramér's V:\", cramers_v)\n",
        "\n",
        "print(\"\\nNOT A MEANINGFUL CORRELATION\")"
      ],
      "metadata": {
        "outputId": "8d7d6901-ecad-419e-abfa-e0c05bbb44b0",
        "colab": {
          "base_uri": "https://localhost:8080/"
        },
        "id": "viyyltK0r-7g"
      },
      "execution_count": 57,
      "outputs": [
        {
          "output_type": "stream",
          "name": "stdout",
          "text": [
            "TRANSPLANT CORRELATION\n",
            "Organ vs. Age Group\n",
            "\n",
            "Chi-squared statistic: 140.25616878180708\n",
            "p-value: 4.492087099018914e-27\n",
            "Cramér's V: 0.11416013980026661\n",
            "\n",
            "NOT A MEANINGFUL CORRELATION\n"
          ]
        }
      ]
    },
    {
      "cell_type": "code",
      "source": [
        "# Contingency table\n",
        "contingency_table = df_trasplantes.pivot_table(\n",
        "    values='Cantidad',\n",
        "    index='Grupo_Edad',\n",
        "    columns='Año',\n",
        "    aggfunc='sum',\n",
        "    fill_value=0\n",
        ")\n",
        "\n",
        "# Chi-squared Test\n",
        "chi2, p, dof, expected = chi2_contingency(contingency_table)\n",
        "\n",
        "# Total number of observations\n",
        "n = contingency_table.sum().sum()\n",
        "\n",
        "# Calculate Cramér's V\n",
        "cramers_v = np.sqrt(chi2 / (n * (min(contingency_table.shape) - 1)))\n",
        "\n",
        "print(\"TRANSPLANT CORRELATION\\nOrgan vs. Age Group\\n\")\n",
        "print(\"Chi-squared statistic:\", chi2)\n",
        "print(\"p-value:\", p)\n",
        "print(\"Cramér's V:\", cramers_v)\n",
        "\n",
        "print(\"\\nNOT A MEANINGFUL CORRELATION\")"
      ],
      "metadata": {
        "id": "aR9gPOskuVxA",
        "outputId": "5fa696ea-2e5b-479a-c3e1-42e3bd98166a",
        "colab": {
          "base_uri": "https://localhost:8080/"
        }
      },
      "execution_count": 58,
      "outputs": [
        {
          "output_type": "stream",
          "name": "stdout",
          "text": [
            "TRANSPLANT CORRELATION\n",
            "Organ vs. Age Group\n",
            "\n",
            "Chi-squared statistic: 409.11703518789164\n",
            "p-value: 3.4946336422663936e-52\n",
            "Cramér's V: 0.07369334464449262\n",
            "\n",
            "NOT A MEANINGFUL CORRELATION\n"
          ]
        }
      ]
    },
    {
      "cell_type": "markdown",
      "source": [
        "## 2.2 - Clustering\n",
        "\n",
        "Trying to cluster Age Group vs. Organ for Donations"
      ],
      "metadata": {
        "id": "Y-bcKOYxHZm0"
      }
    },
    {
      "cell_type": "markdown",
      "metadata": {
        "id": "tQ3xdmKd3MYw"
      },
      "source": [
        "### Cantidad log-transform"
      ]
    },
    {
      "cell_type": "markdown",
      "metadata": {
        "id": "jmIerMHh3MYx"
      },
      "source": [
        "The `Cantidad` column represent a wide range of numerical values, so we start by doing some **descriptive statistics** to get a better understanding of the data."
      ]
    },
    {
      "cell_type": "code",
      "execution_count": 59,
      "metadata": {
        "colab": {
          "base_uri": "https://localhost:8080/"
        },
        "id": "2IY3AAFN3MYx",
        "outputId": "6e431ac7-ab08-4c29-8dfd-83464ef6fa23"
      },
      "outputs": [
        {
          "output_type": "stream",
          "name": "stdout",
          "text": [
            "Descriptive statistics for Cantidad:\n",
            "count    212.000000\n",
            "mean      17.537736\n",
            "std       24.872252\n",
            "min        0.000000\n",
            "25%        0.000000\n",
            "50%        6.000000\n",
            "75%       26.250000\n",
            "max      148.000000\n",
            "Name: Cantidad, dtype: float64\n",
            "\n",
            "Median: 6.0\n",
            "IQR:26.25\n",
            "Lower limit: -39.375\n",
            "Upper limit: 65.625\n"
          ]
        }
      ],
      "source": [
        "# Statistical description of the Cantidad column\n",
        "print(\"Descriptive statistics for Cantidad:\")\n",
        "print(df_donaciones['Cantidad'].describe())\n",
        "\n",
        "# Print the Median\n",
        "print(f\"\\nMedian: {df_donaciones['Cantidad'].median()}\")\n",
        "\n",
        "# Calculate the IQR and the limits\n",
        "q1 = df_donaciones['Cantidad'].quantile(0.25)\n",
        "q3 = df_donaciones['Cantidad'].quantile(0.75)\n",
        "iqr = q3 - q1\n",
        "\n",
        "lower_limit = q1 - 1.5 * iqr\n",
        "upper_limit = q3 + 1.5 * iqr\n",
        "\n",
        "print(f\"IQR:{iqr}\\nLower limit: {lower_limit}\\nUpper limit: {upper_limit}\")"
      ]
    },
    {
      "cell_type": "markdown",
      "metadata": {
        "id": "kV9UhBXJ3MYx"
      },
      "source": [
        "Some observations:\n",
        "- The `mean` (_~11_) is significantly lower than the `max` (_203_). This hints that the distribution is **right skewed**.\n",
        "- Also, the `median` (_1_) is smaller than the `mean` (_11_), further supporting this hypothesis.\n",
        "\n",
        "With that in mind, we now check the IQR and limits, and their relationship with the actual data:\n",
        "- First, while the `lower limit` is _-13.5_, the `min` is _0_. Thus, there are **no negative outliers** in the data.\n",
        "- On the other hand, the `upper limit` is _22.5_, so every value above that should be considered an outlier.\n",
        "\n",
        "Visualizing the data, we can notice the big tail of the distribution (skewness) in the histogram, and the outliers in the boxplot:"
      ]
    },
    {
      "cell_type": "code",
      "execution_count": 60,
      "metadata": {
        "colab": {
          "base_uri": "https://localhost:8080/",
          "height": 944
        },
        "id": "50bmzAyv3MYy",
        "outputId": "a3527458-89d4-4ea1-e7d0-58d7af717d9b"
      },
      "outputs": [
        {
          "output_type": "display_data",
          "data": {
            "text/plain": [
              "<Figure size 800x500 with 1 Axes>"
            ],
            "image/png": "[encoded data removed]"
          },
          "metadata": {}
        },
        {
          "output_type": "display_data",
          "data": {
            "text/plain": [
              "<Figure size 800x500 with 1 Axes>"
            ],
            "image/png": "[encoded data removed]"
          },
          "metadata": {}
        }
      ],
      "source": [
        "# Histogram: Cantidad\n",
        "plt.figure(figsize=(8, 5))\n",
        "plt.hist(df_donaciones['Cantidad'], bins=30, rwidth=0.8)\n",
        "plt.title('Distribution of Cantidad', fontsize=14)\n",
        "plt.xlabel('Cantidad', fontsize=12)\n",
        "plt.ylabel('Frequency', fontsize=12)\n",
        "plt.show()\n",
        "\n",
        "# Boxplot: Cantidad\n",
        "plt.figure(figsize=(8, 5))\n",
        "medianprops = dict(linestyle='-', color='red')\n",
        "flierprops = dict(marker='o', markersize=5, markeredgecolor='black', markeredgewidth=0.5)\n",
        "plt.boxplot(df_donaciones['Cantidad'], vert=False, medianprops=medianprops, flierprops=flierprops, widths=(0.75))\n",
        "plt.title('Boxplot of Cantidad', fontsize=14)\n",
        "plt.yticks([])  # Remove y-axis labels\n",
        "plt.show()"
      ]
    },
    {
      "cell_type": "markdown",
      "metadata": {
        "id": "79bVbtSj3MYz"
      },
      "source": [
        "To address this skewness, we will aply a <span style=\"color:teal\">**log transformation**</span> to the data and then generate the statistical summary and plots again.\n",
        "\n",
        "<div class=\"alert alert-block alert-success\">\n",
        "  <span>✅</span> One of the most important advantages of this technique compared to other alternatives (such as <em>min-max</em> or <em>z-score</em>) is the <strong>reduction of the asymmetry</strong> of the distribution, a very valuable point when dealing with extreme outliers that we are not removing.\n",
        "</div>"
      ]
    },
    {
      "cell_type": "code",
      "execution_count": 61,
      "metadata": {
        "colab": {
          "base_uri": "https://localhost:8080/",
          "height": 1000
        },
        "id": "1UVOd6l03MYz",
        "outputId": "2b99fb86-a682-4a25-9c78-8f6e904d2226"
      },
      "outputs": [
        {
          "output_type": "stream",
          "name": "stderr",
          "text": [
            "<ipython-input-61-c2482f64fa56>:2: SettingWithCopyWarning: \n",
            "A value is trying to be set on a copy of a slice from a DataFrame.\n",
            "Try using .loc[row_indexer,col_indexer] = value instead\n",
            "\n",
            "See the caveats in the documentation: https://pandas.pydata.org/pandas-docs/stable/user_guide/indexing.html#returning-a-view-versus-a-copy\n",
            "  df_donaciones.loc[:, 'Cantidad_log'] = np.log1p(df_donaciones['Cantidad'])  # .loc to get rid of a Warning\n"
          ]
        },
        {
          "output_type": "stream",
          "name": "stdout",
          "text": [
            "Descriptive statistics for Cantidad_log:\n",
            "count    212.000000\n",
            "mean       1.883169\n",
            "std        1.595508\n",
            "min        0.000000\n",
            "25%        0.000000\n",
            "50%        1.945910\n",
            "75%        3.304929\n",
            "max        5.003946\n",
            "Name: Cantidad_log, dtype: float64\n",
            "\n",
            "Median: 1.9459101490553132\n",
            "IQR: 3.304928777047048\n",
            "Lower limit: -4.957393165570572\n",
            "Upper limit: 8.26232194261762\n",
            "\n"
          ]
        },
        {
          "output_type": "display_data",
          "data": {
            "text/plain": [
              "<Figure size 800x500 with 1 Axes>"
            ],
            "image/png": "[encoded data removed]"
          },
          "metadata": {}
        },
        {
          "output_type": "display_data",
          "data": {
            "text/plain": [
              "<Figure size 800x500 with 1 Axes>"
            ],
            "image/png": "[encoded data removed]"
          },
          "metadata": {}
        }
      ],
      "source": [
        "# Apply log transformation to 'Cantidad'\n",
        "df_donaciones.loc[:, 'Cantidad_log'] = np.log1p(df_donaciones['Cantidad'])  # .loc to get rid of a Warning\n",
        "\n",
        "# Descriptive statistics\n",
        "print(\"Descriptive statistics for Cantidad_log:\")\n",
        "print(df_donaciones['Cantidad_log'].describe())\n",
        "\n",
        "# The median\n",
        "print(f\"\\nMedian: {df_donaciones['Cantidad_log'].median()}\")\n",
        "\n",
        "# Calculate the IQR and the limits for the log-transformed column\n",
        "q1_log = df_donaciones['Cantidad_log'].quantile(0.25)\n",
        "q3_log = df_donaciones['Cantidad_log'].quantile(0.75)\n",
        "iqr_log = q3_log - q1_log\n",
        "\n",
        "lower_limit_log = q1_log - 1.5 * iqr_log\n",
        "upper_limit_log = q3_log + 1.5 * iqr_log\n",
        "\n",
        "print(f\"IQR: {iqr_log}\\nLower limit: {lower_limit_log}\\nUpper limit: {upper_limit_log}\\n\")\n",
        "\n",
        "\n",
        "# Then, we plot again...\n",
        "\n",
        "# Histogram: Cantidad (log-transformed)\n",
        "plt.figure(figsize=(8, 5))\n",
        "plt.hist(df_donaciones['Cantidad_log'], bins=30, rwidth=0.8)\n",
        "plt.title('Distribution of Cantidad (Log Transformed)', fontsize=14)\n",
        "plt.xlabel('Cantidad (Log)', fontsize=12)\n",
        "plt.ylabel('Frequency', fontsize=12)\n",
        "plt.show()\n",
        "\n",
        "# Boxplot: Cantidad (log-transformed)\n",
        "plt.figure(figsize=(8, 5))\n",
        "medianprops = dict(linestyle='-', color='red')\n",
        "flierprops = dict(marker='o', markersize=5, markeredgecolor='black', markeredgewidth=0.5)\n",
        "plt.boxplot(df_donaciones['Cantidad_log'], vert=False, medianprops=medianprops, flierprops=flierprops, widths=(0.75))\n",
        "plt.title('Boxplot of Cantidad (Log Transformed)', fontsize=14)\n",
        "plt.yticks([])  # Remove y-axis labels\n",
        "plt.show()"
      ]
    },
    {
      "cell_type": "markdown",
      "source": [
        "### Cluster: Alive Status vs. Organ for Donations"
      ],
      "metadata": {
        "id": "fD0t4pvdKJGu"
      }
    },
    {
      "cell_type": "code",
      "source": [
        "print(df_donaciones.head())\n",
        "print(df_donaciones['Donante_Vivo'].unique())"
      ],
      "metadata": {
        "colab": {
          "base_uri": "https://localhost:8080/"
        },
        "id": "h3BiF6QRao8M",
        "outputId": "afa2c976-4680-43b2-9b43-156d97674301"
      },
      "execution_count": 62,
      "outputs": [
        {
          "output_type": "stream",
          "name": "stdout",
          "text": [
            "    Año   Proceso   Órgano    Sexo Grupo_Edad  Cantidad  Donante_Vivo  Cantidad_log\n",
            "0  2015  Donación    Riñón  Hombre         NA        39             1      3.688879\n",
            "1  2015  Donación    Riñón   Mujer         NA        32             1      3.496508\n",
            "2  2015  Donación    Riñón  Hombre         NA        70             0      4.262680\n",
            "3  2015  Donación    Riñón   Mujer         NA        48             0      3.891820\n",
            "4  2015  Donación  Corazón  Hombre         NA         0             1      0.000000\n",
            "[1 0]\n"
          ]
        }
      ]
    },
    {
      "cell_type": "code",
      "source": [
        "df_num = df_donaciones[['Donante_Vivo', 'Órgano']]"
      ],
      "metadata": {
        "id": "GyEl-n79KO05"
      },
      "execution_count": 63,
      "outputs": []
    },
    {
      "cell_type": "code",
      "source": [
        "from sklearn.preprocessing import OneHotEncoder\n",
        "\n",
        "# Select the Órgano column for one-hot encoding\n",
        "organo_encoder = OneHotEncoder(sparse_output=False, drop='first')  # Use drop='first' to reduce dimensionality\n",
        "\n",
        "# Apply one-hot encoding to the Órgano column\n",
        "organo_encoded = organo_encoder.fit_transform(df_num[['Órgano']])\n",
        "\n",
        "# Convert to DataFrame with proper column names\n",
        "organo_encoded_df = pd.DataFrame(organo_encoded, columns=organo_encoder.get_feature_names_out(['Órgano']))\n",
        "\n",
        "# Combine with the Donante_Vivo column\n",
        "df_encoded = pd.concat([df_num[['Donante_Vivo']].reset_index(drop=True), organo_encoded_df], axis=1)\n",
        "\n",
        "# Display the first few rows\n",
        "print(df_encoded.head())\n"
      ],
      "metadata": {
        "colab": {
          "base_uri": "https://localhost:8080/"
        },
        "id": "6kjbhXh8aP8P",
        "outputId": "f714025b-be4e-42da-9374-655b528151fe"
      },
      "execution_count": 64,
      "outputs": [
        {
          "output_type": "stream",
          "name": "stdout",
          "text": [
            "   Donante_Vivo  Órgano_Corazón  Órgano_Córneas  Órgano_Hígado  Órgano_Pulmón  Órgano_Páncreas  Órgano_Riñón\n",
            "0             1             0.0             0.0            0.0            0.0              0.0           1.0\n",
            "1             1             0.0             0.0            0.0            0.0              0.0           1.0\n",
            "2             0             0.0             0.0            0.0            0.0              0.0           1.0\n",
            "3             0             0.0             0.0            0.0            0.0              0.0           1.0\n",
            "4             1             1.0             0.0            0.0            0.0              0.0           0.0\n"
          ]
        }
      ]
    },
    {
      "cell_type": "code",
      "source": [
        "from sklearn.cluster import KMeans\n",
        "\n",
        "k_means = KMeans(n_clusters=2, random_state=42)\n",
        "k_means.fit(df_encoded)\n",
        "\n",
        "# Add cluster labels to the DataFrame for analysis\n",
        "# df_encoded['Cluster'] = k_means.labels_\n",
        "\n",
        "# Display cluster assignments\n",
        "print(df_encoded.head())"
      ],
      "metadata": {
        "colab": {
          "base_uri": "https://localhost:8080/"
        },
        "id": "JRbUbKKMWP1s",
        "outputId": "dba784b5-e66d-4298-92e5-e4c2f4b4a4fa"
      },
      "execution_count": 65,
      "outputs": [
        {
          "output_type": "stream",
          "name": "stdout",
          "text": [
            "   Donante_Vivo  Órgano_Corazón  Órgano_Córneas  Órgano_Hígado  Órgano_Pulmón  Órgano_Páncreas  Órgano_Riñón\n",
            "0             1             0.0             0.0            0.0            0.0              0.0           1.0\n",
            "1             1             0.0             0.0            0.0            0.0              0.0           1.0\n",
            "2             0             0.0             0.0            0.0            0.0              0.0           1.0\n",
            "3             0             0.0             0.0            0.0            0.0              0.0           1.0\n",
            "4             1             1.0             0.0            0.0            0.0              0.0           0.0\n"
          ]
        }
      ]
    },
    {
      "cell_type": "code",
      "source": [
        "k_means.labels_"
      ],
      "metadata": {
        "colab": {
          "base_uri": "https://localhost:8080/"
        },
        "id": "CtxLnZmfWjVS",
        "outputId": "d41eb29b-88a9-4eff-89fd-47f156b7776b"
      },
      "execution_count": 66,
      "outputs": [
        {
          "output_type": "execute_result",
          "data": {
            "text/plain": [
              "array([1, 1, 1, 1, 1, 1, 1, 1, 1, 1, 1, 1, 0, 0, 0, 0, 1, 1, 1, 1, 1, 1,\n",
              "       1, 1, 1, 1, 1, 1, 0, 0, 0, 0, 1, 1, 1, 1, 1, 1, 1, 1, 1, 1, 1, 1,\n",
              "       0, 0, 0, 0, 1, 1, 1, 1, 1, 1, 1, 1, 1, 1, 1, 1, 0, 0, 0, 0, 1, 1,\n",
              "       1, 1, 1, 1, 1, 1, 1, 1, 1, 1, 0, 0, 0, 0, 1, 1, 1, 1, 1, 1, 1, 1,\n",
              "       1, 1, 1, 1, 1, 1, 1, 1, 1, 1, 1, 1, 0, 0, 0, 0, 1, 1, 1, 1, 1, 1,\n",
              "       1, 1, 1, 1, 1, 1, 1, 1, 1, 1, 1, 1, 1, 1, 0, 0, 0, 0, 1, 1, 1, 1,\n",
              "       1, 1, 1, 1, 1, 1, 1, 1, 1, 1, 1, 1, 1, 1, 1, 1, 0, 0, 0, 0, 1, 1,\n",
              "       1, 1, 1, 1, 1, 1, 1, 1, 1, 1, 1, 1, 1, 1, 1, 1, 1, 1, 0, 0, 0, 0,\n",
              "       1, 1, 1, 1, 1, 1, 1, 1, 1, 1, 1, 1, 1, 1, 1, 1, 1, 1, 1, 1, 0, 0,\n",
              "       0, 0, 1, 1, 1, 1, 1, 1, 1, 1, 1, 1, 1, 1], dtype=int32)"
            ]
          },
          "metadata": {},
          "execution_count": 66
        }
      ]
    },
    {
      "cell_type": "code",
      "source": [
        "np.unique(k_means.labels_)"
      ],
      "metadata": {
        "colab": {
          "base_uri": "https://localhost:8080/"
        },
        "id": "utdT5qNqWwNg",
        "outputId": "8628cf83-79da-48e0-8217-504793ac06cb"
      },
      "execution_count": 67,
      "outputs": [
        {
          "output_type": "execute_result",
          "data": {
            "text/plain": [
              "array([0, 1], dtype=int32)"
            ]
          },
          "metadata": {},
          "execution_count": 67
        }
      ]
    },
    {
      "cell_type": "code",
      "source": [
        "centers = k_means.cluster_centers_\n",
        "centers"
      ],
      "metadata": {
        "colab": {
          "base_uri": "https://localhost:8080/"
        },
        "id": "kkfzI-YVXDsg",
        "outputId": "94f481b0-0a45-4796-fa90-c3d1122d351b"
      },
      "execution_count": 68,
      "outputs": [
        {
          "output_type": "execute_result",
          "data": {
            "text/plain": [
              "array([[ 5.00000000e-01, -1.66533454e-16, -4.16333634e-17,\n",
              "        -1.66533454e-16,  1.00000000e+00,  0.00000000e+00,\n",
              "        -1.66533454e-16],\n",
              "       [ 5.00000000e-01,  2.32558140e-01,  1.39534884e-01,\n",
              "         2.32558140e-01, -3.05311332e-16,  2.32558140e-02,\n",
              "         2.32558140e-01]])"
            ]
          },
          "metadata": {},
          "execution_count": 68
        }
      ]
    },
    {
      "cell_type": "code",
      "source": [
        "from sklearn.decomposition import PCA\n",
        "import matplotlib.pyplot as plt\n",
        "\n",
        "# Perform PCA to reduce dimensions to 2\n",
        "pca = PCA(n_components=2)\n",
        "df_pca = pca.fit_transform(df_encoded)\n",
        "\n",
        "# Extract cluster centroids in PCA-reduced space\n",
        "centers_pca = pca.transform(centers)\n",
        "\n",
        "# Plot the clusters\n",
        "plt.figure(figsize=(8, 5))\n",
        "\n",
        "# Scatter plot of the PCA-transformed data points\n",
        "plt.scatter(df_pca[:, 0], df_pca[:, 1], c=k_means.labels_, cmap='viridis', s=30, label='Data points')\n",
        "\n",
        "# Scatter plot of centroids\n",
        "plt.scatter(centers_pca[:, 0], centers_pca[:, 1], color='red', marker='*', s=300, label='Centroids')\n",
        "\n",
        "# Labels and title\n",
        "plt.xlabel('PCA Component 1')\n",
        "plt.ylabel('PCA Component 2')\n",
        "plt.title('K-Means Clustering (PCA-reduced)')\n",
        "plt.legend()\n",
        "plt.show()"
      ],
      "metadata": {
        "colab": {
          "base_uri": "https://localhost:8080/",
          "height": 542
        },
        "id": "wwEx3QvOXErN",
        "outputId": "7056e7ad-37f2-41ba-c718-73e8ee6b026e"
      },
      "execution_count": 69,
      "outputs": [
        {
          "output_type": "stream",
          "name": "stderr",
          "text": [
            "/usr/local/lib/python3.10/dist-packages/sklearn/base.py:493: UserWarning: X does not have valid feature names, but PCA was fitted with feature names\n",
            "  warnings.warn(\n"
          ]
        },
        {
          "output_type": "display_data",
          "data": {
            "text/plain": [
              "<Figure size 800x500 with 1 Axes>"
            ],
            "image/png": "[encoded data removed]"
          },
          "metadata": {}
        }
      ]
    },
    {
      "cell_type": "code",
      "source": [
        "from sklearn import metrics\n",
        "\n",
        "score = metrics.silhouette_score (df_encoded, k_means.labels_)\n",
        "print(\"Silhouette Score = \", score)"
      ],
      "metadata": {
        "colab": {
          "base_uri": "https://localhost:8080/"
        },
        "id": "09IoRxpXXlWX",
        "outputId": "667ebcd6-c7fb-4eda-b0a1-bae0d8885a24"
      },
      "execution_count": 70,
      "outputs": [
        {
          "output_type": "stream",
          "name": "stdout",
          "text": [
            "Silhouette Score =  0.25393132472064617\n"
          ]
        }
      ]
    },
    {
      "cell_type": "code",
      "source": [
        "wscc = []\n",
        "for i in range(1,15):\n",
        "    kmeans = KMeans(n_clusters=i, init=\"k-means++\",random_state=0)\n",
        "    kmeans.fit(df_pca)\n",
        "    wscc.append(kmeans.inertia_)\n",
        "\n",
        "# Elbowplot: Optimal K\n",
        "plt.plot(range(1,15),wscc,marker=\"o\",c=\"crimson\")\n",
        "plt.title(\"Elbow Plot: Optimal K\")"
      ],
      "metadata": {
        "colab": {
          "base_uri": "https://localhost:8080/",
          "height": 628
        },
        "id": "8UNxoWBkYv87",
        "outputId": "e785ad80-3558-4410-db10-4c1e79c8106e"
      },
      "execution_count": 71,
      "outputs": [
        {
          "output_type": "stream",
          "name": "stderr",
          "text": [
            "/usr/local/lib/python3.10/dist-packages/sklearn/base.py:1473: ConvergenceWarning: Number of distinct clusters (10) found smaller than n_clusters (11). Possibly due to duplicate points in X.\n",
            "  return fit_method(estimator, *args, **kwargs)\n",
            "/usr/local/lib/python3.10/dist-packages/sklearn/base.py:1473: ConvergenceWarning: Number of distinct clusters (10) found smaller than n_clusters (12). Possibly due to duplicate points in X.\n",
            "  return fit_method(estimator, *args, **kwargs)\n",
            "/usr/local/lib/python3.10/dist-packages/sklearn/base.py:1473: ConvergenceWarning: Number of distinct clusters (10) found smaller than n_clusters (13). Possibly due to duplicate points in X.\n",
            "  return fit_method(estimator, *args, **kwargs)\n",
            "/usr/local/lib/python3.10/dist-packages/sklearn/base.py:1473: ConvergenceWarning: Number of distinct clusters (10) found smaller than n_clusters (14). Possibly due to duplicate points in X.\n",
            "  return fit_method(estimator, *args, **kwargs)\n"
          ]
        },
        {
          "output_type": "execute_result",
          "data": {
            "text/plain": [
              "Text(0.5, 1.0, 'Elbow Plot: Optimal K')"
            ]
          },
          "metadata": {},
          "execution_count": 71
        },
        {
          "output_type": "display_data",
          "data": {
            "text/plain": [
              "<Figure size 640x480 with 1 Axes>"
            ],
            "image/png": "[encoded data removed]"
          },
          "metadata": {}
        }
      ]
    },
    {
      "cell_type": "code",
      "source": [
        "k_means = KMeans(n_clusters=4, random_state=42)\n",
        "k_means.fit(df_encoded)\n",
        "\n",
        "# Add cluster labels to the DataFrame for analysis\n",
        "# df_encoded['Cluster'] = k_means.labels_\n",
        "\n",
        "# Display cluster assignments\n",
        "print(df_encoded.head())"
      ],
      "metadata": {
        "colab": {
          "base_uri": "https://localhost:8080/"
        },
        "id": "nEOo2981Y8ex",
        "outputId": "bf8f818b-c35b-452a-bc9d-d7b96ed9bb39"
      },
      "execution_count": 72,
      "outputs": [
        {
          "output_type": "stream",
          "name": "stdout",
          "text": [
            "   Donante_Vivo  Órgano_Corazón  Órgano_Córneas  Órgano_Hígado  Órgano_Pulmón  Órgano_Páncreas  Órgano_Riñón\n",
            "0             1             0.0             0.0            0.0            0.0              0.0           1.0\n",
            "1             1             0.0             0.0            0.0            0.0              0.0           1.0\n",
            "2             0             0.0             0.0            0.0            0.0              0.0           1.0\n",
            "3             0             0.0             0.0            0.0            0.0              0.0           1.0\n",
            "4             1             1.0             0.0            0.0            0.0              0.0           0.0\n"
          ]
        }
      ]
    },
    {
      "cell_type": "code",
      "source": [
        "np.unique(k_means.labels_)"
      ],
      "metadata": {
        "colab": {
          "base_uri": "https://localhost:8080/"
        },
        "id": "f1If2jiGZIGs",
        "outputId": "582f290d-fd69-413c-8774-c8f8e917a472"
      },
      "execution_count": 73,
      "outputs": [
        {
          "output_type": "execute_result",
          "data": {
            "text/plain": [
              "array([0, 1, 2, 3], dtype=int32)"
            ]
          },
          "metadata": {},
          "execution_count": 73
        }
      ]
    },
    {
      "cell_type": "code",
      "source": [
        "centers = k_means.cluster_centers_\n",
        "centers"
      ],
      "metadata": {
        "colab": {
          "base_uri": "https://localhost:8080/"
        },
        "id": "zbHFbQnoZKV0",
        "outputId": "34f083f9-9662-4847-9ad7-a67751f55d51"
      },
      "execution_count": 74,
      "outputs": [
        {
          "output_type": "execute_result",
          "data": {
            "text/plain": [
              "array([[ 5.00000000e-01, -1.66533454e-16, -4.16333634e-17,\n",
              "        -1.66533454e-16,  1.00000000e+00,  0.00000000e+00,\n",
              "        -1.66533454e-16],\n",
              "       [ 1.00000000e+00,  3.03030303e-01,  1.81818182e-01,\n",
              "        -2.49800181e-16, -2.49800181e-16,  3.03030303e-02,\n",
              "         3.03030303e-01],\n",
              "       [ 5.00000000e-01, -1.66533454e-16, -4.16333634e-17,\n",
              "         1.00000000e+00, -1.66533454e-16,  0.00000000e+00,\n",
              "        -1.66533454e-16],\n",
              "       [ 0.00000000e+00,  3.03030303e-01,  1.81818182e-01,\n",
              "        -2.49800181e-16, -2.49800181e-16,  3.03030303e-02,\n",
              "         3.03030303e-01]])"
            ]
          },
          "metadata": {},
          "execution_count": 74
        }
      ]
    },
    {
      "cell_type": "code",
      "source": [
        "# Perform PCA to reduce dimensions to 2\n",
        "pca = PCA(n_components=2)\n",
        "df_pca = pca.fit_transform(df_encoded)\n",
        "\n",
        "# Extract cluster centroids in PCA-reduced space\n",
        "centers_pca = pca.transform(centers)\n",
        "\n",
        "# Plot the clusters\n",
        "plt.figure(figsize=(8, 5))\n",
        "\n",
        "# Scatter plot of centroids\n",
        "plt.scatter(centers_pca[:, 0], centers_pca[:, 1], color='red', marker='*', s=300, label='Centroids')\n",
        "\n",
        "# Scatter plot of the PCA-transformed data points\n",
        "plt.scatter(df_pca[:, 0], df_pca[:, 1], c=k_means.labels_, cmap='viridis', s=30, label='Data points')\n",
        "\n",
        "# Labels and title\n",
        "plt.xlabel('PCA Component 1')\n",
        "plt.ylabel('PCA Component 2')\n",
        "plt.title('K-Means Clustering (PCA-reduced)')\n",
        "plt.legend()\n",
        "plt.show()"
      ],
      "metadata": {
        "colab": {
          "base_uri": "https://localhost:8080/",
          "height": 542
        },
        "id": "TFkQ4bTZZTMi",
        "outputId": "32da8a64-89f7-4db8-ffd1-475bd15724d3"
      },
      "execution_count": 75,
      "outputs": [
        {
          "output_type": "stream",
          "name": "stderr",
          "text": [
            "/usr/local/lib/python3.10/dist-packages/sklearn/base.py:493: UserWarning: X does not have valid feature names, but PCA was fitted with feature names\n",
            "  warnings.warn(\n"
          ]
        },
        {
          "output_type": "display_data",
          "data": {
            "text/plain": [
              "<Figure size 800x500 with 1 Axes>"
            ],
            "image/png": "[encoded data removed]"
          },
          "metadata": {}
        }
      ]
    },
    {
      "cell_type": "code",
      "source": [
        "score = metrics.silhouette_score (df_encoded, k_means.labels_)\n",
        "print(\"Silhouette Score = \", score)"
      ],
      "metadata": {
        "colab": {
          "base_uri": "https://localhost:8080/"
        },
        "id": "AS3lfGB9bglE",
        "outputId": "c20fa6a4-c2eb-4f47-bcf5-43a117dbe885"
      },
      "execution_count": 76,
      "outputs": [
        {
          "output_type": "stream",
          "name": "stdout",
          "text": [
            "Silhouette Score =  0.44092452723204417\n"
          ]
        }
      ]
    },
    {
      "cell_type": "markdown",
      "source": [
        "### Cluster: Año vs. Cantidad_log vs. Donante_Vivo"
      ],
      "metadata": {
        "id": "MV87XiXLkhdB"
      }
    },
    {
      "cell_type": "code",
      "source": [
        "print(df_donaciones.head())"
      ],
      "metadata": {
        "outputId": "7cef52a9-e3bc-4711-df01-567f540d45c9",
        "colab": {
          "base_uri": "https://localhost:8080/"
        },
        "id": "p6tW8b3SkhdH"
      },
      "execution_count": 77,
      "outputs": [
        {
          "output_type": "stream",
          "name": "stdout",
          "text": [
            "    Año   Proceso   Órgano    Sexo Grupo_Edad  Cantidad  Donante_Vivo  Cantidad_log\n",
            "0  2015  Donación    Riñón  Hombre         NA        39             1      3.688879\n",
            "1  2015  Donación    Riñón   Mujer         NA        32             1      3.496508\n",
            "2  2015  Donación    Riñón  Hombre         NA        70             0      4.262680\n",
            "3  2015  Donación    Riñón   Mujer         NA        48             0      3.891820\n",
            "4  2015  Donación  Corazón  Hombre         NA         0             1      0.000000\n"
          ]
        }
      ]
    },
    {
      "cell_type": "code",
      "source": [
        "df_num = df_donaciones[['Año','Donante_Vivo', 'Cantidad_log']]\n",
        "print(df_num.head())"
      ],
      "metadata": {
        "id": "dSe56ST9khdH",
        "outputId": "2adca193-0bc2-4c09-ea24-0e55e176ddf0",
        "colab": {
          "base_uri": "https://localhost:8080/"
        }
      },
      "execution_count": 78,
      "outputs": [
        {
          "output_type": "stream",
          "name": "stdout",
          "text": [
            "    Año  Donante_Vivo  Cantidad_log\n",
            "0  2015             1      3.688879\n",
            "1  2015             1      3.496508\n",
            "2  2015             0      4.262680\n",
            "3  2015             0      3.891820\n",
            "4  2015             1      0.000000\n"
          ]
        }
      ]
    },
    {
      "cell_type": "code",
      "source": [
        "from sklearn.cluster import KMeans\n",
        "\n",
        "k_means = KMeans(n_clusters=2, random_state=42)\n",
        "k_means.fit(df_num)"
      ],
      "metadata": {
        "colab": {
          "base_uri": "https://localhost:8080/",
          "height": 80
        },
        "outputId": "4ef27a61-5384-42cb-846f-4e22a7d6b291",
        "id": "-cACxIXukhdI"
      },
      "execution_count": 79,
      "outputs": [
        {
          "output_type": "execute_result",
          "data": {
            "text/plain": [
              "KMeans(n_clusters=2, random_state=42)"
            ],
            "text/html": [
              "<style>#sk-container-id-2 {\n",
              "  /* Definition of color scheme common for light and dark mode */\n",
              "  --sklearn-color-text: black;\n",
              "  --sklearn-color-line: gray;\n",
              "  /* Definition of color scheme for unfitted estimators */\n",
              "  --sklearn-color-unfitted-level-0: #fff5e6;\n",
              "  --sklearn-color-unfitted-level-1: #f6e4d2;\n",
              "  --sklearn-color-unfitted-level-2: #ffe0b3;\n",
              "  --sklearn-color-unfitted-level-3: chocolate;\n",
              "  /* Definition of color scheme for fitted estimators */\n",
              "  --sklearn-color-fitted-level-0: #f0f8ff;\n",
              "  --sklearn-color-fitted-level-1: #d4ebff;\n",
              "  --sklearn-color-fitted-level-2: #b3dbfd;\n",
              "  --sklearn-color-fitted-level-3: cornflowerblue;\n",
              "\n",
              "  /* Specific color for light theme */\n",
              "  --sklearn-color-text-on-default-background: var(--sg-text-color, var(--theme-code-foreground, var(--jp-content-font-color1, black)));\n",
              "  --sklearn-color-background: var(--sg-background-color, var(--theme-background, var(--jp-layout-color0, white)));\n",
              "  --sklearn-color-border-box: var(--sg-text-color, var(--theme-code-foreground, var(--jp-content-font-color1, black)));\n",
              "  --sklearn-color-icon: #696969;\n",
              "\n",
              "  @media (prefers-color-scheme: dark) {\n",
              "    /* Redefinition of color scheme for dark theme */\n",
              "    --sklearn-color-text-on-default-background: var(--sg-text-color, var(--theme-code-foreground, var(--jp-content-font-color1, white)));\n",
              "    --sklearn-color-background: var(--sg-background-color, var(--theme-background, var(--jp-layout-color0, #111)));\n",
              "    --sklearn-color-border-box: var(--sg-text-color, var(--theme-code-foreground, var(--jp-content-font-color1, white)));\n",
              "    --sklearn-color-icon: #878787;\n",
              "  }\n",
              "}\n",
              "\n",
              "#sk-container-id-2 {\n",
              "  color: var(--sklearn-color-text);\n",
              "}\n",
              "\n",
              "#sk-container-id-2 pre {\n",
              "  padding: 0;\n",
              "}\n",
              "\n",
              "#sk-container-id-2 input.sk-hidden--visually {\n",
              "  border: 0;\n",
              "  clip: rect(1px 1px 1px 1px);\n",
              "  clip: rect(1px, 1px, 1px, 1px);\n",
              "  height: 1px;\n",
              "  margin: -1px;\n",
              "  overflow: hidden;\n",
              "  padding: 0;\n",
              "  position: absolute;\n",
              "  width: 1px;\n",
              "}\n",
              "\n",
              "#sk-container-id-2 div.sk-dashed-wrapped {\n",
              "  border: 1px dashed var(--sklearn-color-line);\n",
              "  margin: 0 0.4em 0.5em 0.4em;\n",
              "  box-sizing: border-box;\n",
              "  padding-bottom: 0.4em;\n",
              "  background-color: var(--sklearn-color-background);\n",
              "}\n",
              "\n",
              "#sk-container-id-2 div.sk-container {\n",
              "  /* jupyter's `normalize.less` sets `[hidden] { display: none; }`\n",
              "     but bootstrap.min.css set `[hidden] { display: none !important; }`\n",
              "     so we also need the `!important` here to be able to override the\n",
              "     default hidden behavior on the sphinx rendered scikit-learn.org.\n",
              "     See: https://github.com/scikit-learn/scikit-learn/issues/21755 */\n",
              "  display: inline-block !important;\n",
              "  position: relative;\n",
              "}\n",
              "\n",
              "#sk-container-id-2 div.sk-text-repr-fallback {\n",
              "  display: none;\n",
              "}\n",
              "\n",
              "div.sk-parallel-item,\n",
              "div.sk-serial,\n",
              "div.sk-item {\n",
              "  /* draw centered vertical line to link estimators */\n",
              "  background-image: linear-gradient(var(--sklearn-color-text-on-default-background), var(--sklearn-color-text-on-default-background));\n",
              "  background-size: 2px 100%;\n",
              "  background-repeat: no-repeat;\n",
              "  background-position: center center;\n",
              "}\n",
              "\n",
              "/* Parallel-specific style estimator block */\n",
              "\n",
              "#sk-container-id-2 div.sk-parallel-item::after {\n",
              "  content: \"\";\n",
              "  width: 100%;\n",
              "  border-bottom: 2px solid var(--sklearn-color-text-on-default-background);\n",
              "  flex-grow: 1;\n",
              "}\n",
              "\n",
              "#sk-container-id-2 div.sk-parallel {\n",
              "  display: flex;\n",
              "  align-items: stretch;\n",
              "  justify-content: center;\n",
              "  background-color: var(--sklearn-color-background);\n",
              "  position: relative;\n",
              "}\n",
              "\n",
              "#sk-container-id-2 div.sk-parallel-item {\n",
              "  display: flex;\n",
              "  flex-direction: column;\n",
              "}\n",
              "\n",
              "#sk-container-id-2 div.sk-parallel-item:first-child::after {\n",
              "  align-self: flex-end;\n",
              "  width: 50%;\n",
              "}\n",
              "\n",
              "#sk-container-id-2 div.sk-parallel-item:last-child::after {\n",
              "  align-self: flex-start;\n",
              "  width: 50%;\n",
              "}\n",
              "\n",
              "#sk-container-id-2 div.sk-parallel-item:only-child::after {\n",
              "  width: 0;\n",
              "}\n",
              "\n",
              "/* Serial-specific style estimator block */\n",
              "\n",
              "#sk-container-id-2 div.sk-serial {\n",
              "  display: flex;\n",
              "  flex-direction: column;\n",
              "  align-items: center;\n",
              "  background-color: var(--sklearn-color-background);\n",
              "  padding-right: 1em;\n",
              "  padding-left: 1em;\n",
              "}\n",
              "\n",
              "\n",
              "/* Toggleable style: style used for estimator/Pipeline/ColumnTransformer box that is\n",
              "clickable and can be expanded/collapsed.\n",
              "- Pipeline and ColumnTransformer use this feature and define the default style\n",
              "- Estimators will overwrite some part of the style using the `sk-estimator` class\n",
              "*/\n",
              "\n",
              "/* Pipeline and ColumnTransformer style (default) */\n",
              "\n",
              "#sk-container-id-2 div.sk-toggleable {\n",
              "  /* Default theme specific background. It is overwritten whether we have a\n",
              "  specific estimator or a Pipeline/ColumnTransformer */\n",
              "  background-color: var(--sklearn-color-background);\n",
              "}\n",
              "\n",
              "/* Toggleable label */\n",
              "#sk-container-id-2 label.sk-toggleable__label {\n",
              "  cursor: pointer;\n",
              "  display: block;\n",
              "  width: 100%;\n",
              "  margin-bottom: 0;\n",
              "  padding: 0.5em;\n",
              "  box-sizing: border-box;\n",
              "  text-align: center;\n",
              "}\n",
              "\n",
              "#sk-container-id-2 label.sk-toggleable__label-arrow:before {\n",
              "  /* Arrow on the left of the label */\n",
              "  content: \"▸\";\n",
              "  float: left;\n",
              "  margin-right: 0.25em;\n",
              "  color: var(--sklearn-color-icon);\n",
              "}\n",
              "\n",
              "#sk-container-id-2 label.sk-toggleable__label-arrow:hover:before {\n",
              "  color: var(--sklearn-color-text);\n",
              "}\n",
              "\n",
              "/* Toggleable content - dropdown */\n",
              "\n",
              "#sk-container-id-2 div.sk-toggleable__content {\n",
              "  max-height: 0;\n",
              "  max-width: 0;\n",
              "  overflow: hidden;\n",
              "  text-align: left;\n",
              "  /* unfitted */\n",
              "  background-color: var(--sklearn-color-unfitted-level-0);\n",
              "}\n",
              "\n",
              "#sk-container-id-2 div.sk-toggleable__content.fitted {\n",
              "  /* fitted */\n",
              "  background-color: var(--sklearn-color-fitted-level-0);\n",
              "}\n",
              "\n",
              "#sk-container-id-2 div.sk-toggleable__content pre {\n",
              "  margin: 0.2em;\n",
              "  border-radius: 0.25em;\n",
              "  color: var(--sklearn-color-text);\n",
              "  /* unfitted */\n",
              "  background-color: var(--sklearn-color-unfitted-level-0);\n",
              "}\n",
              "\n",
              "#sk-container-id-2 div.sk-toggleable__content.fitted pre {\n",
              "  /* unfitted */\n",
              "  background-color: var(--sklearn-color-fitted-level-0);\n",
              "}\n",
              "\n",
              "#sk-container-id-2 input.sk-toggleable__control:checked~div.sk-toggleable__content {\n",
              "  /* Expand drop-down */\n",
              "  max-height: 200px;\n",
              "  max-width: 100%;\n",
              "  overflow: auto;\n",
              "}\n",
              "\n",
              "#sk-container-id-2 input.sk-toggleable__control:checked~label.sk-toggleable__label-arrow:before {\n",
              "  content: \"▾\";\n",
              "}\n",
              "\n",
              "/* Pipeline/ColumnTransformer-specific style */\n",
              "\n",
              "#sk-container-id-2 div.sk-label input.sk-toggleable__control:checked~label.sk-toggleable__label {\n",
              "  color: var(--sklearn-color-text);\n",
              "  background-color: var(--sklearn-color-unfitted-level-2);\n",
              "}\n",
              "\n",
              "#sk-container-id-2 div.sk-label.fitted input.sk-toggleable__control:checked~label.sk-toggleable__label {\n",
              "  background-color: var(--sklearn-color-fitted-level-2);\n",
              "}\n",
              "\n",
              "/* Estimator-specific style */\n",
              "\n",
              "/* Colorize estimator box */\n",
              "#sk-container-id-2 div.sk-estimator input.sk-toggleable__control:checked~label.sk-toggleable__label {\n",
              "  /* unfitted */\n",
              "  background-color: var(--sklearn-color-unfitted-level-2);\n",
              "}\n",
              "\n",
              "#sk-container-id-2 div.sk-estimator.fitted input.sk-toggleable__control:checked~label.sk-toggleable__label {\n",
              "  /* fitted */\n",
              "  background-color: var(--sklearn-color-fitted-level-2);\n",
              "}\n",
              "\n",
              "#sk-container-id-2 div.sk-label label.sk-toggleable__label,\n",
              "#sk-container-id-2 div.sk-label label {\n",
              "  /* The background is the default theme color */\n",
              "  color: var(--sklearn-color-text-on-default-background);\n",
              "}\n",
              "\n",
              "/* On hover, darken the color of the background */\n",
              "#sk-container-id-2 div.sk-label:hover label.sk-toggleable__label {\n",
              "  color: var(--sklearn-color-text);\n",
              "  background-color: var(--sklearn-color-unfitted-level-2);\n",
              "}\n",
              "\n",
              "/* Label box, darken color on hover, fitted */\n",
              "#sk-container-id-2 div.sk-label.fitted:hover label.sk-toggleable__label.fitted {\n",
              "  color: var(--sklearn-color-text);\n",
              "  background-color: var(--sklearn-color-fitted-level-2);\n",
              "}\n",
              "\n",
              "/* Estimator label */\n",
              "\n",
              "#sk-container-id-2 div.sk-label label {\n",
              "  font-family: monospace;\n",
              "  font-weight: bold;\n",
              "  display: inline-block;\n",
              "  line-height: 1.2em;\n",
              "}\n",
              "\n",
              "#sk-container-id-2 div.sk-label-container {\n",
              "  text-align: center;\n",
              "}\n",
              "\n",
              "/* Estimator-specific */\n",
              "#sk-container-id-2 div.sk-estimator {\n",
              "  font-family: monospace;\n",
              "  border: 1px dotted var(--sklearn-color-border-box);\n",
              "  border-radius: 0.25em;\n",
              "  box-sizing: border-box;\n",
              "  margin-bottom: 0.5em;\n",
              "  /* unfitted */\n",
              "  background-color: var(--sklearn-color-unfitted-level-0);\n",
              "}\n",
              "\n",
              "#sk-container-id-2 div.sk-estimator.fitted {\n",
              "  /* fitted */\n",
              "  background-color: var(--sklearn-color-fitted-level-0);\n",
              "}\n",
              "\n",
              "/* on hover */\n",
              "#sk-container-id-2 div.sk-estimator:hover {\n",
              "  /* unfitted */\n",
              "  background-color: var(--sklearn-color-unfitted-level-2);\n",
              "}\n",
              "\n",
              "#sk-container-id-2 div.sk-estimator.fitted:hover {\n",
              "  /* fitted */\n",
              "  background-color: var(--sklearn-color-fitted-level-2);\n",
              "}\n",
              "\n",
              "/* Specification for estimator info (e.g. \"i\" and \"?\") */\n",
              "\n",
              "/* Common style for \"i\" and \"?\" */\n",
              "\n",
              ".sk-estimator-doc-link,\n",
              "a:link.sk-estimator-doc-link,\n",
              "a:visited.sk-estimator-doc-link {\n",
              "  float: right;\n",
              "  font-size: smaller;\n",
              "  line-height: 1em;\n",
              "  font-family: monospace;\n",
              "  background-color: var(--sklearn-color-background);\n",
              "  border-radius: 1em;\n",
              "  height: 1em;\n",
              "  width: 1em;\n",
              "  text-decoration: none !important;\n",
              "  margin-left: 1ex;\n",
              "  /* unfitted */\n",
              "  border: var(--sklearn-color-unfitted-level-1) 1pt solid;\n",
              "  color: var(--sklearn-color-unfitted-level-1);\n",
              "}\n",
              "\n",
              ".sk-estimator-doc-link.fitted,\n",
              "a:link.sk-estimator-doc-link.fitted,\n",
              "a:visited.sk-estimator-doc-link.fitted {\n",
              "  /* fitted */\n",
              "  border: var(--sklearn-color-fitted-level-1) 1pt solid;\n",
              "  color: var(--sklearn-color-fitted-level-1);\n",
              "}\n",
              "\n",
              "/* On hover */\n",
              "div.sk-estimator:hover .sk-estimator-doc-link:hover,\n",
              ".sk-estimator-doc-link:hover,\n",
              "div.sk-label-container:hover .sk-estimator-doc-link:hover,\n",
              ".sk-estimator-doc-link:hover {\n",
              "  /* unfitted */\n",
              "  background-color: var(--sklearn-color-unfitted-level-3);\n",
              "  color: var(--sklearn-color-background);\n",
              "  text-decoration: none;\n",
              "}\n",
              "\n",
              "div.sk-estimator.fitted:hover .sk-estimator-doc-link.fitted:hover,\n",
              ".sk-estimator-doc-link.fitted:hover,\n",
              "div.sk-label-container:hover .sk-estimator-doc-link.fitted:hover,\n",
              ".sk-estimator-doc-link.fitted:hover {\n",
              "  /* fitted */\n",
              "  background-color: var(--sklearn-color-fitted-level-3);\n",
              "  color: var(--sklearn-color-background);\n",
              "  text-decoration: none;\n",
              "}\n",
              "\n",
              "/* Span, style for the box shown on hovering the info icon */\n",
              ".sk-estimator-doc-link span {\n",
              "  display: none;\n",
              "  z-index: 9999;\n",
              "  position: relative;\n",
              "  font-weight: normal;\n",
              "  right: .2ex;\n",
              "  padding: .5ex;\n",
              "  margin: .5ex;\n",
              "  width: min-content;\n",
              "  min-width: 20ex;\n",
              "  max-width: 50ex;\n",
              "  color: var(--sklearn-color-text);\n",
              "  box-shadow: 2pt 2pt 4pt #999;\n",
              "  /* unfitted */\n",
              "  background: var(--sklearn-color-unfitted-level-0);\n",
              "  border: .5pt solid var(--sklearn-color-unfitted-level-3);\n",
              "}\n",
              "\n",
              ".sk-estimator-doc-link.fitted span {\n",
              "  /* fitted */\n",
              "  background: var(--sklearn-color-fitted-level-0);\n",
              "  border: var(--sklearn-color-fitted-level-3);\n",
              "}\n",
              "\n",
              ".sk-estimator-doc-link:hover span {\n",
              "  display: block;\n",
              "}\n",
              "\n",
              "/* \"?\"-specific style due to the `<a>` HTML tag */\n",
              "\n",
              "#sk-container-id-2 a.estimator_doc_link {\n",
              "  float: right;\n",
              "  font-size: 1rem;\n",
              "  line-height: 1em;\n",
              "  font-family: monospace;\n",
              "  background-color: var(--sklearn-color-background);\n",
              "  border-radius: 1rem;\n",
              "  height: 1rem;\n",
              "  width: 1rem;\n",
              "  text-decoration: none;\n",
              "  /* unfitted */\n",
              "  color: var(--sklearn-color-unfitted-level-1);\n",
              "  border: var(--sklearn-color-unfitted-level-1) 1pt solid;\n",
              "}\n",
              "\n",
              "#sk-container-id-2 a.estimator_doc_link.fitted {\n",
              "  /* fitted */\n",
              "  border: var(--sklearn-color-fitted-level-1) 1pt solid;\n",
              "  color: var(--sklearn-color-fitted-level-1);\n",
              "}\n",
              "\n",
              "/* On hover */\n",
              "#sk-container-id-2 a.estimator_doc_link:hover {\n",
              "  /* unfitted */\n",
              "  background-color: var(--sklearn-color-unfitted-level-3);\n",
              "  color: var(--sklearn-color-background);\n",
              "  text-decoration: none;\n",
              "}\n",
              "\n",
              "#sk-container-id-2 a.estimator_doc_link.fitted:hover {\n",
              "  /* fitted */\n",
              "  background-color: var(--sklearn-color-fitted-level-3);\n",
              "}\n",
              "</style><div id=\"sk-container-id-2\" class=\"sk-top-container\"><div class=\"sk-text-repr-fallback\"><pre>KMeans(n_clusters=2, random_state=42)</pre><b>In a Jupyter environment, please rerun this cell to show the HTML representation or trust the notebook. <br />On GitHub, the HTML representation is unable to render, please try loading this page with nbviewer.org.</b></div><div class=\"sk-container\" hidden><div class=\"sk-item\"><div class=\"sk-estimator fitted sk-toggleable\"><input class=\"sk-toggleable__control sk-hidden--visually\" id=\"sk-estimator-id-2\" type=\"checkbox\" checked><label for=\"sk-estimator-id-2\" class=\"sk-toggleable__label fitted sk-toggleable__label-arrow fitted\">&nbsp;&nbsp;KMeans<a class=\"sk-estimator-doc-link fitted\" rel=\"noreferrer\" target=\"_blank\" href=\"https://scikit-learn.org/1.5/modules/generated/sklearn.cluster.KMeans.html\">?<span>Documentation for KMeans</span></a><span class=\"sk-estimator-doc-link fitted\">i<span>Fitted</span></span></label><div class=\"sk-toggleable__content fitted\"><pre>KMeans(n_clusters=2, random_state=42)</pre></div> </div></div></div></div>"
            ]
          },
          "metadata": {},
          "execution_count": 79
        }
      ]
    },
    {
      "cell_type": "code",
      "source": [
        "k_means.labels_"
      ],
      "metadata": {
        "colab": {
          "base_uri": "https://localhost:8080/"
        },
        "outputId": "b2d9f2da-c0a6-46a1-87a6-285e7434498f",
        "id": "IhlvJWmBkhdI"
      },
      "execution_count": 80,
      "outputs": [
        {
          "output_type": "execute_result",
          "data": {
            "text/plain": [
              "array([0, 0, 0, 0, 0, 0, 0, 0, 0, 0, 0, 0, 0, 0, 0, 0, 0, 0, 0, 0, 0, 0,\n",
              "       0, 0, 0, 0, 0, 0, 0, 0, 0, 0, 0, 0, 0, 0, 0, 0, 0, 0, 0, 0, 0, 0,\n",
              "       0, 0, 0, 0, 0, 0, 0, 0, 0, 0, 0, 0, 0, 0, 0, 0, 0, 0, 0, 0, 0, 0,\n",
              "       0, 0, 0, 0, 0, 0, 0, 0, 0, 0, 0, 0, 0, 0, 0, 0, 0, 0, 0, 0, 0, 0,\n",
              "       0, 0, 0, 0, 0, 0, 0, 0, 0, 0, 0, 0, 0, 0, 0, 0, 0, 0, 0, 0, 0, 0,\n",
              "       0, 0, 1, 1, 1, 1, 1, 1, 1, 1, 1, 1, 1, 1, 1, 1, 1, 1, 1, 1, 1, 1,\n",
              "       1, 1, 1, 1, 1, 1, 1, 1, 1, 1, 1, 1, 1, 1, 1, 1, 1, 1, 1, 1, 1, 1,\n",
              "       1, 1, 1, 1, 1, 1, 1, 1, 1, 1, 1, 1, 1, 1, 1, 1, 1, 1, 1, 1, 1, 1,\n",
              "       1, 1, 1, 1, 1, 1, 1, 1, 1, 1, 1, 1, 1, 1, 1, 1, 1, 1, 1, 1, 1, 1,\n",
              "       1, 1, 1, 1, 1, 1, 1, 1, 1, 1, 1, 1, 1, 1], dtype=int32)"
            ]
          },
          "metadata": {},
          "execution_count": 80
        }
      ]
    },
    {
      "cell_type": "code",
      "source": [
        "np.unique(k_means.labels_)"
      ],
      "metadata": {
        "colab": {
          "base_uri": "https://localhost:8080/"
        },
        "outputId": "26e6e08b-17d0-4f95-f44d-5893cae435e9",
        "id": "jBO6WZE_khdI"
      },
      "execution_count": 81,
      "outputs": [
        {
          "output_type": "execute_result",
          "data": {
            "text/plain": [
              "array([0, 1], dtype=int32)"
            ]
          },
          "metadata": {},
          "execution_count": 81
        }
      ]
    },
    {
      "cell_type": "code",
      "source": [
        "centers = k_means.cluster_centers_\n",
        "centers"
      ],
      "metadata": {
        "colab": {
          "base_uri": "https://localhost:8080/"
        },
        "outputId": "9a1ffce4-f910-4d69-aefd-7149667473f4",
        "id": "sfqU-4SHkhdI"
      },
      "execution_count": 82,
      "outputs": [
        {
          "output_type": "execute_result",
          "data": {
            "text/plain": [
              "array([[2.01778571e+03, 5.00000000e-01, 1.98414580e+00],\n",
              "       [2.02256000e+03, 5.00000000e-01, 1.77007523e+00]])"
            ]
          },
          "metadata": {},
          "execution_count": 82
        }
      ]
    },
    {
      "cell_type": "code",
      "source": [
        "from mpl_toolkits.mplot3d import Axes3D\n",
        "\n",
        "# Variables a graficar\n",
        "variables = ['Año','Donante_Vivo', 'Cantidad_log']\n",
        "\n",
        "# Crear figura 3D\n",
        "fig = plt.figure(figsize=(10, 7))\n",
        "ax = fig.add_subplot(111, projection='3d')\n",
        "\n",
        "# Scatterplot: Donante_Vivo vs. Cantidad_log vs. Año\n",
        "scatter = ax.scatter(\n",
        "    df_num[variables[0]],  # Eje X\n",
        "    df_num[variables[1]],  # Eje Y\n",
        "    df_num[variables[2]],  # Eje Z\n",
        "    c=k_means.labels_,  # Colores según cluster\n",
        "    cmap='viridis',\n",
        "    s=30,\n",
        "    label='Data points'\n",
        ")\n",
        "\n",
        "# Centroides\n",
        "ax.scatter(\n",
        "    centers[:, 0],  # Centroide eje X\n",
        "    centers[:, 1],  # Centroide eje Y\n",
        "    centers[:, 2],  # Centroide eje Z\n",
        "    color='blue',\n",
        "    marker='*',\n",
        "    s=300,\n",
        "    label='Centroids'\n",
        ")\n",
        "\n",
        "# Etiquetas y título\n",
        "ax.set_xlabel(variables[0])\n",
        "ax.set_ylabel(variables[1])\n",
        "ax.set_zlabel(variables[2])\n",
        "ax.set_title('K-Means Clustering (3D)')\n",
        "ax.legend()\n",
        "\n",
        "plt.show()"
      ],
      "metadata": {
        "colab": {
          "base_uri": "https://localhost:8080/",
          "height": 598
        },
        "outputId": "11e31826-a575-4bd5-9116-edb363cf2110",
        "id": "CsfYDb9HkhdI"
      },
      "execution_count": 83,
      "outputs": [
        {
          "output_type": "display_data",
          "data": {
            "text/plain": [
              "<Figure size 1000x700 with 1 Axes>"
            ],
            "image/png": "[encoded data removed]"
          },
          "metadata": {}
        }
      ]
    },
    {
      "cell_type": "code",
      "source": [
        "from sklearn import metrics\n",
        "\n",
        "score = metrics.silhouette_score (df_num, k_means.labels_)\n",
        "print(\"Silhouette Score = \", score)"
      ],
      "metadata": {
        "colab": {
          "base_uri": "https://localhost:8080/"
        },
        "outputId": "707519ba-8775-4e15-b6f9-eb899180ed31",
        "id": "muR9Ma1QkhdI"
      },
      "execution_count": 84,
      "outputs": [
        {
          "output_type": "stream",
          "name": "stdout",
          "text": [
            "Silhouette Score =  0.43036929165614946\n"
          ]
        }
      ]
    },
    {
      "cell_type": "code",
      "source": [
        "wscc = []\n",
        "for i in range(1,15):\n",
        "    kmeans = KMeans(n_clusters=i, init=\"k-means++\",random_state=0)\n",
        "    kmeans.fit(df_num)\n",
        "    wscc.append(kmeans.inertia_)\n",
        "\n",
        "# Elbowplot: Optimal K\n",
        "plt.plot(range(1,15),wscc,marker=\"o\",c=\"crimson\")\n",
        "plt.title(\"Elbow Plot: Optimal K\")"
      ],
      "metadata": {
        "colab": {
          "base_uri": "https://localhost:8080/",
          "height": 469
        },
        "outputId": "050a130e-1697-48e3-f129-32832b8616d8",
        "id": "aiI7DCQnkhdI"
      },
      "execution_count": 85,
      "outputs": [
        {
          "output_type": "execute_result",
          "data": {
            "text/plain": [
              "Text(0.5, 1.0, 'Elbow Plot: Optimal K')"
            ]
          },
          "metadata": {},
          "execution_count": 85
        },
        {
          "output_type": "display_data",
          "data": {
            "text/plain": [
              "<Figure size 640x480 with 1 Axes>"
            ],
            "image/png": "[encoded data removed]"
          },
          "metadata": {}
        }
      ]
    },
    {
      "cell_type": "code",
      "source": [
        "k_means = KMeans(n_clusters=6, random_state=42)\n",
        "k_means.fit(df_num)"
      ],
      "metadata": {
        "colab": {
          "base_uri": "https://localhost:8080/",
          "height": 80
        },
        "outputId": "914a7cae-be2f-460f-baa5-517c4d8732d9",
        "id": "auSkj9_hkhdI"
      },
      "execution_count": 86,
      "outputs": [
        {
          "output_type": "execute_result",
          "data": {
            "text/plain": [
              "KMeans(n_clusters=6, random_state=42)"
            ],
            "text/html": [
              "<style>#sk-container-id-3 {\n",
              "  /* Definition of color scheme common for light and dark mode */\n",
              "  --sklearn-color-text: black;\n",
              "  --sklearn-color-line: gray;\n",
              "  /* Definition of color scheme for unfitted estimators */\n",
              "  --sklearn-color-unfitted-level-0: #fff5e6;\n",
              "  --sklearn-color-unfitted-level-1: #f6e4d2;\n",
              "  --sklearn-color-unfitted-level-2: #ffe0b3;\n",
              "  --sklearn-color-unfitted-level-3: chocolate;\n",
              "  /* Definition of color scheme for fitted estimators */\n",
              "  --sklearn-color-fitted-level-0: #f0f8ff;\n",
              "  --sklearn-color-fitted-level-1: #d4ebff;\n",
              "  --sklearn-color-fitted-level-2: #b3dbfd;\n",
              "  --sklearn-color-fitted-level-3: cornflowerblue;\n",
              "\n",
              "  /* Specific color for light theme */\n",
              "  --sklearn-color-text-on-default-background: var(--sg-text-color, var(--theme-code-foreground, var(--jp-content-font-color1, black)));\n",
              "  --sklearn-color-background: var(--sg-background-color, var(--theme-background, var(--jp-layout-color0, white)));\n",
              "  --sklearn-color-border-box: var(--sg-text-color, var(--theme-code-foreground, var(--jp-content-font-color1, black)));\n",
              "  --sklearn-color-icon: #696969;\n",
              "\n",
              "  @media (prefers-color-scheme: dark) {\n",
              "    /* Redefinition of color scheme for dark theme */\n",
              "    --sklearn-color-text-on-default-background: var(--sg-text-color, var(--theme-code-foreground, var(--jp-content-font-color1, white)));\n",
              "    --sklearn-color-background: var(--sg-background-color, var(--theme-background, var(--jp-layout-color0, #111)));\n",
              "    --sklearn-color-border-box: var(--sg-text-color, var(--theme-code-foreground, var(--jp-content-font-color1, white)));\n",
              "    --sklearn-color-icon: #878787;\n",
              "  }\n",
              "}\n",
              "\n",
              "#sk-container-id-3 {\n",
              "  color: var(--sklearn-color-text);\n",
              "}\n",
              "\n",
              "#sk-container-id-3 pre {\n",
              "  padding: 0;\n",
              "}\n",
              "\n",
              "#sk-container-id-3 input.sk-hidden--visually {\n",
              "  border: 0;\n",
              "  clip: rect(1px 1px 1px 1px);\n",
              "  clip: rect(1px, 1px, 1px, 1px);\n",
              "  height: 1px;\n",
              "  margin: -1px;\n",
              "  overflow: hidden;\n",
              "  padding: 0;\n",
              "  position: absolute;\n",
              "  width: 1px;\n",
              "}\n",
              "\n",
              "#sk-container-id-3 div.sk-dashed-wrapped {\n",
              "  border: 1px dashed var(--sklearn-color-line);\n",
              "  margin: 0 0.4em 0.5em 0.4em;\n",
              "  box-sizing: border-box;\n",
              "  padding-bottom: 0.4em;\n",
              "  background-color: var(--sklearn-color-background);\n",
              "}\n",
              "\n",
              "#sk-container-id-3 div.sk-container {\n",
              "  /* jupyter's `normalize.less` sets `[hidden] { display: none; }`\n",
              "     but bootstrap.min.css set `[hidden] { display: none !important; }`\n",
              "     so we also need the `!important` here to be able to override the\n",
              "     default hidden behavior on the sphinx rendered scikit-learn.org.\n",
              "     See: https://github.com/scikit-learn/scikit-learn/issues/21755 */\n",
              "  display: inline-block !important;\n",
              "  position: relative;\n",
              "}\n",
              "\n",
              "#sk-container-id-3 div.sk-text-repr-fallback {\n",
              "  display: none;\n",
              "}\n",
              "\n",
              "div.sk-parallel-item,\n",
              "div.sk-serial,\n",
              "div.sk-item {\n",
              "  /* draw centered vertical line to link estimators */\n",
              "  background-image: linear-gradient(var(--sklearn-color-text-on-default-background), var(--sklearn-color-text-on-default-background));\n",
              "  background-size: 2px 100%;\n",
              "  background-repeat: no-repeat;\n",
              "  background-position: center center;\n",
              "}\n",
              "\n",
              "/* Parallel-specific style estimator block */\n",
              "\n",
              "#sk-container-id-3 div.sk-parallel-item::after {\n",
              "  content: \"\";\n",
              "  width: 100%;\n",
              "  border-bottom: 2px solid var(--sklearn-color-text-on-default-background);\n",
              "  flex-grow: 1;\n",
              "}\n",
              "\n",
              "#sk-container-id-3 div.sk-parallel {\n",
              "  display: flex;\n",
              "  align-items: stretch;\n",
              "  justify-content: center;\n",
              "  background-color: var(--sklearn-color-background);\n",
              "  position: relative;\n",
              "}\n",
              "\n",
              "#sk-container-id-3 div.sk-parallel-item {\n",
              "  display: flex;\n",
              "  flex-direction: column;\n",
              "}\n",
              "\n",
              "#sk-container-id-3 div.sk-parallel-item:first-child::after {\n",
              "  align-self: flex-end;\n",
              "  width: 50%;\n",
              "}\n",
              "\n",
              "#sk-container-id-3 div.sk-parallel-item:last-child::after {\n",
              "  align-self: flex-start;\n",
              "  width: 50%;\n",
              "}\n",
              "\n",
              "#sk-container-id-3 div.sk-parallel-item:only-child::after {\n",
              "  width: 0;\n",
              "}\n",
              "\n",
              "/* Serial-specific style estimator block */\n",
              "\n",
              "#sk-container-id-3 div.sk-serial {\n",
              "  display: flex;\n",
              "  flex-direction: column;\n",
              "  align-items: center;\n",
              "  background-color: var(--sklearn-color-background);\n",
              "  padding-right: 1em;\n",
              "  padding-left: 1em;\n",
              "}\n",
              "\n",
              "\n",
              "/* Toggleable style: style used for estimator/Pipeline/ColumnTransformer box that is\n",
              "clickable and can be expanded/collapsed.\n",
              "- Pipeline and ColumnTransformer use this feature and define the default style\n",
              "- Estimators will overwrite some part of the style using the `sk-estimator` class\n",
              "*/\n",
              "\n",
              "/* Pipeline and ColumnTransformer style (default) */\n",
              "\n",
              "#sk-container-id-3 div.sk-toggleable {\n",
              "  /* Default theme specific background. It is overwritten whether we have a\n",
              "  specific estimator or a Pipeline/ColumnTransformer */\n",
              "  background-color: var(--sklearn-color-background);\n",
              "}\n",
              "\n",
              "/* Toggleable label */\n",
              "#sk-container-id-3 label.sk-toggleable__label {\n",
              "  cursor: pointer;\n",
              "  display: block;\n",
              "  width: 100%;\n",
              "  margin-bottom: 0;\n",
              "  padding: 0.5em;\n",
              "  box-sizing: border-box;\n",
              "  text-align: center;\n",
              "}\n",
              "\n",
              "#sk-container-id-3 label.sk-toggleable__label-arrow:before {\n",
              "  /* Arrow on the left of the label */\n",
              "  content: \"▸\";\n",
              "  float: left;\n",
              "  margin-right: 0.25em;\n",
              "  color: var(--sklearn-color-icon);\n",
              "}\n",
              "\n",
              "#sk-container-id-3 label.sk-toggleable__label-arrow:hover:before {\n",
              "  color: var(--sklearn-color-text);\n",
              "}\n",
              "\n",
              "/* Toggleable content - dropdown */\n",
              "\n",
              "#sk-container-id-3 div.sk-toggleable__content {\n",
              "  max-height: 0;\n",
              "  max-width: 0;\n",
              "  overflow: hidden;\n",
              "  text-align: left;\n",
              "  /* unfitted */\n",
              "  background-color: var(--sklearn-color-unfitted-level-0);\n",
              "}\n",
              "\n",
              "#sk-container-id-3 div.sk-toggleable__content.fitted {\n",
              "  /* fitted */\n",
              "  background-color: var(--sklearn-color-fitted-level-0);\n",
              "}\n",
              "\n",
              "#sk-container-id-3 div.sk-toggleable__content pre {\n",
              "  margin: 0.2em;\n",
              "  border-radius: 0.25em;\n",
              "  color: var(--sklearn-color-text);\n",
              "  /* unfitted */\n",
              "  background-color: var(--sklearn-color-unfitted-level-0);\n",
              "}\n",
              "\n",
              "#sk-container-id-3 div.sk-toggleable__content.fitted pre {\n",
              "  /* unfitted */\n",
              "  background-color: var(--sklearn-color-fitted-level-0);\n",
              "}\n",
              "\n",
              "#sk-container-id-3 input.sk-toggleable__control:checked~div.sk-toggleable__content {\n",
              "  /* Expand drop-down */\n",
              "  max-height: 200px;\n",
              "  max-width: 100%;\n",
              "  overflow: auto;\n",
              "}\n",
              "\n",
              "#sk-container-id-3 input.sk-toggleable__control:checked~label.sk-toggleable__label-arrow:before {\n",
              "  content: \"▾\";\n",
              "}\n",
              "\n",
              "/* Pipeline/ColumnTransformer-specific style */\n",
              "\n",
              "#sk-container-id-3 div.sk-label input.sk-toggleable__control:checked~label.sk-toggleable__label {\n",
              "  color: var(--sklearn-color-text);\n",
              "  background-color: var(--sklearn-color-unfitted-level-2);\n",
              "}\n",
              "\n",
              "#sk-container-id-3 div.sk-label.fitted input.sk-toggleable__control:checked~label.sk-toggleable__label {\n",
              "  background-color: var(--sklearn-color-fitted-level-2);\n",
              "}\n",
              "\n",
              "/* Estimator-specific style */\n",
              "\n",
              "/* Colorize estimator box */\n",
              "#sk-container-id-3 div.sk-estimator input.sk-toggleable__control:checked~label.sk-toggleable__label {\n",
              "  /* unfitted */\n",
              "  background-color: var(--sklearn-color-unfitted-level-2);\n",
              "}\n",
              "\n",
              "#sk-container-id-3 div.sk-estimator.fitted input.sk-toggleable__control:checked~label.sk-toggleable__label {\n",
              "  /* fitted */\n",
              "  background-color: var(--sklearn-color-fitted-level-2);\n",
              "}\n",
              "\n",
              "#sk-container-id-3 div.sk-label label.sk-toggleable__label,\n",
              "#sk-container-id-3 div.sk-label label {\n",
              "  /* The background is the default theme color */\n",
              "  color: var(--sklearn-color-text-on-default-background);\n",
              "}\n",
              "\n",
              "/* On hover, darken the color of the background */\n",
              "#sk-container-id-3 div.sk-label:hover label.sk-toggleable__label {\n",
              "  color: var(--sklearn-color-text);\n",
              "  background-color: var(--sklearn-color-unfitted-level-2);\n",
              "}\n",
              "\n",
              "/* Label box, darken color on hover, fitted */\n",
              "#sk-container-id-3 div.sk-label.fitted:hover label.sk-toggleable__label.fitted {\n",
              "  color: var(--sklearn-color-text);\n",
              "  background-color: var(--sklearn-color-fitted-level-2);\n",
              "}\n",
              "\n",
              "/* Estimator label */\n",
              "\n",
              "#sk-container-id-3 div.sk-label label {\n",
              "  font-family: monospace;\n",
              "  font-weight: bold;\n",
              "  display: inline-block;\n",
              "  line-height: 1.2em;\n",
              "}\n",
              "\n",
              "#sk-container-id-3 div.sk-label-container {\n",
              "  text-align: center;\n",
              "}\n",
              "\n",
              "/* Estimator-specific */\n",
              "#sk-container-id-3 div.sk-estimator {\n",
              "  font-family: monospace;\n",
              "  border: 1px dotted var(--sklearn-color-border-box);\n",
              "  border-radius: 0.25em;\n",
              "  box-sizing: border-box;\n",
              "  margin-bottom: 0.5em;\n",
              "  /* unfitted */\n",
              "  background-color: var(--sklearn-color-unfitted-level-0);\n",
              "}\n",
              "\n",
              "#sk-container-id-3 div.sk-estimator.fitted {\n",
              "  /* fitted */\n",
              "  background-color: var(--sklearn-color-fitted-level-0);\n",
              "}\n",
              "\n",
              "/* on hover */\n",
              "#sk-container-id-3 div.sk-estimator:hover {\n",
              "  /* unfitted */\n",
              "  background-color: var(--sklearn-color-unfitted-level-2);\n",
              "}\n",
              "\n",
              "#sk-container-id-3 div.sk-estimator.fitted:hover {\n",
              "  /* fitted */\n",
              "  background-color: var(--sklearn-color-fitted-level-2);\n",
              "}\n",
              "\n",
              "/* Specification for estimator info (e.g. \"i\" and \"?\") */\n",
              "\n",
              "/* Common style for \"i\" and \"?\" */\n",
              "\n",
              ".sk-estimator-doc-link,\n",
              "a:link.sk-estimator-doc-link,\n",
              "a:visited.sk-estimator-doc-link {\n",
              "  float: right;\n",
              "  font-size: smaller;\n",
              "  line-height: 1em;\n",
              "  font-family: monospace;\n",
              "  background-color: var(--sklearn-color-background);\n",
              "  border-radius: 1em;\n",
              "  height: 1em;\n",
              "  width: 1em;\n",
              "  text-decoration: none !important;\n",
              "  margin-left: 1ex;\n",
              "  /* unfitted */\n",
              "  border: var(--sklearn-color-unfitted-level-1) 1pt solid;\n",
              "  color: var(--sklearn-color-unfitted-level-1);\n",
              "}\n",
              "\n",
              ".sk-estimator-doc-link.fitted,\n",
              "a:link.sk-estimator-doc-link.fitted,\n",
              "a:visited.sk-estimator-doc-link.fitted {\n",
              "  /* fitted */\n",
              "  border: var(--sklearn-color-fitted-level-1) 1pt solid;\n",
              "  color: var(--sklearn-color-fitted-level-1);\n",
              "}\n",
              "\n",
              "/* On hover */\n",
              "div.sk-estimator:hover .sk-estimator-doc-link:hover,\n",
              ".sk-estimator-doc-link:hover,\n",
              "div.sk-label-container:hover .sk-estimator-doc-link:hover,\n",
              ".sk-estimator-doc-link:hover {\n",
              "  /* unfitted */\n",
              "  background-color: var(--sklearn-color-unfitted-level-3);\n",
              "  color: var(--sklearn-color-background);\n",
              "  text-decoration: none;\n",
              "}\n",
              "\n",
              "div.sk-estimator.fitted:hover .sk-estimator-doc-link.fitted:hover,\n",
              ".sk-estimator-doc-link.fitted:hover,\n",
              "div.sk-label-container:hover .sk-estimator-doc-link.fitted:hover,\n",
              ".sk-estimator-doc-link.fitted:hover {\n",
              "  /* fitted */\n",
              "  background-color: var(--sklearn-color-fitted-level-3);\n",
              "  color: var(--sklearn-color-background);\n",
              "  text-decoration: none;\n",
              "}\n",
              "\n",
              "/* Span, style for the box shown on hovering the info icon */\n",
              ".sk-estimator-doc-link span {\n",
              "  display: none;\n",
              "  z-index: 9999;\n",
              "  position: relative;\n",
              "  font-weight: normal;\n",
              "  right: .2ex;\n",
              "  padding: .5ex;\n",
              "  margin: .5ex;\n",
              "  width: min-content;\n",
              "  min-width: 20ex;\n",
              "  max-width: 50ex;\n",
              "  color: var(--sklearn-color-text);\n",
              "  box-shadow: 2pt 2pt 4pt #999;\n",
              "  /* unfitted */\n",
              "  background: var(--sklearn-color-unfitted-level-0);\n",
              "  border: .5pt solid var(--sklearn-color-unfitted-level-3);\n",
              "}\n",
              "\n",
              ".sk-estimator-doc-link.fitted span {\n",
              "  /* fitted */\n",
              "  background: var(--sklearn-color-fitted-level-0);\n",
              "  border: var(--sklearn-color-fitted-level-3);\n",
              "}\n",
              "\n",
              ".sk-estimator-doc-link:hover span {\n",
              "  display: block;\n",
              "}\n",
              "\n",
              "/* \"?\"-specific style due to the `<a>` HTML tag */\n",
              "\n",
              "#sk-container-id-3 a.estimator_doc_link {\n",
              "  float: right;\n",
              "  font-size: 1rem;\n",
              "  line-height: 1em;\n",
              "  font-family: monospace;\n",
              "  background-color: var(--sklearn-color-background);\n",
              "  border-radius: 1rem;\n",
              "  height: 1rem;\n",
              "  width: 1rem;\n",
              "  text-decoration: none;\n",
              "  /* unfitted */\n",
              "  color: var(--sklearn-color-unfitted-level-1);\n",
              "  border: var(--sklearn-color-unfitted-level-1) 1pt solid;\n",
              "}\n",
              "\n",
              "#sk-container-id-3 a.estimator_doc_link.fitted {\n",
              "  /* fitted */\n",
              "  border: var(--sklearn-color-fitted-level-1) 1pt solid;\n",
              "  color: var(--sklearn-color-fitted-level-1);\n",
              "}\n",
              "\n",
              "/* On hover */\n",
              "#sk-container-id-3 a.estimator_doc_link:hover {\n",
              "  /* unfitted */\n",
              "  background-color: var(--sklearn-color-unfitted-level-3);\n",
              "  color: var(--sklearn-color-background);\n",
              "  text-decoration: none;\n",
              "}\n",
              "\n",
              "#sk-container-id-3 a.estimator_doc_link.fitted:hover {\n",
              "  /* fitted */\n",
              "  background-color: var(--sklearn-color-fitted-level-3);\n",
              "}\n",
              "</style><div id=\"sk-container-id-3\" class=\"sk-top-container\"><div class=\"sk-text-repr-fallback\"><pre>KMeans(n_clusters=6, random_state=42)</pre><b>In a Jupyter environment, please rerun this cell to show the HTML representation or trust the notebook. <br />On GitHub, the HTML representation is unable to render, please try loading this page with nbviewer.org.</b></div><div class=\"sk-container\" hidden><div class=\"sk-item\"><div class=\"sk-estimator fitted sk-toggleable\"><input class=\"sk-toggleable__control sk-hidden--visually\" id=\"sk-estimator-id-3\" type=\"checkbox\" checked><label for=\"sk-estimator-id-3\" class=\"sk-toggleable__label fitted sk-toggleable__label-arrow fitted\">&nbsp;&nbsp;KMeans<a class=\"sk-estimator-doc-link fitted\" rel=\"noreferrer\" target=\"_blank\" href=\"https://scikit-learn.org/1.5/modules/generated/sklearn.cluster.KMeans.html\">?<span>Documentation for KMeans</span></a><span class=\"sk-estimator-doc-link fitted\">i<span>Fitted</span></span></label><div class=\"sk-toggleable__content fitted\"><pre>KMeans(n_clusters=6, random_state=42)</pre></div> </div></div></div></div>"
            ]
          },
          "metadata": {},
          "execution_count": 86
        }
      ]
    },
    {
      "cell_type": "code",
      "source": [
        "np.unique(k_means.labels_)"
      ],
      "metadata": {
        "colab": {
          "base_uri": "https://localhost:8080/"
        },
        "outputId": "26e5d819-f502-4820-d2c6-bc901cc8705a",
        "id": "-QBC3afjkhdI"
      },
      "execution_count": 87,
      "outputs": [
        {
          "output_type": "execute_result",
          "data": {
            "text/plain": [
              "array([0, 1, 2, 3, 4, 5], dtype=int32)"
            ]
          },
          "metadata": {},
          "execution_count": 87
        }
      ]
    },
    {
      "cell_type": "code",
      "source": [
        "centers = k_means.cluster_centers_\n",
        "centers"
      ],
      "metadata": {
        "colab": {
          "base_uri": "https://localhost:8080/"
        },
        "outputId": "9ae1e7a9-1dcc-469e-cc18-e06c7b416377",
        "id": "1-v1qmXlkhdI"
      },
      "execution_count": 88,
      "outputs": [
        {
          "output_type": "execute_result",
          "data": {
            "text/plain": [
              "array([[2.02005714e+03, 6.85714286e-01, 2.44380921e-01],\n",
              "       [2.02244000e+03, 3.20000000e-01, 3.22630647e+00],\n",
              "       [2.01593750e+03, 3.75000000e-01, 3.13469093e+00],\n",
              "       [2.02321053e+03, 6.84210526e-01, 3.18649482e-01],\n",
              "       [2.01663636e+03, 7.27272727e-01, 3.12133331e-01],\n",
              "       [2.01902857e+03, 3.42857143e-01, 3.14507067e+00]])"
            ]
          },
          "metadata": {},
          "execution_count": 88
        }
      ]
    },
    {
      "cell_type": "code",
      "source": [
        "from mpl_toolkits.mplot3d import Axes3D\n",
        "\n",
        "# Variables a graficar\n",
        "variables = ['Año', 'Donante_Vivo', 'Cantidad_log']\n",
        "\n",
        "# Crear figura 3D\n",
        "fig = plt.figure(figsize=(10, 7))\n",
        "ax = fig.add_subplot(111, projection='3d')\n",
        "\n",
        "# Scatterplot: Donante_Vivo vs. Cantidad_log vs. Año\n",
        "scatter = ax.scatter(\n",
        "    df_num[variables[0]],  # Eje X\n",
        "    df_num[variables[1]],  # Eje Y\n",
        "    df_num[variables[2]],  # Eje Z\n",
        "    c=k_means.labels_,  # Colores según cluster\n",
        "    cmap='viridis',\n",
        "    s=30,\n",
        "    label='Data points'\n",
        ")\n",
        "\n",
        "# Centroides\n",
        "ax.scatter(\n",
        "    centers[:, 0],  # Centroide eje X\n",
        "    centers[:, 1],  # Centroide eje Y\n",
        "    centers[:, 2],  # Centroide eje Z\n",
        "    color='blue',\n",
        "    marker='*',\n",
        "    s=300,\n",
        "    label='Centroids'\n",
        ")\n",
        "\n",
        "# Etiquetas y título\n",
        "ax.set_xlabel(variables[0])\n",
        "ax.set_ylabel(variables[1])\n",
        "ax.set_zlabel(variables[2])\n",
        "ax.set_title('K-Means Clustering (3D)')\n",
        "ax.legend()\n",
        "\n",
        "plt.show()"
      ],
      "metadata": {
        "colab": {
          "base_uri": "https://localhost:8080/",
          "height": 598
        },
        "outputId": "0ba9cdcb-094c-4e62-8fdf-dc3c2fd7a3b3",
        "id": "MyuvyzXqkhdJ"
      },
      "execution_count": 89,
      "outputs": [
        {
          "output_type": "display_data",
          "data": {
            "text/plain": [
              "<Figure size 1000x700 with 1 Axes>"
            ],
            "image/png": "[encoded data removed]"
          },
          "metadata": {}
        }
      ]
    },
    {
      "cell_type": "code",
      "source": [
        "score = metrics.silhouette_score (df_encoded, k_means.labels_)\n",
        "print(\"Silhouette Score = \", score)"
      ],
      "metadata": {
        "colab": {
          "base_uri": "https://localhost:8080/"
        },
        "outputId": "1ce97786-d288-4eb1-d30e-decebd2e5e8f",
        "id": "Rw2Y-OEXkhdJ"
      },
      "execution_count": null,
      "outputs": [
        {
          "output_type": "stream",
          "name": "stdout",
          "text": [
            "Silhouette Score =  0.44092452723204417\n"
          ]
        }
      ]
    },
    {
      "cell_type": "markdown",
      "metadata": {
        "id": "FOObzZToHUZT"
      },
      "source": [
        "## Cantidad log-transform"
      ]
    },
    {
      "cell_type": "markdown",
      "metadata": {
        "id": "yNj88MerHUZZ"
      },
      "source": [
        "The `Cantidad` column represent a wide range of numerical values, so we start by doing some **descriptive statistics** to get a better understanding of the data."
      ]
    },
    {
      "cell_type": "code",
      "execution_count": null,
      "metadata": {
        "colab": {
          "base_uri": "https://localhost:8080/"
        },
        "outputId": "5f5c4a5f-82c4-41c9-ce60-97601de1f857",
        "id": "Ia7p3CmCHUZZ"
      },
      "outputs": [
        {
          "output_type": "stream",
          "name": "stdout",
          "text": [
            "Descriptive statistics for Cantidad:\n",
            "count    1152.000000\n",
            "mean        9.342014\n",
            "std        22.703491\n",
            "min         0.000000\n",
            "25%         0.000000\n",
            "50%         1.000000\n",
            "75%         5.250000\n",
            "max       203.000000\n",
            "Name: Cantidad, dtype: float64\n",
            "\n",
            "Median: 1.0\n",
            "IQR:5.25\n",
            "Lower limit: -7.875\n",
            "Upper limit: 13.125\n"
          ]
        }
      ],
      "source": [
        "# Statistical description of the Cantidad column\n",
        "print(\"Descriptive statistics for Cantidad:\")\n",
        "print(df_trasplantes['Cantidad'].describe())\n",
        "\n",
        "# Print the Median\n",
        "print(f\"\\nMedian: {df_trasplantes['Cantidad'].median()}\")\n",
        "\n",
        "# Calculate the IQR and the limits\n",
        "q1 = df_trasplantes['Cantidad'].quantile(0.25)\n",
        "q3 = df_trasplantes['Cantidad'].quantile(0.75)\n",
        "iqr = q3 - q1\n",
        "\n",
        "lower_limit = q1 - 1.5 * iqr\n",
        "upper_limit = q3 + 1.5 * iqr\n",
        "\n",
        "print(f\"IQR:{iqr}\\nLower limit: {lower_limit}\\nUpper limit: {upper_limit}\")"
      ]
    },
    {
      "cell_type": "markdown",
      "metadata": {
        "id": "2fb7ipdUHUZa"
      },
      "source": [
        "Some observations:\n",
        "- The `mean` (_~11_) is significantly lower than the `max` (_203_). This hints that the distribution is **right skewed**.\n",
        "- Also, the `median` (_1_) is smaller than the `mean` (_11_), further supporting this hypothesis.\n",
        "\n",
        "With that in mind, we now check the IQR and limits, and their relationship with the actual data:\n",
        "- First, while the `lower limit` is _-13.5_, the `min` is _0_. Thus, there are **no negative outliers** in the data.\n",
        "- On the other hand, the `upper limit` is _22.5_, so every value above that should be considered an outlier.\n",
        "\n",
        "Visualizing the data, we can notice the big tail of the distribution (skewness) in the histogram, and the outliers in the boxplot:"
      ]
    },
    {
      "cell_type": "code",
      "execution_count": null,
      "metadata": {
        "colab": {
          "base_uri": "https://localhost:8080/",
          "height": 944
        },
        "outputId": "b50e556c-55d3-417e-e3c0-79abe367a199",
        "id": "ZCDL6FEuHUZa"
      },
      "outputs": [
        {
          "output_type": "display_data",
          "data": {
            "text/plain": [
              "<Figure size 800x500 with 1 Axes>"
            ],
            "image/png": "[encoded data removed]"
          },
          "metadata": {}
        },
        {
          "output_type": "display_data",
          "data": {
            "text/plain": [
              "<Figure size 800x500 with 1 Axes>"
            ],
            "image/png": "[encoded data removed]"
          },
          "metadata": {}
        }
      ],
      "source": [
        "# Histogram: Cantidad\n",
        "plt.figure(figsize=(8, 5))\n",
        "plt.hist(df_trasplantes['Cantidad'], bins=30, rwidth=0.8)\n",
        "plt.title('Distribution of Cantidad', fontsize=14)\n",
        "plt.xlabel('Cantidad', fontsize=12)\n",
        "plt.ylabel('Frequency', fontsize=12)\n",
        "plt.show()\n",
        "\n",
        "# Boxplot: Cantidad\n",
        "plt.figure(figsize=(8, 5))\n",
        "medianprops = dict(linestyle='-', color='red')\n",
        "flierprops = dict(marker='o', markersize=5, markeredgecolor='black', markeredgewidth=0.5)\n",
        "plt.boxplot(df_trasplantes['Cantidad'], vert=False, medianprops=medianprops, flierprops=flierprops, widths=(0.75))\n",
        "plt.title('Boxplot of Cantidad', fontsize=14)\n",
        "plt.yticks([])  # Remove y-axis labels\n",
        "plt.show()"
      ]
    },
    {
      "cell_type": "markdown",
      "metadata": {
        "id": "u8seOwdgHUZa"
      },
      "source": [
        "To address this skewness, we will aply a <span style=\"color:teal\">**log transformation**</span> to the data and then generate the statistical summary and plots again.\n",
        "\n",
        "<div class=\"alert alert-block alert-success\">\n",
        "  <span>✅</span> One of the most important advantages of this technique compared to other alternatives (such as <em>min-max</em> or <em>z-score</em>) is the <strong>reduction of the asymmetry</strong> of the distribution, a very valuable point when dealing with extreme outliers that we are not removing.\n",
        "</div>"
      ]
    },
    {
      "cell_type": "code",
      "execution_count": null,
      "metadata": {
        "colab": {
          "base_uri": "https://localhost:8080/",
          "height": 1000
        },
        "outputId": "bd9f713a-7280-4e9b-cc93-12a003032f8b",
        "id": "WgZ3jcSjHUZa"
      },
      "outputs": [
        {
          "output_type": "stream",
          "name": "stdout",
          "text": [
            "Descriptive statistics for Cantidad_log:\n",
            "count    1152.000000\n",
            "mean        1.109942\n",
            "std         1.377216\n",
            "min         0.000000\n",
            "25%         0.000000\n",
            "50%         0.693147\n",
            "75%         1.830297\n",
            "max         5.318120\n",
            "Name: Cantidad_log, dtype: float64\n",
            "\n",
            "Median: 0.6931471805599453\n",
            "IQR: 1.8302971391848695\n",
            "Lower limit: -2.745445708777304\n",
            "Upper limit: 4.575742847962173\n",
            "\n"
          ]
        },
        {
          "output_type": "display_data",
          "data": {
            "text/plain": [
              "<Figure size 800x500 with 1 Axes>"
            ],
            "image/png": "[encoded data removed]"
          },
          "metadata": {}
        },
        {
          "output_type": "display_data",
          "data": {
            "text/plain": [
              "<Figure size 800x500 with 1 Axes>"
            ],
            "image/png": "[encoded data removed]"
          },
          "metadata": {}
        }
      ],
      "source": [
        "# Apply log transformation to 'Cantidad'\n",
        "df_trasplantes.loc[:, 'Cantidad_log'] = np.log1p(df_trasplantes['Cantidad'])  # .loc to get rid of a Warning\n",
        "\n",
        "# Descriptive statistics\n",
        "print(\"Descriptive statistics for Cantidad_log:\")\n",
        "print(df_trasplantes['Cantidad_log'].describe())\n",
        "\n",
        "# The median\n",
        "print(f\"\\nMedian: {df_trasplantes['Cantidad_log'].median()}\")\n",
        "\n",
        "# Calculate the IQR and the limits for the log-transformed column\n",
        "q1_log = df_trasplantes['Cantidad_log'].quantile(0.25)\n",
        "q3_log = df_trasplantes['Cantidad_log'].quantile(0.75)\n",
        "iqr_log = q3_log - q1_log\n",
        "\n",
        "lower_limit_log = q1_log - 1.5 * iqr_log\n",
        "upper_limit_log = q3_log + 1.5 * iqr_log\n",
        "\n",
        "print(f\"IQR: {iqr_log}\\nLower limit: {lower_limit_log}\\nUpper limit: {upper_limit_log}\\n\")\n",
        "\n",
        "\n",
        "# Then, we plot again...\n",
        "\n",
        "# Histogram: Cantidad (log-transformed)\n",
        "plt.figure(figsize=(8, 5))\n",
        "plt.hist(df_trasplantes['Cantidad_log'], bins=30, rwidth=0.8)\n",
        "plt.title('Distribution of Cantidad (Log Transformed)', fontsize=14)\n",
        "plt.xlabel('Cantidad (Log)', fontsize=12)\n",
        "plt.ylabel('Frequency', fontsize=12)\n",
        "plt.show()\n",
        "\n",
        "# Boxplot: Cantidad (log-transformed)\n",
        "plt.figure(figsize=(8, 5))\n",
        "medianprops = dict(linestyle='-', color='red')\n",
        "flierprops = dict(marker='o', markersize=5, markeredgecolor='black', markeredgewidth=0.5)\n",
        "plt.boxplot(df_trasplantes['Cantidad_log'], vert=False, medianprops=medianprops, flierprops=flierprops, widths=(0.75))\n",
        "plt.title('Boxplot of Cantidad (Log Transformed)', fontsize=14)\n",
        "plt.yticks([])  # Remove y-axis labels\n",
        "plt.show()"
      ]
    },
    {
      "cell_type": "markdown",
      "metadata": {
        "id": "O2RrYlSi3MY0"
      },
      "source": [
        "<br/>\n",
        "\n",
        "# **?. Descriptive Statistics**"
      ]
    },
    {
      "cell_type": "markdown",
      "metadata": {
        "id": "DtmsmRWw3MY0"
      },
      "source": [
        "With the categorical cleanup finished, we can work on the remaining column: `Cantidad`. As this column represent a wide range of numerical values, we start by doing some **descriptive statistics** to get a better understanding of the data."
      ]
    },
    {
      "cell_type": "code",
      "execution_count": null,
      "metadata": {
        "colab": {
          "base_uri": "https://localhost:8080/",
          "height": 335
        },
        "id": "VXeCRxAq3MY1",
        "outputId": "2af99252-1379-49ef-b7f9-53fc033eb2f0"
      },
      "outputs": [
        {
          "output_type": "execute_result",
          "data": {
            "text/plain": [
              "count    2120.000000\n",
              "mean       19.068396\n",
              "std        41.635948\n",
              "min         0.000000\n",
              "25%         0.000000\n",
              "50%         2.000000\n",
              "75%        15.000000\n",
              "max       283.000000\n",
              "Name: Cantidad, dtype: float64"
            ],
            "text/html": [
              "<div>\n",
              "<style scoped>\n",
              "    .dataframe tbody tr th:only-of-type {\n",
              "        vertical-align: middle;\n",
              "    }\n",
              "\n",
              "    .dataframe tbody tr th {\n",
              "        vertical-align: top;\n",
              "    }\n",
              "\n",
              "    .dataframe thead th {\n",
              "        text-align: right;\n",
              "    }\n",
              "</style>\n",
              "<table border=\"1\" class=\"dataframe\">\n",
              "  <thead>\n",
              "    <tr style=\"text-align: right;\">\n",
              "      <th></th>\n",
              "      <th>Cantidad</th>\n",
              "    </tr>\n",
              "  </thead>\n",
              "  <tbody>\n",
              "    <tr>\n",
              "      <th>count</th>\n",
              "      <td>2120.000000</td>\n",
              "    </tr>\n",
              "    <tr>\n",
              "      <th>mean</th>\n",
              "      <td>19.068396</td>\n",
              "    </tr>\n",
              "    <tr>\n",
              "      <th>std</th>\n",
              "      <td>41.635948</td>\n",
              "    </tr>\n",
              "    <tr>\n",
              "      <th>min</th>\n",
              "      <td>0.000000</td>\n",
              "    </tr>\n",
              "    <tr>\n",
              "      <th>25%</th>\n",
              "      <td>0.000000</td>\n",
              "    </tr>\n",
              "    <tr>\n",
              "      <th>50%</th>\n",
              "      <td>2.000000</td>\n",
              "    </tr>\n",
              "    <tr>\n",
              "      <th>75%</th>\n",
              "      <td>15.000000</td>\n",
              "    </tr>\n",
              "    <tr>\n",
              "      <th>max</th>\n",
              "      <td>283.000000</td>\n",
              "    </tr>\n",
              "  </tbody>\n",
              "</table>\n",
              "</div><br><label><b>dtype:</b> float64</label>"
            ]
          },
          "metadata": {},
          "execution_count": 18
        }
      ],
      "source": [
        "# SDtatistical description of the Cantidad column\n",
        "df['Cantidad'].describe()"
      ]
    },
    {
      "cell_type": "code",
      "execution_count": null,
      "metadata": {
        "colab": {
          "base_uri": "https://localhost:8080/"
        },
        "id": "PL50ijLI3MY1",
        "outputId": "06875a4e-9c3d-4fb6-9bd2-795222aa8a33"
      },
      "outputs": [
        {
          "output_type": "stream",
          "name": "stdout",
          "text": [
            "Median: 2.0\n",
            "IQR:15.0\n",
            "Lower limit: -22.5\n",
            "Upper limit: 37.5\n"
          ]
        }
      ],
      "source": [
        "# Print the Median\n",
        "print(f\"Median: {df['Cantidad'].median()}\")\n",
        "\n",
        "# Calculate the IQR and the limits\n",
        "q1 = df['Cantidad'].quantile(0.25)\n",
        "q3 = df['Cantidad'].quantile(0.75)\n",
        "iqr = q3 - q1\n",
        "\n",
        "lower_limit = q1 - 1.5 * iqr\n",
        "upper_limit = q3 + 1.5 * iqr\n",
        "\n",
        "print(f\"IQR:{iqr}\\nLower limit: {lower_limit}\\nUpper limit: {upper_limit}\")"
      ]
    },
    {
      "cell_type": "markdown",
      "metadata": {
        "id": "5UJmbdD83MY2"
      },
      "source": [
        "Some observations:\n",
        "- The `mean` (_~19_) is significantly lower than the `max` (_283_). This hints that the distribution is **right skewed**.\n",
        "- Also, the `median` (_2_) is smaller than the `mean` (_19_), further supporting this hypothesis.\n",
        "\n",
        "With that in mind, we now check the IQR and limits, and their relationship with the actual data:\n",
        "- First, while the `lower limit` is _-22.5_, the `min` is _0_. Thus, there are **no negative outliers** in the data.\n",
        "- On the other hand, the `upper limit` is _37.5_, so every value above that should be considered an outlier.\n",
        "\n",
        "Visualizing the data, we can notice the big tail of the distribution (skewness) in the histogram, and the outliers in the boxplot:"
      ]
    },
    {
      "cell_type": "code",
      "execution_count": null,
      "metadata": {
        "colab": {
          "base_uri": "https://localhost:8080/",
          "height": 944
        },
        "id": "HnmrahYK3MY2",
        "outputId": "67deab15-321f-48f7-a3bf-928caf7608aa"
      },
      "outputs": [
        {
          "output_type": "display_data",
          "data": {
            "text/plain": [
              "<Figure size 800x500 with 1 Axes>"
            ],
            "image/png": "[encoded data removed]"
          },
          "metadata": {}
        },
        {
          "output_type": "display_data",
          "data": {
            "text/plain": [
              "<Figure size 800x500 with 1 Axes>"
            ],
            "image/png": "[encoded data removed]"
          },
          "metadata": {}
        }
      ],
      "source": [
        "# Paint with custom colors\n",
        "# colors = plt.colormaps['Set2'].colors\n",
        "# plt.hist(df['Cantidad'], bins=30, color=colors[0], rwidth=0.8)\n",
        "\n",
        "# Histogram: Cantidad\n",
        "plt.figure(figsize=(8, 5))\n",
        "plt.hist(df['Cantidad'], bins=30, rwidth=0.8)\n",
        "plt.title('Distribution of Cantidad', fontsize=14)\n",
        "plt.xlabel('Cantidad', fontsize=12)\n",
        "plt.ylabel('Frequency', fontsize=12)\n",
        "plt.show()\n",
        "\n",
        "# Boxplot: Cantidad\n",
        "plt.figure(figsize=(8, 5))\n",
        "medianprops = dict(linestyle='-', color='red')\n",
        "flierprops = dict(marker='o', markersize=5, markeredgecolor='black', markeredgewidth=0.5)\n",
        "plt.boxplot(df['Cantidad'], vert=False, medianprops=medianprops, flierprops=flierprops, widths=(0.75))\n",
        "plt.title('Boxplot of Cantidad', fontsize=14)\n",
        "plt.yticks([])  # Remove y-axis labels\n",
        "plt.show()"
      ]
    },
    {
      "cell_type": "code",
      "execution_count": null,
      "metadata": {
        "colab": {
          "base_uri": "https://localhost:8080/"
        },
        "id": "auHf7eyi3MY2",
        "outputId": "558ca6b9-ded1-4610-8398-a46f7cbbcf03"
      },
      "outputs": [
        {
          "output_type": "stream",
          "name": "stdout",
          "text": [
            "Trasplantes 2015\n",
            "      Año     Proceso Órgano    Sexo Grupo de edad  Cantidad Tipo de donante\n",
            "864  2015  Trasplante  Riñón  Hombre      0-9 Años         4       No Aplica\n",
            "865  2015  Trasplante  Riñón  Hombre    10-19 Años        12       No Aplica\n",
            "866  2015  Trasplante  Riñón  Hombre    20-29 Años        16       No Aplica\n",
            "867  2015  Trasplante  Riñón  Hombre    30-39 Años        30       No Aplica\n",
            "868  2015  Trasplante  Riñón  Hombre    40-49 Años        26       No Aplica\n",
            "869  2015  Trasplante  Riñón  Hombre    50-59 Años        41       No Aplica\n",
            "870  2015  Trasplante  Riñón  Hombre    60-69 Años        36       No Aplica\n",
            "871  2015  Trasplante  Riñón  Hombre     > 70 Años         2       No Aplica\n",
            "\n",
            "----------------------------\n",
            "\n",
            "Lista de Espera 2015\n",
            "      Año          Proceso Órgano    Sexo Grupo de edad  Cantidad Tipo de donante\n",
            "160  2015  Lista de Espera  Riñón  Hombre      0-9 Años         3       No Aplica\n",
            "161  2015  Lista de Espera  Riñón  Hombre    10-19 Años        17       No Aplica\n",
            "162  2015  Lista de Espera  Riñón  Hombre    20-29 Años        56       No Aplica\n",
            "163  2015  Lista de Espera  Riñón  Hombre    30-39 Años       161       No Aplica\n",
            "164  2015  Lista de Espera  Riñón  Hombre    40-49 Años       147       No Aplica\n",
            "165  2015  Lista de Espera  Riñón  Hombre    50-59 Años       204       No Aplica\n",
            "166  2015  Lista de Espera  Riñón  Hombre    60-69 Años       140       No Aplica\n",
            "167  2015  Lista de Espera  Riñón  Hombre     > 70 Años        46       No Aplica\n",
            "\n",
            "----------------------------\n",
            "\n",
            "Donación Personas 2015\n",
            "       Año            Proceso     Órgano       Sexo Grupo de edad  Cantidad Tipo de donante\n",
            "1568  2015  Donación Personas  No Aplica  No Aplica     No Aplica        81            Vivo\n",
            "\n",
            "----------------------------\n",
            "\n",
            "Proceso\n",
            "Lista de Espera      944\n",
            "Trasplante           944\n",
            "Donación             212\n",
            "Donación Personas     20\n",
            "Name: count, dtype: int64\n"
          ]
        }
      ],
      "source": [
        "# Inspeccionar los posibles outliers\n",
        "# outliers = df[df['Cantidad'] > upper_limit]\n",
        "# print(outliers)\n",
        "\n",
        "# Trasplantes 2015\n",
        "print(\"Trasplantes 2015\")\n",
        "outliers = df[(df['Proceso'] == \"Trasplante\") & (df['Año'] == 2015) & (df['Órgano'] == \"Riñón\") & (df['Sexo'] == \"Hombre\")]\n",
        "print(outliers)\n",
        "\n",
        "print(\"\\n----------------------------\\n\")\n",
        "\n",
        "# Donaciones 2015 (Total: 309)\n",
        "print(\"Lista de Espera 2015\")\n",
        "outliers = df[(df['Proceso'] == \"Lista de Espera\") & (df['Año'] == 2015) & (df['Órgano'] == \"Riñón\") & (df['Sexo'] == \"Hombre\")]\n",
        "print(outliers)\n",
        "\n",
        "print(\"\\n----------------------------\\n\")\n",
        "\n",
        "# \"Donación Personas\" 2015 (81 Vivo, 152 Cadavérico)\n",
        "print(\"Donación Personas 2015\")\n",
        "outliers = df[(df['Proceso'] == \"Donación Personas\") & (df['Año'] == 2015) & (df['Tipo de donante'] == \"Vivo\")]\n",
        "print(outliers)\n",
        "\n",
        "print(\"\\n----------------------------\\n\")\n",
        "\n",
        "# Contar cuántos registros hay para cada valor de 'Proceso'\n",
        "proceso_counts = df['Proceso'].value_counts()\n",
        "print(proceso_counts)"
      ]
    },
    {
      "cell_type": "markdown",
      "metadata": {
        "id": "-nD30j5s3MY3"
      },
      "source": [
        "<br/>\n",
        "<br/>\n",
        "<br/>\n",
        "<br/>\n",
        "<br/>\n",
        "\n",
        "# **x. Exhibits**\n",
        "\n",
        "Additional tools that come in handy for the project execution."
      ]
    },
    {
      "cell_type": "markdown",
      "metadata": {
        "id": "eRZIDmzT3MY3"
      },
      "source": [
        "## x.1 - Python _requirements.txt_ utilities"
      ]
    },
    {
      "cell_type": "code",
      "execution_count": null,
      "metadata": {
        "id": "QY_5UAKz3MY4"
      },
      "outputs": [],
      "source": [
        "# Create requirements.txt file\n",
        "# !pip freeze > requirements.txt\n",
        "\n",
        "# Install requirements.txt\n",
        "# !pip install -r requirements.txt"
      ]
    }
  ],
  "metadata": {
    "colab": {
      "provenance": [],
      "toc_visible": true
    },
    "kernelspec": {
      "display_name": "Python 3",
      "name": "python3"
    },
    "language_info": {
      "codemirror_mode": {
        "name": "ipython",
        "version": 3
      },
      "file_extension": ".py",
      "mimetype": "text/x-python",
      "name": "python",
      "nbconvert_exporter": "python",
      "pygments_lexer": "ipython3",
      "version": "3.12.4"
    }
  },
  "nbformat": 4,
  "nbformat_minor": 0
}