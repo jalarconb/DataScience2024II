{
 "cells": [
  {
   "cell_type": "markdown",
   "metadata": {},
   "source": [
    "<p style=\"font-size:50px;color:gold\">\n",
    "<b>Intro to Data Science Project</b>\n",
    "</p>\n",
    "\n",
    "**_Juan Esteban Alarcón Bravo_**\n",
    "\n",
    "<br/>\n",
    "\n",
    "Analyzing organ donation data from Bogotá, Colombia, from 2015 to 2024.\n",
    "\n",
    "<p style=\"font-size:30px;color:blue\">\n",
    "<b>Table of Contents</b>\n",
    "\n",
    "1. [Imports and Cleanup](#1-imports-and-cleanup)\n",
    "    - [Libraries](#11-libraries)\n",
    "    - [Data](#12-data)\n",
    "99. [Exhibits](#x-exhibits)"
   ]
  },
  {
   "cell_type": "markdown",
   "metadata": {},
   "source": [
    "<br/>\n",
    "\n",
    "# **1 - Imports and Cleanup**\n",
    "\n",
    "To begin, we need to import the necessary libraries, load the dataset and perform some data cleaning."
   ]
  },
  {
   "cell_type": "markdown",
   "metadata": {},
   "source": [
    "## 1.1 - Libraries"
   ]
  },
  {
   "cell_type": "code",
   "execution_count": 2,
   "metadata": {},
   "outputs": [],
   "source": [
    "# Import necessary libraries\n",
    "import pandas as pd"
   ]
  },
  {
   "cell_type": "markdown",
   "metadata": {},
   "source": [
    "## 1.2 - Data\n",
    "\n",
    "First, we **import** the data from the CSV file into a pandas `DataFrame` and check the first rows, null values and the column names & data types."
   ]
  },
  {
   "cell_type": "code",
   "execution_count": 3,
   "metadata": {
    "colab": {
     "base_uri": "https://localhost:8080/"
    },
    "id": "IemUSUhtxrrK",
    "outputId": "1a14d97b-969d-49e8-a4e7-39e1b4fb3b40"
   },
   "outputs": [
    {
     "data": {
      "text/html": [
       "<div>\n",
       "<style scoped>\n",
       "    .dataframe tbody tr th:only-of-type {\n",
       "        vertical-align: middle;\n",
       "    }\n",
       "\n",
       "    .dataframe tbody tr th {\n",
       "        vertical-align: top;\n",
       "    }\n",
       "\n",
       "    .dataframe thead th {\n",
       "        text-align: right;\n",
       "    }\n",
       "</style>\n",
       "<table border=\"1\" class=\"dataframe\">\n",
       "  <thead>\n",
       "    <tr style=\"text-align: right;\">\n",
       "      <th></th>\n",
       "      <th>Año</th>\n",
       "      <th>Proceso</th>\n",
       "      <th>Órgano</th>\n",
       "      <th>Sexo</th>\n",
       "      <th>Grupo de edad</th>\n",
       "      <th>Cantidad</th>\n",
       "      <th>Tipo de donante</th>\n",
       "    </tr>\n",
       "  </thead>\n",
       "  <tbody>\n",
       "    <tr>\n",
       "      <th>0</th>\n",
       "      <td>2015</td>\n",
       "      <td>Donación</td>\n",
       "      <td>Riñón</td>\n",
       "      <td>Hombre</td>\n",
       "      <td>No aplica</td>\n",
       "      <td>39</td>\n",
       "      <td>Donante vivo</td>\n",
       "    </tr>\n",
       "    <tr>\n",
       "      <th>1</th>\n",
       "      <td>2015</td>\n",
       "      <td>Donación</td>\n",
       "      <td>Riñón</td>\n",
       "      <td>Mujer</td>\n",
       "      <td>No aplica</td>\n",
       "      <td>32</td>\n",
       "      <td>Donante vivo</td>\n",
       "    </tr>\n",
       "    <tr>\n",
       "      <th>2</th>\n",
       "      <td>2015</td>\n",
       "      <td>Donación</td>\n",
       "      <td>Riñón</td>\n",
       "      <td>Hombre</td>\n",
       "      <td>No aplica</td>\n",
       "      <td>70</td>\n",
       "      <td>Donante cadaverico</td>\n",
       "    </tr>\n",
       "    <tr>\n",
       "      <th>3</th>\n",
       "      <td>2015</td>\n",
       "      <td>Donación</td>\n",
       "      <td>Riñón</td>\n",
       "      <td>Mujer</td>\n",
       "      <td>No aplica</td>\n",
       "      <td>48</td>\n",
       "      <td>Donante cadaverico</td>\n",
       "    </tr>\n",
       "    <tr>\n",
       "      <th>4</th>\n",
       "      <td>2015</td>\n",
       "      <td>Donación</td>\n",
       "      <td>Corazón</td>\n",
       "      <td>Hombre</td>\n",
       "      <td>No aplica</td>\n",
       "      <td>0</td>\n",
       "      <td>Donante vivo</td>\n",
       "    </tr>\n",
       "  </tbody>\n",
       "</table>\n",
       "</div>"
      ],
      "text/plain": [
       "    Año   Proceso   Órgano    Sexo Grupo de edad Cantidad     Tipo de donante\n",
       "0  2015  Donación    Riñón  Hombre     No aplica       39       Donante vivo \n",
       "1  2015  Donación    Riñón   Mujer     No aplica       32       Donante vivo \n",
       "2  2015  Donación    Riñón  Hombre     No aplica       70  Donante cadaverico\n",
       "3  2015  Donación    Riñón   Mujer     No aplica       48  Donante cadaverico\n",
       "4  2015  Donación  Corazón  Hombre     No aplica        0       Donante vivo "
      ]
     },
     "execution_count": 3,
     "metadata": {},
     "output_type": "execute_result"
    }
   ],
   "source": [
    "# Load the dataset with encoding='latin1' for Spanish characters and using \";\" as delimiter. Using dtype=object to avoid any automatic type conversion\n",
    "data_path = 'data/raw_trasplantes.csv'\n",
    "df = pd.read_csv(data_path, encoding='latin1', delimiter=';',dtype=object)\n",
    "\n",
    "# Display the first few rows to check the data\n",
    "df.head()"
   ]
  },
  {
   "cell_type": "code",
   "execution_count": 4,
   "metadata": {},
   "outputs": [
    {
     "name": "stdout",
     "output_type": "stream",
     "text": [
      "<class 'pandas.core.frame.DataFrame'>\n",
      "RangeIndex: 2120 entries, 0 to 2119\n",
      "Data columns (total 7 columns):\n",
      " #   Column           Non-Null Count  Dtype \n",
      "---  ------           --------------  ----- \n",
      " 0   Año              2120 non-null   object\n",
      " 1   Proceso          2120 non-null   object\n",
      " 2   Órgano           2120 non-null   object\n",
      " 3   Sexo             2120 non-null   object\n",
      " 4   Grupo de edad    2120 non-null   object\n",
      " 5   Cantidad         2120 non-null   object\n",
      " 6   Tipo de donante  2120 non-null   object\n",
      "dtypes: object(7)\n",
      "memory usage: 116.1+ KB\n"
     ]
    },
    {
     "data": {
      "text/plain": [
       "Año                0\n",
       "Proceso            0\n",
       "Órgano             0\n",
       "Sexo               0\n",
       "Grupo de edad      0\n",
       "Cantidad           0\n",
       "Tipo de donante    0\n",
       "dtype: int64"
      ]
     },
     "execution_count": 4,
     "metadata": {},
     "output_type": "execute_result"
    }
   ],
   "source": [
    "# Display the data types and check for missing values\n",
    "df.info()\n",
    "df.isnull().sum()"
   ]
  },
  {
   "cell_type": "markdown",
   "metadata": {},
   "source": [
    "As there are no null values in the dataset, we do not need to worry about dealing with them. Also, all the columns but `Cantidad` _(Quantity)_ are categorical; our next step is going to be **text standardization** for those categorical columns.\n",
    "\n",
    "- **Strip** spaces and put the text in **title case**.\n",
    "- Check the **unique values** in each column to make sure that there are no duplicates or incorrect values (due to typos, etc.)."
   ]
  },
  {
   "cell_type": "code",
   "execution_count": 5,
   "metadata": {},
   "outputs": [
    {
     "data": {
      "text/html": [
       "<div>\n",
       "<style scoped>\n",
       "    .dataframe tbody tr th:only-of-type {\n",
       "        vertical-align: middle;\n",
       "    }\n",
       "\n",
       "    .dataframe tbody tr th {\n",
       "        vertical-align: top;\n",
       "    }\n",
       "\n",
       "    .dataframe thead th {\n",
       "        text-align: right;\n",
       "    }\n",
       "</style>\n",
       "<table border=\"1\" class=\"dataframe\">\n",
       "  <thead>\n",
       "    <tr style=\"text-align: right;\">\n",
       "      <th></th>\n",
       "      <th>Año</th>\n",
       "      <th>Proceso</th>\n",
       "      <th>Órgano</th>\n",
       "      <th>Sexo</th>\n",
       "      <th>Grupo de edad</th>\n",
       "      <th>Cantidad</th>\n",
       "      <th>Tipo de donante</th>\n",
       "    </tr>\n",
       "  </thead>\n",
       "  <tbody>\n",
       "    <tr>\n",
       "      <th>0</th>\n",
       "      <td>2015</td>\n",
       "      <td>Donación</td>\n",
       "      <td>Riñón</td>\n",
       "      <td>Hombre</td>\n",
       "      <td>No Aplica</td>\n",
       "      <td>39</td>\n",
       "      <td>Donante Vivo</td>\n",
       "    </tr>\n",
       "    <tr>\n",
       "      <th>1</th>\n",
       "      <td>2015</td>\n",
       "      <td>Donación</td>\n",
       "      <td>Riñón</td>\n",
       "      <td>Mujer</td>\n",
       "      <td>No Aplica</td>\n",
       "      <td>32</td>\n",
       "      <td>Donante Vivo</td>\n",
       "    </tr>\n",
       "    <tr>\n",
       "      <th>2</th>\n",
       "      <td>2015</td>\n",
       "      <td>Donación</td>\n",
       "      <td>Riñón</td>\n",
       "      <td>Hombre</td>\n",
       "      <td>No Aplica</td>\n",
       "      <td>70</td>\n",
       "      <td>Donante Cadaverico</td>\n",
       "    </tr>\n",
       "    <tr>\n",
       "      <th>3</th>\n",
       "      <td>2015</td>\n",
       "      <td>Donación</td>\n",
       "      <td>Riñón</td>\n",
       "      <td>Mujer</td>\n",
       "      <td>No Aplica</td>\n",
       "      <td>48</td>\n",
       "      <td>Donante Cadaverico</td>\n",
       "    </tr>\n",
       "    <tr>\n",
       "      <th>4</th>\n",
       "      <td>2015</td>\n",
       "      <td>Donación</td>\n",
       "      <td>Corazón</td>\n",
       "      <td>Hombre</td>\n",
       "      <td>No Aplica</td>\n",
       "      <td>0</td>\n",
       "      <td>Donante Vivo</td>\n",
       "    </tr>\n",
       "  </tbody>\n",
       "</table>\n",
       "</div>"
      ],
      "text/plain": [
       "    Año   Proceso   Órgano    Sexo Grupo de edad Cantidad     Tipo de donante\n",
       "0  2015  Donación    Riñón  Hombre     No Aplica       39        Donante Vivo\n",
       "1  2015  Donación    Riñón   Mujer     No Aplica       32        Donante Vivo\n",
       "2  2015  Donación    Riñón  Hombre     No Aplica       70  Donante Cadaverico\n",
       "3  2015  Donación    Riñón   Mujer     No Aplica       48  Donante Cadaverico\n",
       "4  2015  Donación  Corazón  Hombre     No Aplica        0        Donante Vivo"
      ]
     },
     "execution_count": 5,
     "metadata": {},
     "output_type": "execute_result"
    }
   ],
   "source": [
    "# Standardize text in categorical columns (Strip + TitleCase)\n",
    "df['Año'] = df['Año'].str.strip().str.title()\n",
    "df['Proceso'] = df['Proceso'].str.strip().str.title()\n",
    "df['Órgano'] = df['Órgano'].str.strip().str.title()\n",
    "df['Sexo'] = df['Sexo'].str.strip().str.title()\n",
    "df['Grupo de edad'] = df['Grupo de edad'].str.strip().str.title()\n",
    "df['Tipo de donante'] = df['Tipo de donante'].str.strip().str.title()\n",
    "\n",
    "# Display the first few rows to check the data\n",
    "df.head()"
   ]
  },
  {
   "cell_type": "code",
   "execution_count": 6,
   "metadata": {},
   "outputs": [
    {
     "name": "stdout",
     "output_type": "stream",
     "text": [
      "Unique values in 'Año': ['2015' '2016' '2017' '2018' '2019' '2020' '2021' '2022' '2023'\n",
      " '2024 Ii Trim'] \n",
      "\n",
      "Unique values in 'Proceso': ['Donación' 'Lista De Espera De Donación De Órganos' 'Trasplantes'\n",
      " 'Donación Personas'] \n",
      "\n",
      "Unique values in 'Órgano': ['Riñón' 'Corazón' 'Hígado' 'Pulmón' 'Combinado Riñón-Hígado'\n",
      " 'Tejidos (Córneas)' 'No Aplica' 'Combinado Corazón -Riñón' 'Páncreas'\n",
      " 'Combinado \\nRiñón-Páncreas' 'Combinado Riñón-Pancreas'] \n",
      "\n",
      "Unique values in 'Sexo': ['Hombre' 'Mujer' 'No Aplica'] \n",
      "\n",
      "Unique values in 'Grupo de edad': ['No Aplica' '0-9 Años' '10-19 Años' '20-29 Años' '30-39 Años'\n",
      " '40-49 Años' '50-59 Años' '60-69 Años' '> 70  Años'] \n",
      "\n",
      "Unique values in 'Tipo de donante': ['Donante Vivo' 'Donante Cadaverico' 'No Aplica' 'Donante Cadavérico'] \n",
      "\n"
     ]
    }
   ],
   "source": [
    "# Check for unique values in each column\n",
    "print(\"Unique values in 'Año':\", df['Año'].unique(), \"\\n\")\n",
    "print(\"Unique values in 'Proceso':\", df['Proceso'].unique(), \"\\n\")\n",
    "print(\"Unique values in 'Órgano':\", df['Órgano'].unique(), \"\\n\")\n",
    "print(\"Unique values in 'Sexo':\", df['Sexo'].unique(), \"\\n\")\n",
    "print(\"Unique values in 'Grupo de edad':\", df['Grupo de edad'].unique(), \"\\n\")\n",
    "print(\"Unique values in 'Tipo de donante':\", df['Tipo de donante'].unique(), \"\\n\")"
   ]
  },
  {
   "cell_type": "markdown",
   "metadata": {},
   "source": [
    "Some values require attention. In `Año` (_\"Year\"_), for instance, the year _2024_ includes not only the year itself but also an indication of the trimester (_\"2024 Ii Trim\"_). This shows a clear bias in the data, as the year 2024 contains fewer observations compared to other years, which represent complete annual data.\n",
    "\n",
    "<div class=\"alert alert-block alert-info\">\n",
    "<b>Note:</b> This particular year-bias is going to be important for some of the next steps of the project but, for the time being, we are going to change all the occurrences to \"2024\".\n",
    "</div>\n",
    "\n",
    "As for the other columns, there are some missing and extra characters and accents. We can work on that: "
   ]
  },
  {
   "cell_type": "code",
   "execution_count": 7,
   "metadata": {},
   "outputs": [],
   "source": [
    "# Cleanup: 'Año' (Year)\n",
    "df['Año'] = df['Año'].replace({\n",
    "    '2024 Ii Trim': '2024'\n",
    "})\n",
    "\n",
    "# Cleanup: 'Órgano' (Organ)\n",
    "df['Órgano'] = df['Órgano'].replace({\n",
    "    'Combinado Corazón -Riñón': 'Combinado Corazón-Riñón',\n",
    "    'Combinado \\nRiñón-Páncreas': 'Combinado Riñón-Páncreas',\n",
    "    'Combinado Riñón-Pancreas': 'Combinado Riñón-Páncreas',\n",
    "    'Tejidos (Córneas)': 'Córneas'\n",
    "})\n",
    "\n",
    "# Cleanup: 'Grupo de edad' (Age Group)\n",
    "df['Grupo de edad'] = df['Grupo de edad'].replace({\n",
    "    '> 70  Años': '> 70 Años'\n",
    "})\n",
    "\n",
    "# Cleanup: 'Tipo de donante' (Donor Type)\n",
    "df['Tipo de donante'] = df['Tipo de donante'].replace({\n",
    "    'Donante Cadaverico': 'Donante Cadavérico'\n",
    "})"
   ]
  },
  {
   "cell_type": "code",
   "execution_count": 8,
   "metadata": {},
   "outputs": [
    {
     "name": "stdout",
     "output_type": "stream",
     "text": [
      "Unique values in 'Año': ['2015' '2016' '2017' '2018' '2019' '2020' '2021' '2022' '2023' '2024'] \n",
      "\n",
      "Unique values in 'Órgano': ['Riñón' 'Corazón' 'Hígado' 'Pulmón' 'Combinado Riñón-Hígado' 'Córneas'\n",
      " 'No Aplica' 'Combinado Corazón-Riñón' 'Páncreas'\n",
      " 'Combinado Riñón-Páncreas'] \n",
      "\n",
      "Unique values in 'Grupo de edad': ['No Aplica' '0-9 Años' '10-19 Años' '20-29 Años' '30-39 Años'\n",
      " '40-49 Años' '50-59 Años' '60-69 Años' '> 70 Años'] \n",
      "\n",
      "Unique values in 'Tipo de donante': ['Donante Vivo' 'Donante Cadavérico' 'No Aplica'] \n",
      "\n"
     ]
    }
   ],
   "source": [
    "# Check unique values in each modified column\n",
    "print(\"Unique values in 'Año':\", df['Año'].unique(), \"\\n\")\n",
    "print(\"Unique values in 'Órgano':\", df['Órgano'].unique(), \"\\n\")\n",
    "print(\"Unique values in 'Grupo de edad':\", df['Grupo de edad'].unique(), \"\\n\")\n",
    "print(\"Unique values in 'Tipo de donante':\", df['Tipo de donante'].unique(), \"\\n\")"
   ]
  },
  {
   "cell_type": "markdown",
   "metadata": {},
   "source": [
    "We should also change the data type of `Año` and `Cantidad` to numeric."
   ]
  },
  {
   "cell_type": "code",
   "execution_count": 9,
   "metadata": {},
   "outputs": [
    {
     "data": {
      "text/plain": [
       "Año                0\n",
       "Proceso            0\n",
       "Órgano             0\n",
       "Sexo               0\n",
       "Grupo de edad      0\n",
       "Cantidad           0\n",
       "Tipo de donante    0\n",
       "dtype: int64"
      ]
     },
     "execution_count": 9,
     "metadata": {},
     "output_type": "execute_result"
    }
   ],
   "source": [
    "#  Change 'Año' to numeric\n",
    "df['Año'] = pd.to_numeric(df['Año'], errors='coerce')\n",
    "\n",
    "#  Change 'Cantidad' to numeric\n",
    "df['Cantidad'] = pd.to_numeric(df['Cantidad'], errors='coerce')\n",
    "\n",
    "# Check for null values\n",
    "df.isnull().sum()"
   ]
  },
  {
   "cell_type": "markdown",
   "metadata": {},
   "source": [
    "With the categorical cleanup finished, we can work on the remaining column: `Cantidad`. As this column represent a wide range of numerical values, we start by doing some **descriptive statistics** to get a better understanding of the data."
   ]
  },
  {
   "cell_type": "code",
   "execution_count": null,
   "metadata": {},
   "outputs": [
    {
     "data": {
      "text/plain": [
       "count    2120.000000\n",
       "mean       19.068396\n",
       "std        41.635948\n",
       "min         0.000000\n",
       "25%         0.000000\n",
       "50%         2.000000\n",
       "75%        15.000000\n",
       "max       283.000000\n",
       "Name: Cantidad, dtype: float64"
      ]
     },
     "execution_count": 14,
     "metadata": {},
     "output_type": "execute_result"
    }
   ],
   "source": [
    "# SDtatistical description of the Cantidad column\n",
    "df['Cantidad'].describe()"
   ]
  },
  {
   "cell_type": "code",
   "execution_count": 28,
   "metadata": {},
   "outputs": [
    {
     "name": "stdout",
     "output_type": "stream",
     "text": [
      "Median: 2.0\n",
      "IQR:15.0\n",
      "Lower limit: -22.5\n",
      "Upper limit: 37.5\n"
     ]
    }
   ],
   "source": [
    "# Print the Median\n",
    "print(f\"Median: {df['Cantidad'].median()}\")\n",
    "\n",
    "# Calculate the IQR and the limits\n",
    "q1 = df['Cantidad'].quantile(0.25)\n",
    "q3 = df['Cantidad'].quantile(0.75)\n",
    "iqr = q3 - q1\n",
    "\n",
    "lower_limit = q1 - 1.5 * iqr\n",
    "upper_limit = q3 + 1.5 * iqr\n",
    "\n",
    "print(f\"IQR:{iqr}\\nLower limit: {lower_limit}\\nUpper limit: {upper_limit}\")"
   ]
  },
  {
   "cell_type": "code",
   "execution_count": 18,
   "metadata": {},
   "outputs": [
    {
     "data": {
      "image/png": "[encoded data removed]",
      "text/plain": [
       "<Figure size 800x500 with 1 Axes>"
      ]
     },
     "metadata": {},
     "output_type": "display_data"
    },
    {
     "data": {
      "image/png": "[encoded data removed]",
      "text/plain": [
       "<Figure size 800x500 with 1 Axes>"
      ]
     },
     "metadata": {},
     "output_type": "display_data"
    }
   ],
   "source": [
    "import seaborn as sns\n",
    "import matplotlib.pyplot as plt\n",
    "\n",
    "# Histograma de la columna Cantidad\n",
    "plt.figure(figsize=(8, 5))\n",
    "sns.histplot(df['Cantidad'], bins=30, kde=True, color='blue')\n",
    "plt.title('Distribución de Cantidad', fontsize=14)\n",
    "plt.xlabel('Cantidad', fontsize=12)\n",
    "plt.ylabel('Frecuencia', fontsize=12)\n",
    "plt.show()\n",
    "\n",
    "# Boxplot para identificar outliers\n",
    "plt.figure(figsize=(8, 5))\n",
    "sns.boxplot(x=df['Cantidad'], color='orange')\n",
    "plt.title('Boxplot de Cantidad', fontsize=14)\n",
    "plt.show()\n"
   ]
  },
  {
   "cell_type": "markdown",
   "metadata": {},
   "source": [
    "<br/>\n",
    "<br/>\n",
    "<br/>\n",
    "<br/>\n",
    "<br/>\n",
    "\n",
    "# **x. Exhibits**\n",
    "\n",
    "Additional tools that come in handy for the project execution."
   ]
  },
  {
   "cell_type": "markdown",
   "metadata": {},
   "source": [
    "## x.1 - Python _requirements.txt_ utilities"
   ]
  },
  {
   "cell_type": "code",
   "execution_count": null,
   "metadata": {},
   "outputs": [],
   "source": [
    "# Create requirements.txt file\n",
    "# !pip freeze > requirements.txt\n",
    "\n",
    "# Install requirements.txt\n",
    "# !pip install -r requirements.txt"
   ]
  }
 ],
 "metadata": {
  "colab": {
   "provenance": []
  },
  "kernelspec": {
   "display_name": "Python 3",
   "name": "python3"
  },
  "language_info": {
   "codemirror_mode": {
    "name": "ipython",
    "version": 3
   },
   "file_extension": ".py",
   "mimetype": "text/x-python",
   "name": "python",
   "nbconvert_exporter": "python",
   "pygments_lexer": "ipython3",
   "version": "3.12.4"
  }
 },
 "nbformat": 4,
 "nbformat_minor": 0
}
